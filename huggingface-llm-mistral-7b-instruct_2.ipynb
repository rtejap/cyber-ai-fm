{
 "cells": [
  {
   "cell_type": "markdown",
   "id": "3659451f",
   "metadata": {},
   "source": [
    "# SageMaker JumpStart - invoke text generation endpoint"
   ]
  },
  {
   "cell_type": "markdown",
   "id": "7280a390",
   "metadata": {},
   "source": [
    "This notebook demonstrates how to attach a predictor to an existing endpoint name and invoke the endpoint with example payloads."
   ]
  },
  {
   "cell_type": "code",
   "execution_count": 2,
   "id": "31e7a40e",
   "metadata": {
    "tags": []
   },
   "outputs": [
    {
     "name": "stdout",
     "output_type": "stream",
     "text": [
      "Requirement already satisfied: sagemaker in /opt/conda/lib/python3.8/site-packages (2.214.3)\n",
      "Requirement already satisfied: attrs<24,>=23.1.0 in /opt/conda/lib/python3.8/site-packages (from sagemaker) (23.1.0)\n",
      "Requirement already satisfied: boto3<2.0,>=1.33.3 in /opt/conda/lib/python3.8/site-packages (from sagemaker) (1.33.9)\n",
      "Requirement already satisfied: cloudpickle==2.2.1 in /opt/conda/lib/python3.8/site-packages (from sagemaker) (2.2.1)\n",
      "Requirement already satisfied: google-pasta in /opt/conda/lib/python3.8/site-packages (from sagemaker) (0.2.0)\n",
      "Requirement already satisfied: numpy<2.0,>=1.9.0 in /opt/conda/lib/python3.8/site-packages (from sagemaker) (1.24.4)\n",
      "Requirement already satisfied: protobuf<5.0,>=3.12 in /opt/conda/lib/python3.8/site-packages (from sagemaker) (4.25.1)\n",
      "Requirement already satisfied: smdebug-rulesconfig==1.0.1 in /opt/conda/lib/python3.8/site-packages (from sagemaker) (1.0.1)\n",
      "Requirement already satisfied: importlib-metadata<7.0,>=1.4.0 in /opt/conda/lib/python3.8/site-packages (from sagemaker) (4.8.1)\n",
      "Requirement already satisfied: packaging>=20.0 in /opt/conda/lib/python3.8/site-packages (from sagemaker) (21.0)\n",
      "Requirement already satisfied: pandas in /opt/conda/lib/python3.8/site-packages (from sagemaker) (1.3.4)\n",
      "Requirement already satisfied: pathos in /opt/conda/lib/python3.8/site-packages (from sagemaker) (0.3.1)\n",
      "Requirement already satisfied: schema in /opt/conda/lib/python3.8/site-packages (from sagemaker) (0.7.5)\n",
      "Requirement already satisfied: PyYAML~=6.0 in /opt/conda/lib/python3.8/site-packages (from sagemaker) (6.0)\n",
      "Requirement already satisfied: jsonschema in /opt/conda/lib/python3.8/site-packages (from sagemaker) (4.20.0)\n",
      "Requirement already satisfied: platformdirs in /opt/conda/lib/python3.8/site-packages (from sagemaker) (4.1.0)\n",
      "Requirement already satisfied: tblib<4,>=1.7.0 in /opt/conda/lib/python3.8/site-packages (from sagemaker) (1.7.0)\n",
      "Requirement already satisfied: urllib3<3.0.0,>=1.26.8 in /opt/conda/lib/python3.8/site-packages (from sagemaker) (1.26.18)\n",
      "Requirement already satisfied: requests in /opt/conda/lib/python3.8/site-packages (from sagemaker) (2.31.0)\n",
      "Requirement already satisfied: docker in /opt/conda/lib/python3.8/site-packages (from sagemaker) (6.1.3)\n",
      "Requirement already satisfied: tqdm in /opt/conda/lib/python3.8/site-packages (from sagemaker) (4.62.3)\n",
      "Requirement already satisfied: psutil in /opt/conda/lib/python3.8/site-packages (from sagemaker) (5.8.0)\n",
      "Requirement already satisfied: botocore<1.34.0,>=1.33.9 in /opt/conda/lib/python3.8/site-packages (from boto3<2.0,>=1.33.3->sagemaker) (1.33.9)\n",
      "Requirement already satisfied: jmespath<2.0.0,>=0.7.1 in /opt/conda/lib/python3.8/site-packages (from boto3<2.0,>=1.33.3->sagemaker) (1.0.1)\n",
      "Requirement already satisfied: s3transfer<0.9.0,>=0.8.2 in /opt/conda/lib/python3.8/site-packages (from boto3<2.0,>=1.33.3->sagemaker) (0.8.2)\n",
      "Requirement already satisfied: zipp>=0.5 in /opt/conda/lib/python3.8/site-packages (from importlib-metadata<7.0,>=1.4.0->sagemaker) (3.6.0)\n",
      "Requirement already satisfied: pyparsing>=2.0.2 in /opt/conda/lib/python3.8/site-packages (from packaging>=20.0->sagemaker) (3.0.4)\n",
      "Requirement already satisfied: websocket-client>=0.32.0 in /opt/conda/lib/python3.8/site-packages (from docker->sagemaker) (1.7.0)\n",
      "Requirement already satisfied: charset-normalizer<4,>=2 in /opt/conda/lib/python3.8/site-packages (from requests->sagemaker) (2.0.4)\n",
      "Requirement already satisfied: idna<4,>=2.5 in /opt/conda/lib/python3.8/site-packages (from requests->sagemaker) (3.2)\n",
      "Requirement already satisfied: certifi>=2017.4.17 in /opt/conda/lib/python3.8/site-packages (from requests->sagemaker) (2023.11.17)\n",
      "Requirement already satisfied: six in /opt/conda/lib/python3.8/site-packages (from google-pasta->sagemaker) (1.16.0)\n",
      "Requirement already satisfied: importlib-resources>=1.4.0 in /opt/conda/lib/python3.8/site-packages (from jsonschema->sagemaker) (6.1.1)\n",
      "Requirement already satisfied: jsonschema-specifications>=2023.03.6 in /opt/conda/lib/python3.8/site-packages (from jsonschema->sagemaker) (2023.11.2)\n",
      "Requirement already satisfied: pkgutil-resolve-name>=1.3.10 in /opt/conda/lib/python3.8/site-packages (from jsonschema->sagemaker) (1.3.10)\n",
      "Requirement already satisfied: referencing>=0.28.4 in /opt/conda/lib/python3.8/site-packages (from jsonschema->sagemaker) (0.31.1)\n",
      "Requirement already satisfied: rpds-py>=0.7.1 in /opt/conda/lib/python3.8/site-packages (from jsonschema->sagemaker) (0.13.2)\n",
      "Requirement already satisfied: python-dateutil>=2.7.3 in /opt/conda/lib/python3.8/site-packages (from pandas->sagemaker) (2.8.2)\n",
      "Requirement already satisfied: pytz>=2017.3 in /opt/conda/lib/python3.8/site-packages (from pandas->sagemaker) (2021.3)\n",
      "Requirement already satisfied: ppft>=1.7.6.7 in /opt/conda/lib/python3.8/site-packages (from pathos->sagemaker) (1.7.6.7)\n",
      "Requirement already satisfied: dill>=0.3.7 in /opt/conda/lib/python3.8/site-packages (from pathos->sagemaker) (0.3.7)\n",
      "Requirement already satisfied: pox>=0.3.3 in /opt/conda/lib/python3.8/site-packages (from pathos->sagemaker) (0.3.3)\n",
      "Requirement already satisfied: multiprocess>=0.70.15 in /opt/conda/lib/python3.8/site-packages (from pathos->sagemaker) (0.70.15)\n",
      "Requirement already satisfied: contextlib2>=0.5.5 in /opt/conda/lib/python3.8/site-packages (from schema->sagemaker) (0.6.0.post1)\n",
      "\u001b[33mDEPRECATION: pyodbc 4.0.0-unsupported has a non-standard version number. pip 24.0 will enforce this behaviour change. A possible replacement is to upgrade to a newer version of pyodbc or contact the author to suggest that they release a version with a conforming version number. Discussion can be found at https://github.com/pypa/pip/issues/12063\u001b[0m\u001b[33m\n",
      "\u001b[0m\u001b[33mWARNING: Running pip as the 'root' user can result in broken permissions and conflicting behaviour with the system package manager. It is recommended to use a virtual environment instead: https://pip.pypa.io/warnings/venv\u001b[0m\u001b[33m\n",
      "\u001b[0m\n",
      "\u001b[1m[\u001b[0m\u001b[34;49mnotice\u001b[0m\u001b[1;39;49m]\u001b[0m\u001b[39;49m A new release of pip is available: \u001b[0m\u001b[31;49m23.3.1\u001b[0m\u001b[39;49m -> \u001b[0m\u001b[32;49m24.0\u001b[0m\n",
      "\u001b[1m[\u001b[0m\u001b[34;49mnotice\u001b[0m\u001b[1;39;49m]\u001b[0m\u001b[39;49m To update, run: \u001b[0m\u001b[32;49mpip install --upgrade pip\u001b[0m\n"
     ]
    }
   ],
   "source": [
    "!pip install -U sagemaker"
   ]
  },
  {
   "cell_type": "code",
   "execution_count": 3,
   "id": "aadf550f",
   "metadata": {
    "tags": []
   },
   "outputs": [
    {
     "name": "stdout",
     "output_type": "stream",
     "text": [
      "sagemaker.config INFO - Not applying SDK defaults from location: /etc/xdg/sagemaker/config.yaml\n",
      "sagemaker.config INFO - Not applying SDK defaults from location: /root/.config/sagemaker/config.yaml\n"
     ]
    }
   ],
   "source": [
    "from sagemaker.predictor import retrieve_default"
   ]
  },
  {
   "cell_type": "markdown",
   "id": "b80595b7",
   "metadata": {},
   "source": [
    "Retrieve a predictor from your deployed endpoint name."
   ]
  },
  {
   "cell_type": "code",
   "execution_count": 4,
   "id": "85e938f5",
   "metadata": {
    "collapsed": false,
    "jupyter": {
     "outputs_hidden": false
    },
    "tags": []
   },
   "outputs": [],
   "source": [
    "endpoint_name = \"jumpstart-dft-hf-llm-mistral-7b-instruct-1\"\n",
    "predictor = retrieve_default(endpoint_name)"
   ]
  },
  {
   "cell_type": "markdown",
   "id": "8a866bae",
   "metadata": {},
   "source": [
    "Now query your endpoint with example payloads."
   ]
  },
  {
   "cell_type": "code",
   "execution_count": 5,
   "id": "b725fe06",
   "metadata": {
    "tags": []
   },
   "outputs": [
    {
     "name": "stdout",
     "output_type": "stream",
     "text": [
      "[{'generated_text': \" Mayonnaise is a creamy condiment made primarily from vegetable oil, egg yolks, and vinegar or lemon juice. Here's a simple homemade mayonnaise recipe:\\n\\nIngredients:\\n- 1 1/2 cups vegetable oil (preferably safflower or canola oil)\\n- 2 large egg yolks\\n- 1 tablespoon white vinegar or lemon juice\\n- 1 teaspoon Dijon mustard\\n- 1/2 teaspoon salt\\n- 1/2 cup cold water\\n\\nInstructions:\\n1. In a medium bowl, whisk together the egg yolks, vinegar or lemon juice, mustard, and salt until the yolks are pale in color and the ingredients are well combined. Make sure all the ingredients are at room temperature before starting.\\n2. Drop by drop, very slowly and steadily, add the oil to the egg yolk mixture, continuing to whisk constantly. This process is crucial to prevent the oil from separating from the yolks, creating an emulsion.\\n3. Once you've added about 1/4 of the oil, you can begin to trickle the oil\"}]\n"
     ]
    }
   ],
   "source": [
    "payload = {\n",
    "    \"inputs\": \"<s>[INST] what is the recipe of mayonnaise? [/INST]\",\n",
    "    \"parameters\": {\n",
    "        \"max_new_tokens\": 256,\n",
    "        \"do_sample\": True\n",
    "    }\n",
    "}\n",
    "response = predictor.predict(payload)\n",
    "print(response)"
   ]
  },
  {
   "cell_type": "code",
   "execution_count": 6,
   "id": "221f9fd9",
   "metadata": {
    "tags": []
   },
   "outputs": [
    {
     "name": "stdout",
     "output_type": "stream",
     "text": [
      "[{'generated_text': \" The Eiffel Tower in Paris is an iconic landmark that attracts millions of visitors each year for several reasons:\\n\\n1. Historical Significance: The Eiffel Tower was built in 1889 as the entrance arch for the 1889 Exposition Universelle (World's Fair) and was originally considered a temporary structure. However, its unique design and engineering expertise proved its value and it was later permanently installed as a symbol of Paris and France.\\n2. Engineering Marvel: The Eiffel Tower is an impressive feat of engineering, with a height of over 320 meters (1,050 feet) and a total weight of 10,100 tons. It was the tallest man-made structure in the world when it was built and remains an engineering marvel to this day.\\n3. Stunning Views: The Eiffel Tower offers breathtaking views of Paris and the surrounding area. Visitors can climb the tower to the top and enjoy panoramic views of the city and the river Seine.\\n4. Romantic Atmosphere: The Eiffel Tower is often associated with romance, and many couples come to Paris to propose marriage or celebrate an\"}]\n"
     ]
    }
   ],
   "source": [
    "payload = {\n",
    "    \"inputs\": \"<s>[INST] I am going to Paris, what should I see? [/INST]Paris, the capital of France, is known for its stunning architecture, art museums, historical landmarks, and romantic atmosphere. Here are some of the top attractions to see in Paris:\\n\\n1. The Eiffel Tower: The iconic Eiffel Tower is one of the most recognizable landmarks in the world and offers breathtaking views of the city.\\n2. The Louvre Museum: The Louvre is one of the world's largest and most famous museums, housing an impressive collection of art and artifacts, including the Mona Lisa.\\n3. Notre-Dame Cathedral: This beautiful cathedral is one of the most famous landmarks in Paris and is known for its Gothic architecture and stunning stained glass windows.\\n\\nThese are just a few of the many attractions that Paris has to offer. With so much to see and do, it's no wonder that Paris is one of the most popular tourist destinations in the world.</s>[INST] What is so great about #1? [/INST]\",\n",
    "    \"parameters\": {\n",
    "        \"max_new_tokens\": 256,\n",
    "        \"do_sample\": True\n",
    "    }\n",
    "}\n",
    "response = predictor.predict(payload)\n",
    "print(response)"
   ]
  },
  {
   "cell_type": "code",
   "execution_count": 7,
   "id": "39be7dc0",
   "metadata": {
    "tags": []
   },
   "outputs": [
    {
     "name": "stdout",
     "output_type": "stream",
     "text": [
      "[{'generated_text': ' To list all text files (with `.txt` extension) in the current directory that have been modified within the last month, you can use the following command in Bash:\\n\\n```bash\\nfind . -type f -name \"*.txt\" -mtime 0 -30 -print\\n```\\n\\nLet\\'s break down the command:\\n\\n- `find .`: Start the search from the current directory.\\n- `-type f`: Look for files only, not directories.\\n- `-name \"*.txt\"`: Look for files with the `.txt` extension.\\n- `-mtime 0`: Show files that have been modified today.\\n- `-mtime -30`: Show files that have been modified within the last 30 days.\\n- `-print`: Print the matching file names.\\n\\nSo, the command searches for all text files (`*.txt`) in the current directory (`.`) that have been modified within the last 30 days (`-mtime -30`). The `-type f` option ensures that only files are listed, not directories. The `-print` option'}]\n"
     ]
    }
   ],
   "source": [
    "payload = {\n",
    "    \"inputs\": \"<s>[INST] In Bash, how do I list all text files in the current directory (excluding subdirectories) that have been modified in the last month? [/INST]\",\n",
    "    \"parameters\": {\n",
    "        \"max_new_tokens\": 256,\n",
    "        \"do_sample\": True,\n",
    "        \"temperature\": 0.2\n",
    "    }\n",
    "}\n",
    "response = predictor.predict(payload)\n",
    "print(response)"
   ]
  },
  {
   "cell_type": "code",
   "execution_count": 8,
   "id": "4df59cc5",
   "metadata": {
    "tags": []
   },
   "outputs": [
    {
     "name": "stdout",
     "output_type": "stream",
     "text": [
      "[{'generated_text': \" Inorder and preorder are two common tree traversal methods used to traverse or visit all the nodes in a binary tree. Here's a brief explanation of both traversals and the differences between them:\\n\\n**Inorder Traversal:**\\nIn an inorder traversal, the left subtree is visited first, then the root node, and finally the right subtree. This means that the traversal is done as follows: Left Subtree -> Current Node -> Right Subtree.\\n\\n**Preorder Traversal:**\\nIn a preorder traversal, the root node is visited first, then the left subtree, and finally the right subtree. This means that the traversal is done as follows: Current Node -> Left Subtree -> Right Subtree.\\n\\nHere's an example of inorder and preorder traversals in Python using a binary tree:\\n\\n```python\\nclass Node:\\n    def __init__(self, key):\\n        self.left = None\\n        self.right = None\\n        self.val = key\\n\\ndef inorder_traversal(root):\\n    if root is None:\\n        return\\n    inorder_traversal(root.left\"}]\n"
     ]
    }
   ],
   "source": [
    "payload = {\n",
    "    \"inputs\": \"<s>[INST] What is the difference between inorder and preorder traversal? Give an example in Python. [/INST]\",\n",
    "    \"parameters\": {\n",
    "        \"max_new_tokens\": 256,\n",
    "        \"do_sample\": True,\n",
    "        \"temperature\": 0.2\n",
    "    }\n",
    "}\n",
    "response = predictor.predict(payload)\n",
    "print(response)"
   ]
  },
  {
   "cell_type": "markdown",
   "id": "cd883242",
   "metadata": {},
   "source": [
    "This model supports the following payload parameters. You may specify any subset of these parameters when invoking an endpoint.\n",
    "\n",
    "* **do_sample:** If True, activates logits sampling. If specified, it must be boolean.\n",
    "* **max_new_tokens:** Maximum number of generated tokens. If specified, it must be a positive integer.\n",
    "* **repetition_penalty:** A penalty for repetitive generated text. 1.0 means no penalty.\n",
    "* **return_full_text:** If True, input text will be part of the output generated text. If specified, it must be boolean. The default value for it is False.\n",
    "* **stop**: If specified, it must a list of strings. Text generation stops if any one of the specified strings is generated.\n",
    "* **seed**: Random sampling seed.\n",
    "* **temperature:** Controls the randomness in the output. Higher temperature results in output sequence with low-probability words and lower temperature results in output sequence with high-probability words. If `temperature` -> 0, it results in greedy decoding. If specified, it must be a positive float.\n",
    "* **top_k:** In each step of text generation, sample from only the `top_k` most likely words. If specified, it must be a positive integer.\n",
    "* **top_p:** In each step of text generation, sample from the smallest possible set of words with cumulative probability `top_p`. If specified, it must be a float between 0 and 1.\n",
    "* **truncate:** Truncate inputs tokens to the given size.\n",
    "* **typical_p:** Typical decoding mass, according to [Typical Decoding for Natural Language Generation](https://arxiv.org/abs/2202.00666).\n",
    "* **best_of:** Generate best_of sequences and return the one if the highest token logprobs.\n",
    "* **watermark:** Whether to perform watermarking with [A Watermark for Large Language Models](https://arxiv.org/abs/2301.10226).\n",
    "* **details:** Return generation details, to include output token logprobs and IDs.\n",
    "* **decoder_input_details:** Return decoder input token logprobs and IDs.\n",
    "* **top_n_tokens:** Return the N most likely tokens at each step."
   ]
  },
  {
   "cell_type": "code",
   "execution_count": 10,
   "id": "0d67f890-e030-4c15-8991-3ae79c5d151a",
   "metadata": {
    "tags": []
   },
   "outputs": [],
   "source": [
    "from typing import Dict, List\n",
    "\n",
    "\n",
    "def format_instructions(instructions: List[Dict[str, str]]) -> List[str]:\n",
    "    \"\"\"Format instructions where conversation roles must alternate user/assistant/user/assistant/...\"\"\"\n",
    "    prompt: List[str] = []\n",
    "    for user, answer in zip(instructions[::2], instructions[1::2]):\n",
    "        prompt.extend([\"<s>\", \"[INST] \", (user[\"content\"]).strip(), \" [/INST] \", (answer[\"content\"]).strip(), \"</s>\"])\n",
    "    prompt.extend([\"<s>\", \"[INST] \", (instructions[-1][\"content\"]).strip(), \" [/INST] \"])\n",
    "    return \"\".join(prompt)\n",
    "\n",
    "\n",
    "def print_prompt_and_response(prompt: str, response: str) -> None:\n",
    "    bold, unbold = '\\033[1m', '\\033[0m'\n",
    "    print(f\"{bold}> Input{unbold}\\n{prompt}\\n\\n{bold}> Output{unbold}\\n{response[0]['generated_text']}\\n\")"
   ]
  },
  {
   "cell_type": "code",
   "execution_count": 58,
   "id": "0007ccbd-1013-4525-807d-1123389f4217",
   "metadata": {
    "tags": []
   },
   "outputs": [
    {
     "name": "stdout",
     "output_type": "stream",
     "text": [
      "\u001b[1m> Input\u001b[0m\n",
      "Compose a Legal Auto Claims Policy between the Insurer Chubb and Matthew Wheeler     \n",
      "Address: USCGC Hall\n",
      "FPO AP 23791 \n",
      "Email:   nathan67@example.org       \n",
      " The Legal Auto Claims Policy must include the Address and Email Information at the beginning of the Legal Auto Claims Policy.      \n",
      "The Legal Policy must have different subsections.    The subsections are     a) Automobile Liability Insurance. b) Automobile Medical Payments. c) Automobile Debt Indemnity Insurance.     d) Uninsured Motorists Insurance. e) Default Provisions. f) Personal Injury Protection. g) Collision Insurance. h) Comprehensive Insurance. i) Rental Reimbursement Insurance. j) Towing and Labor Coverage.    k) Waiver of Deductible. Each subsection must include Exclusions.  Each subsection must include LIMITS OF LIABILITY; What is not covered.     The Legal Auto Claims Policy must also include the following mailing contact information Joshua Palmer, 549 Stacey Squares Suite 669\n",
      "Johnsonport, MT 63982,kevin44@example.org     \n",
      "\n",
      "\u001b[1m> Output\u001b[0m\n",
      "1. Allstate Insurance Company\n",
      "\n",
      "2. State Farm Insurance\n",
      "3. Progressive Corporation\n",
      "4. Liberty Mutual Insurance\n",
      "5. Geico\n",
      "6. Farmers Insurance Group\n",
      "7. Travelers Insurance\n",
      "8. Nationwide Mutual Insurance Company\n",
      "9. American Family Insurance\n",
      "10. USAA\n",
      "11. Chubb Limited\n",
      "12. Hartford Financial Services Group\n",
      "13. AIG (American International Group)\n",
      "14. MetLife\n",
      "15. The Hartford\n",
      "16. The Travelers Companies\n",
      "17. Zurich Insurance Group\n",
      "18. Cigna\n",
      "19. UnitedHealthcare\n",
      "20. Aetna\n",
      "21. Blue Cross Blue Shield Association\n",
      "22. Anthem, Inc.\n",
      "23. Humana\n",
      "24. UnitedHealth Group\n",
      "25. Kaiser Permanente\n",
      "26. Health Care Service Corporation\n",
      "27. CVS Health\n",
      "28. United States Fire Insurance Company\n",
      "29. The Hanover Insurance Group\n",
      "30. The Hartford Financial Services Group, Inc.\n",
      "31. The Cincinnati Insurance Company\n",
      "32. The Hartford Steam Boiler Inspection and Insurance Company\n",
      "\n",
      "\n"
     ]
    }
   ],
   "source": [
    "instructions = [\n",
    "    {\n",
    "        \"role\": \"user\",\n",
    "        \"content\": \" Provide me a list of 100 companies that provide different types of insurance\",\n",
    "    }\n",
    "]\n",
    "prompt_insurance = format_instructions(instructions)\n",
    "payload = {\n",
    "    \"inputs\": prompt_insurance,\n",
    "    \"parameters\": {\"max_new_tokens\": 256, \"do_sample\": True, \"temperature\": 0.2}\n",
    "}\n",
    "response = predictor.predict(payload)\n",
    "print_prompt_and_response(prompt, response)"
   ]
  },
  {
   "cell_type": "code",
   "execution_count": 14,
   "id": "b5aa36df-84cf-4bee-86ce-584a96d0ed12",
   "metadata": {
    "tags": []
   },
   "outputs": [
    {
     "name": "stdout",
     "output_type": "stream",
     "text": [
      "Collecting faker\n",
      "  Using cached Faker-24.7.1-py3-none-any.whl.metadata (15 kB)\n",
      "Requirement already satisfied: python-dateutil>=2.4 in /opt/conda/lib/python3.8/site-packages (from faker) (2.8.2)\n",
      "Requirement already satisfied: typing-extensions>=3.10.0.1 in /opt/conda/lib/python3.8/site-packages (from faker) (4.8.0)\n",
      "Requirement already satisfied: six>=1.5 in /opt/conda/lib/python3.8/site-packages (from python-dateutil>=2.4->faker) (1.16.0)\n",
      "Using cached Faker-24.7.1-py3-none-any.whl (1.8 MB)\n",
      "\u001b[33mDEPRECATION: pyodbc 4.0.0-unsupported has a non-standard version number. pip 24.0 will enforce this behaviour change. A possible replacement is to upgrade to a newer version of pyodbc or contact the author to suggest that they release a version with a conforming version number. Discussion can be found at https://github.com/pypa/pip/issues/12063\u001b[0m\u001b[33m\n",
      "\u001b[0mInstalling collected packages: faker\n",
      "Successfully installed faker-24.7.1\n",
      "\u001b[33mWARNING: Running pip as the 'root' user can result in broken permissions and conflicting behaviour with the system package manager. It is recommended to use a virtual environment instead: https://pip.pypa.io/warnings/venv\u001b[0m\u001b[33m\n",
      "\u001b[0m\n",
      "\u001b[1m[\u001b[0m\u001b[34;49mnotice\u001b[0m\u001b[1;39;49m]\u001b[0m\u001b[39;49m A new release of pip is available: \u001b[0m\u001b[31;49m23.3.1\u001b[0m\u001b[39;49m -> \u001b[0m\u001b[32;49m24.0\u001b[0m\n",
      "\u001b[1m[\u001b[0m\u001b[34;49mnotice\u001b[0m\u001b[1;39;49m]\u001b[0m\u001b[39;49m To update, run: \u001b[0m\u001b[32;49mpip install --upgrade pip\u001b[0m\n"
     ]
    }
   ],
   "source": [
    "!pip install faker"
   ]
  },
  {
   "cell_type": "code",
   "execution_count": 71,
   "id": "b19f5779-8a32-4135-bbb0-335727cf0aba",
   "metadata": {
    "tags": []
   },
   "outputs": [],
   "source": [
    "import numpy as np\n",
    "import random"
   ]
  },
  {
   "cell_type": "code",
   "execution_count": 72,
   "id": "8ef781ee-054a-49ec-8527-a75bd21005be",
   "metadata": {
    "tags": []
   },
   "outputs": [],
   "source": [
    "company_names = np.array(['1. Allstate Insurance Company',\n",
    "\n",
    "'State Farm Insurance',\n",
    "'Progressive Corporation',\n",
    "'Liberty Mutual Insurance',\n",
    "'Geico',\n",
    "'Farmers Insurance Group',\n",
    "'Travelers Insurance',\n",
    "'Nationwide Mutual Insurance Company','American Family Insurance',\n",
    "'USAA',\n",
    "'Chubb Limited',\n",
    "'Hartford Financial Services Group',\n",
    "'AIG (American International Group)',\n",
    "'MetLife',\n",
    "'The Hartford',\n",
    "'The Travelers Companies',\n",
    "'Zurich Insurance Group',\n",
    "'Cigna',\n",
    "'UnitedHealthcare',\n",
    "'Aetna',\n",
    "'Blue Cross Blue Shield Association',\n",
    "'Anthem, Inc.',\n",
    "'Humana',\n",
    "'UnitedHealth Group',\n",
    "'Kaiser Permanente',\n",
    "'Health Care Service Corporation',\n",
    "'CVS Health',\n",
    "'United States Fire Insurance Company',\n",
    "'The Hanover Insurance Group',\n",
    "'The Hartford Financial Services Group, Inc.',\n",
    "'The Cincinnati Insurance Company'])"
   ]
  },
  {
   "cell_type": "code",
   "execution_count": 75,
   "id": "4b6e651e-2362-4260-a3d1-d7a4e5c90002",
   "metadata": {
    "tags": []
   },
   "outputs": [
    {
     "data": {
      "text/plain": [
       "'CVS Health'"
      ]
     },
     "execution_count": 75,
     "metadata": {},
     "output_type": "execute_result"
    }
   ],
   "source": [
    "random.choice(company_names)"
   ]
  },
  {
   "cell_type": "code",
   "execution_count": null,
   "id": "269cd467-f676-4995-9b00-e2cc094d60b2",
   "metadata": {},
   "outputs": [],
   "source": [
    "#contract_id/contract_number --> YES\n",
    "#contract_effective_date --> YES\n",
    "#contract title --> YES\n",
    "#Primary/secondary name --> Yes\n",
    "#Contract Notice Party --> Yes\n",
    "#ATTN:(Point of Contact) --> \n",
    "#Address --> YES\n",
    "#Email --> YES\n",
    "#Contract Type --> YES(\"Auto Insurance\")\n",
    "#General Description of the contract\n",
    "#Payment amount --> YES\n",
    "#Default Provisions --> NO/ also make it variable length\n",
    "#Termination date --> NO\n"
   ]
  },
  {
   "cell_type": "code",
   "execution_count": 60,
   "id": "e72f7aa3-ee3b-4b3b-876b-1136630cdae4",
   "metadata": {
    "tags": []
   },
   "outputs": [
    {
     "data": {
      "text/plain": [
       "'Herrera-Hudson'"
      ]
     },
     "execution_count": 60,
     "metadata": {},
     "output_type": "execute_result"
    }
   ],
   "source": [
    "fake.company()"
   ]
  },
  {
   "cell_type": "code",
   "execution_count": 42,
   "id": "e30afd82-ecaf-468c-96c8-647b971c577d",
   "metadata": {
    "tags": []
   },
   "outputs": [
    {
     "name": "stdout",
     "output_type": "stream",
     "text": [
      "1955-12-10\n",
      "1992-03-04\n"
     ]
    }
   ],
   "source": [
    "a1 = fake.date_of_birth()\n",
    "b1 = fake.date_of_birth()\n",
    "print(a1)\n",
    "print(b1)"
   ]
  },
  {
   "cell_type": "code",
   "execution_count": 49,
   "id": "a77c456f-4994-4e61-b5e8-54d9de499b50",
   "metadata": {
    "tags": []
   },
   "outputs": [
    {
     "name": "stdout",
     "output_type": "stream",
     "text": [
      "Policy Beginning date 1955-12-10\n",
      "Policy End date 1992-3-4\n",
      "13234 days, 0:00:00\n"
     ]
    }
   ],
   "source": [
    "if a1 < b1:\n",
    "    print(\"Policy Beginning date \"+ str(a1.year)+'-'+str(a1.month)+'-'+str(a1.day))\n",
    "    print(\"Policy End date \"+ str(b1.year)+'-'+str(b1.month)+'-'+str(b1.day))\n",
    "else:\n",
    "    print(\"Policy Beginning date \"+ str(b1.year)+'-'+str(b1.month)+'-'+str(b1.day))\n",
    "    print(\"Policy End date \"+ str(a1.year)+'-'+str(a1.month)+'-'+str(a1.day))\n",
    "\n",
    "print(abs(a1-b1))"
   ]
  },
  {
   "cell_type": "code",
   "execution_count": 22,
   "id": "e082c954-65b1-464c-9c07-68674f59673c",
   "metadata": {
    "tags": []
   },
   "outputs": [
    {
     "data": {
      "text/plain": [
       "'GRJ71ULcGLorOHKk'"
      ]
     },
     "execution_count": 22,
     "metadata": {},
     "output_type": "execute_result"
    }
   ],
   "source": [
    "fake.password(length = 16, special_chars = False, )"
   ]
  },
  {
   "cell_type": "code",
   "execution_count": 19,
   "id": "032d9eac-5339-4f46-b7fe-342f21cecb20",
   "metadata": {
    "tags": []
   },
   "outputs": [
    {
     "data": {
      "text/plain": [
       "'77c97ec0-f9c7-4887-a183-940ad3b7f0b6'"
      ]
     },
     "execution_count": 19,
     "metadata": {},
     "output_type": "execute_result"
    }
   ],
   "source": [
    "fake.uuid4()"
   ]
  },
  {
   "cell_type": "code",
   "execution_count": 82,
   "id": "173efb4e-94f2-44e1-a15a-cc820ecfe1f8",
   "metadata": {
    "tags": []
   },
   "outputs": [
    {
     "data": {
      "text/plain": [
       "['EWJBMucsA44Souxw', 'bb312cf5-d585-4f6b-9a9e-1d3d2622463e']"
      ]
     },
     "execution_count": 82,
     "metadata": {},
     "output_type": "execute_result"
    }
   ],
   "source": [
    "contract_id = [fake.password(length = 16, special_chars = False ),fake.uuid4()]\n",
    "contract_id"
   ]
  },
  {
   "cell_type": "code",
   "execution_count": 89,
   "id": "9dc54a37-de22-4be5-85a7-7efa2c9a1db2",
   "metadata": {
    "tags": []
   },
   "outputs": [
    {
     "name": "stdout",
     "output_type": "stream",
     "text": [
      "275655\n"
     ]
    }
   ],
   "source": [
    "from random import randrange\n",
    "premium_amount = randrange(10000,1000000)\n",
    "print(premium_amount)"
   ]
  },
  {
   "cell_type": "code",
   "execution_count": 92,
   "id": "5186ae04-4356-4e68-ac9e-858422a53625",
   "metadata": {
    "tags": []
   },
   "outputs": [
    {
     "name": "stdout",
     "output_type": "stream",
     "text": [
      "Compose a Legal Auto Claims Policy between the Insurer The Cincinnati Insurance Company and David Brown \\. The following are the details of the Insurer.     \n",
      "Address: 174 Alicia Shoal Apt. 549\n",
      "South Jacquelineton, VA 79632 \n",
      "Email:   fmartin@example.org. The Policy Number  for the Legal Auto Claims Policy is ['PGdmAXjYG4uzCMTc', '8838dba8-23f7-4ad1-8305-fe624cfe66a8'].     \n",
      "The Start date of the Legal Auto Claims Policy is 1981-3-29 and the End date of Legal Auto Claims Policy is 1983-8-21.     \n",
      "The policy has a premium amount of 275655.     \n",
      "The Legal Auto Claims Policy must include the Address and Email Information at the beginning of the Legal Auto Claims Policy.      \n",
      "The Legal Auto Claims Policy must include the Policy Number at the beginning of the Legal Auto Claims Policy.      \n",
      "The Legal Auto Claims Policy must include the Start date and End date at the beginning of the Legal Auto Claims Policy.      \n",
      "The Legal Policy must have different subsections.    The subsections are     a) Automobile Liability Insurance. b) Automobile Medical Payments. c) Automobile Debt Indemnity Insurance.     d) Uninsured Motorists Insurance. e) Default Provisions. f) Personal Injury Protection. g) Collision Insurance. h) Comprehensive Insurance. i) Rental Reimbursement Insurance. j) Towing and Labor Coverage.    k) Waiver of Deductible. Each subsection must include Exclusions.  Each subsection must include LIMITS OF LIABILITY; What is not covered.     The Legal Auto Claims Policy must also include the following mailing contact information Caitlin Parker, 61879 Breanna Plaza\n",
      "Spencerbury, KY 37994,jamie35@example.org     \n"
     ]
    }
   ],
   "source": [
    "prompt = \"Compose a Legal Auto Claims Policy between the Insurer {} and {} \\. The following are the details of the Insurer. \\\n",
    "    \\nAddress: {} \\nEmail:   {}. The Policy Number  for the Legal Auto Claims Policy is {}. \\\n",
    "    \\nThe Start date of the Legal Auto Claims Policy is {} and the End date of Legal Auto Claims Policy is {}. \\\n",
    "    \\nThe policy has a premium amount of {}. \\\n",
    "    \\nThe Legal Auto Claims Policy must include the Address and Email Information at the beginning of the Legal Auto Claims Policy.  \\\n",
    "    \\nThe Legal Auto Claims Policy must include the Policy Number at the beginning of the Legal Auto Claims Policy.  \\\n",
    "    \\nThe Legal Auto Claims Policy must include the Start date and End date at the beginning of the Legal Auto Claims Policy.  \\\n",
    "    \\nThe Legal Policy must have different subsections.\\\n",
    "    The subsections are \\\n",
    "    a) Automobile Liability Insurance. b) Automobile Medical Payments. c) Automobile Debt Indemnity Insurance. \\\n",
    "    d) Uninsured Motorists Insurance. e) Default Provisions. f) Personal Injury Protection. g) Collision Insurance. h) Comprehensive Insurance. i) Rental Reimbursement Insurance. j) Towing and Labor Coverage.\\\n",
    "    k) Waiver of Deductible. Each subsection must include Exclusions.  Each subsection must include LIMITS OF LIABILITY; What is not covered. \\\n",
    "    The Legal Auto Claims Policy must also include the following mailing contact information {}, {},{} \\\n",
    "    \".format(company_name,primary_name,primary_address,primary_email_address,contract_id,begin_date, end_date,premium_amount, secondary_name,secondary_address,secondary_email_address)\n",
    "print(prompt)   "
   ]
  },
  {
   "cell_type": "code",
   "execution_count": 105,
   "id": "68368eda-7614-4711-a5e2-b4e4deb446ba",
   "metadata": {
    "tags": []
   },
   "outputs": [],
   "source": [
    "#Loop for producing synthetic policies and outputting csv\n",
    "from faker import Faker \n",
    "import pandas as pd\n",
    "\n",
    "output_list = []\n",
    "for i in range(1,3):\n",
    "    #gen fake info \n",
    "    fake = Faker()\n",
    "    primary_name = fake.name()\n",
    "    primary_address = fake.address()\n",
    "    primary_city = fake.city()\n",
    "    primary_state = fake.state()\n",
    "    primary_zip = fake.zipcode()\n",
    "    primary_email_address   = fake.email()\n",
    "    secondary_name = fake.name()\n",
    "    secondary_address = fake.address()\n",
    "    secondary_email_address   = fake.email()\n",
    "    company_name = random.choice(company_names)\n",
    "    contract_id = random.choice([fake.password(length = 16, special_chars = False ),fake.uuid4()])\n",
    "    a1 = fake.date_of_birth()\n",
    "    b1  = fake.date_of_birth()\n",
    "    \n",
    "    if a1 < b1:\n",
    "        begin_date = str(a1.year)+'-'+str(a1.month)+'-'+str(a1.day)\n",
    "        end_date   =   str(b1.year)+'-'+str(b1.month)+'-'+str(b1.day)\n",
    "    else:\n",
    "        begin_date = str(b1.year)+'-'+str(b1.month)+'-'+str(b1.day)\n",
    "        end_date   =   str(a1.year)+'-'+str(a1.month)+'-'+str(a1.day)\n",
    "\n",
    "\n",
    "    \n",
    "    #prompt enginer \n",
    "    prompt = \"Compose a Legal Auto Claims Policy between the Insurer {} and {} \\. The following are the details of the Insurer. \\\n",
    "    \\nAddress: {} \\nEmail:   {}. The Policy Number  for the Legal Auto Claims Policy is {}. \\\n",
    "    \\nThe Start date of the Legal Auto Claims Policy is {} and the End date of Legal Auto Claims Policy is {}. \\\n",
    "    \\nThe policy has a premium amount of {}. \\\n",
    "    \\nThe Legal Auto Claims Policy must include the Address and Email Information at the beginning of the Legal Auto Claims Policy.  \\\n",
    "    \\nThe Legal Auto Claims Policy must include the Policy Number at the beginning of the Legal Auto Claims Policy.  \\\n",
    "    \\nThe Legal Auto Claims Policy must include the Start date and End date at the beginning of the Legal Auto Claims Policy.  \\\n",
    "    \\nThe Legal Policy must have different subsections.\\\n",
    "    The subsections are \\\n",
    "    a) Automobile Liability Insurance. b) Automobile Medical Payments. c) Automobile Debt Indemnity Insurance. \\\n",
    "    d) Uninsured Motorists Insurance. e) Default Provisions. f) Personal Injury Protection. g) Collision Insurance. h) Comprehensive Insurance. i) Rental Reimbursement Insurance. j) Towing and Labor Coverage.\\\n",
    "    k) Waiver of Deductible. Each subsection must include Exclusions.  Each subsection must include LIMITS OF LIABILITY; What is not covered. \\\n",
    "    The Legal Auto Claims Policy must also include the following mailing contact information {}, {},{} \\\n",
    "    \".format(company_name,primary_name,primary_address,primary_email_address,contract_id,begin_date, end_date,premium_amount, secondary_name,secondary_address,secondary_email_address)\n",
    "    payload = {\n",
    "        \"inputs\": prompt,\n",
    "        \"parameters\": {\n",
    "            \"max_new_tokens\": 1200,\n",
    "            \"no_repeat_ngram_size\": 3,\n",
    "        },\n",
    "    }\n",
    "    response = predictor.predict(payload)\n",
    "    #add respons to output list \n",
    "    output_list.append(response[0]['generated_text'])\n",
    "\n",
    "pd.DataFrame(output_list).to_csv(\"synth_polcies.csv\")"
   ]
  },
  {
   "cell_type": "code",
   "execution_count": 114,
   "id": "2e17ce09-491f-4150-9605-71f103e32538",
   "metadata": {
    "tags": []
   },
   "outputs": [
    {
     "name": "stdout",
     "output_type": "stream",
     "text": [
      "Collecting aspose-pdf\n",
      "  Downloading aspose_pdf-24.3.0-py3-none-manylinux1_x86_64.whl.metadata (13 kB)\n",
      "Downloading aspose_pdf-24.3.0-py3-none-manylinux1_x86_64.whl (102.1 MB)\n",
      "\u001b[2K   \u001b[90m━━━━━━━━━━━━━━━━━━━━━━━━━━━━━━━━━━━━━━━━\u001b[0m \u001b[32m102.1/102.1 MB\u001b[0m \u001b[31m4.1 MB/s\u001b[0m eta \u001b[36m0:00:00\u001b[0m:00:01\u001b[0m00:01\u001b[0m\n",
      "\u001b[?25h\u001b[33mDEPRECATION: pyodbc 4.0.0-unsupported has a non-standard version number. pip 24.0 will enforce this behaviour change. A possible replacement is to upgrade to a newer version of pyodbc or contact the author to suggest that they release a version with a conforming version number. Discussion can be found at https://github.com/pypa/pip/issues/12063\u001b[0m\u001b[33m\n",
      "\u001b[0mInstalling collected packages: aspose-pdf\n",
      "Successfully installed aspose-pdf-24.3.0\n",
      "\u001b[33mWARNING: Running pip as the 'root' user can result in broken permissions and conflicting behaviour with the system package manager. It is recommended to use a virtual environment instead: https://pip.pypa.io/warnings/venv\u001b[0m\u001b[33m\n",
      "\u001b[0m\n",
      "\u001b[1m[\u001b[0m\u001b[34;49mnotice\u001b[0m\u001b[1;39;49m]\u001b[0m\u001b[39;49m A new release of pip is available: \u001b[0m\u001b[31;49m23.3.1\u001b[0m\u001b[39;49m -> \u001b[0m\u001b[32;49m24.0\u001b[0m\n",
      "\u001b[1m[\u001b[0m\u001b[34;49mnotice\u001b[0m\u001b[1;39;49m]\u001b[0m\u001b[39;49m To update, run: \u001b[0m\u001b[32;49mpip install --upgrade pip\u001b[0m\n"
     ]
    }
   ],
   "source": [
    "!pip install aspose-pdf"
   ]
  },
  {
   "cell_type": "code",
   "execution_count": 125,
   "id": "aa676b2c-5884-4aeb-b588-84447ffeb36b",
   "metadata": {
    "tags": []
   },
   "outputs": [
    {
     "name": "stdout",
     "output_type": "stream",
     "text": [
      "Collecting fpdf\n",
      "  Downloading fpdf-1.7.2.tar.gz (39 kB)\n",
      "  Preparing metadata (setup.py) ... \u001b[?25ldone\n",
      "\u001b[?25hBuilding wheels for collected packages: fpdf\n",
      "  Building wheel for fpdf (setup.py) ... \u001b[?25ldone\n",
      "\u001b[?25h  Created wheel for fpdf: filename=fpdf-1.7.2-py2.py3-none-any.whl size=40703 sha256=a43a69899a29b92c945dae5fd81781db86bdf8088a8b41ff894b0f46bff95455\n",
      "  Stored in directory: /root/.cache/pip/wheels/b4/7f/00/f90ea7c44f8b921477205baa66a7aaf04be398f743ea946fd5\n",
      "Successfully built fpdf\n",
      "\u001b[33mDEPRECATION: pyodbc 4.0.0-unsupported has a non-standard version number. pip 24.0 will enforce this behaviour change. A possible replacement is to upgrade to a newer version of pyodbc or contact the author to suggest that they release a version with a conforming version number. Discussion can be found at https://github.com/pypa/pip/issues/12063\u001b[0m\u001b[33m\n",
      "\u001b[0mInstalling collected packages: fpdf\n",
      "Successfully installed fpdf-1.7.2\n",
      "\u001b[33mWARNING: Running pip as the 'root' user can result in broken permissions and conflicting behaviour with the system package manager. It is recommended to use a virtual environment instead: https://pip.pypa.io/warnings/venv\u001b[0m\u001b[33m\n",
      "\u001b[0m\n",
      "\u001b[1m[\u001b[0m\u001b[34;49mnotice\u001b[0m\u001b[1;39;49m]\u001b[0m\u001b[39;49m A new release of pip is available: \u001b[0m\u001b[31;49m23.3.1\u001b[0m\u001b[39;49m -> \u001b[0m\u001b[32;49m24.0\u001b[0m\n",
      "\u001b[1m[\u001b[0m\u001b[34;49mnotice\u001b[0m\u001b[1;39;49m]\u001b[0m\u001b[39;49m To update, run: \u001b[0m\u001b[32;49mpip install --upgrade pip\u001b[0m\n"
     ]
    }
   ],
   "source": [
    "!pip install fpdf"
   ]
  },
  {
   "cell_type": "code",
   "execution_count": 126,
   "id": "d3e0dfb3-4fd1-4b1a-ac56-bff13c0c91eb",
   "metadata": {
    "tags": []
   },
   "outputs": [],
   "source": [
    "from fpdf import FPDF"
   ]
  },
  {
   "cell_type": "code",
   "execution_count": 130,
   "id": "9e60d0aa-985a-4702-a481-d6d4871490e0",
   "metadata": {
    "tags": []
   },
   "outputs": [
    {
     "data": {
      "text/plain": [
       "''"
      ]
     },
     "execution_count": 130,
     "metadata": {},
     "output_type": "execute_result"
    }
   ],
   "source": [
    "# Python program to create\n",
    "# a pdf file\n",
    "\n",
    "\n",
    "from fpdf import FPDF\n",
    "\n",
    "\n",
    "# save FPDF() class into a \n",
    "# variable pdf\n",
    "pdf = FPDF()\n",
    "\n",
    "# Add a page\n",
    "pdf.add_page()\n",
    "\n",
    "# set style and size of font \n",
    "# that you want in the pdf\n",
    "pdf.set_font(\"Arial\", size = 15)\n",
    "\n",
    "# create a cell\n",
    "pdf.multi_cell(200, 10, txt = output_list[0], \n",
    "\t\t align = 'C')\n",
    "\n",
    "\n",
    "# save the pdf with name .pdf\n",
    "pdf.output(\"output_0_v2a.pdf\") \n"
   ]
  },
  {
   "cell_type": "code",
   "execution_count": 131,
   "id": "881c9dec-f467-4fff-bef4-b162371aa46e",
   "metadata": {
    "tags": []
   },
   "outputs": [
    {
     "data": {
      "text/plain": [
       "''"
      ]
     },
     "execution_count": 131,
     "metadata": {},
     "output_type": "execute_result"
    }
   ],
   "source": [
    "# Python program to create\n",
    "# a pdf file\n",
    "\n",
    "\n",
    "from fpdf import FPDF\n",
    "\n",
    "\n",
    "# save FPDF() class into a \n",
    "# variable pdf\n",
    "pdf = FPDF()\n",
    "\n",
    "# Add a page\n",
    "pdf.add_page()\n",
    "\n",
    "# set style and size of font \n",
    "# that you want in the pdf\n",
    "pdf.set_font(\"Arial\", size = 15)\n",
    "\n",
    "# create a cell\n",
    "pdf.multi_cell(200, 10, txt = output_list[1], \n",
    "\t\t align = 'C')\n",
    "\n",
    "\n",
    "# save the pdf with name .pdf\n",
    "pdf.output(\"output_1_v2a.pdf\") \n"
   ]
  },
  {
   "cell_type": "code",
   "execution_count": 113,
   "id": "f44c63af-89f2-4f63-aaa5-282fb4c07c8b",
   "metadata": {
    "tags": []
   },
   "outputs": [
    {
     "name": "stdout",
     "output_type": "stream",
     "text": [
      "\n",
      "\n",
      "Legal Auto Claims Policy\n",
      "\n",
      "The Cincinnati Insurance Company\n",
      "955 Andrew Isle, Sarahfurt, IN 08209\n",
      "jeffreymartinez@example.org\n",
      "Policy Number: v41jGh4A1F544DcG\n",
      "\n",
      "Start Date: May 22, 1936\n",
      "End Date: January 14, 1954\n",
      "\n",
      "Premium Amount: $275,655\n",
      "\n",
      "Subsection A: Automobile Liability Insurance\n",
      "\n",
      "1. Coverage: The Insurer agrees to pay on behalf of the insured, Paul Reid, all sums which the insured shall become legally obligated to pay as damages because of bodily injury or death to which this insurance applies, caused by an auto accident and occurring during the policy term.\n",
      "2. Exclusions: This insurance does not apply to:\n",
      "   a. Bodily injury or death caused by an insured person while driving under the influence of intoxicating liquor or drugs.\n",
      "   b. Bodily injury or death caused by an insured person while committing a felony.\n",
      "   c. Bodily injury or death caused by an insured person while operating an auto other than a covered auto.\n",
      "3. Limits of Liability: The maximum amount the Insurer will pay for all damages arising out of one accident is $100,000 for each person and $300,000 for all persons.\n",
      "\n",
      "Subsection B: Automobile Medical Payments\n",
      "\n",
      "1. Coverage: The Insurer agrees to pay all reasonable medical and funeral expenses incurred by the insured or any family member as a result of bodily injury caused by an auto accident during the policy term.\n",
      "2. Exclusions: This insurance does not apply to:\n",
      "   a. Medical expenses for which the insured or family member is entitled to recover under any other insurance or under any workmen's compensation law.\n",
      "   b. Medical expenses for injuries caused by an insured person while driving under the influence of intoxicating liquor or drugs.\n",
      "3. Limits of Liability: The maximum amount the Insurer will pay for all medical expenses arising out of one accident is $5,000 for each person.\n",
      "\n",
      "Subsection C: Automobile Debt Indemnity Insurance\n",
      "\n",
      "1. Coverage: The Insurer agrees to pay all reasonable and necessary expenses incurred by the insured to maintain or replace the covered auto if it is damaged or destroyed by an auto accident during the policy term.\n",
      "2. Exclusions: This insurance does not apply to:\n",
      "   a. Expenses for which the insured is entitled to recover under any other insurance or under any other contract.\n",
      "   b. Expenses for damage to the covered auto caused by an insured person while driving under the influence of intoxicating liquor or drugs.\n",
      "3. Limits of Liability: The maximum amount the Insurer will pay for all expenses arising out of one accident is the actual cash value of the covered auto at the time of the loss.\n",
      "\n",
      "Subsection D: Uninsured Motorists Insurance\n",
      "\n",
      "1. Coverage: The Insurer agrees to pay all sums which the insured shall become legally obligated to pay as damages because of bodily injury or death to which this insurance applies, caused by an uninsured motorist and occurring during the policy term.\n",
      "2. Exclusions: This insurance does not apply to:\n",
      "   a. Bodily injury or death caused by an insured person.\n",
      "   b. Bodily injury or death caused by a motorist who is insured under a liability policy issued by the Insurer.\n",
      "3. Limits of Liability: The maximum amount the Insurer will pay for all damages arising out of one accident is $100,000 for each person and $300,000 for all persons.\n",
      "\n",
      "Subsection E: Default Provisions\n",
      "\n",
      "1. Notice of Loss: The insured must give notice of loss to the Insurer as soon as practicable.\n",
      "2. Cooperation: The insured must cooperate with the Insurer in the investigation and settlement of any claim.\n",
      "3. Right to Sue: The Insurer may sue on behalf of the insured to recover any amounts paid under this policy.\n",
      "\n",
      "Subsection F: Personal Injury Protection\n",
      "\n",
      "1. Coverage: The Insurer agrees to pay all reasonable medical and funeral expenses incurred by the insured or any family member as a result of bodily injury caused by an auto accident during the policy term, regardless of fault.\n",
      "2. Exclusions: This insurance does not apply to:\n",
      "   a. Medical expenses for which the insured or family member is entitled to recover under any other insurance or under any workmen's compensation law.\n",
      "   b. Medical expenses for injuries caused by an insured person while driving under the influence of intoxicating liquor or drugs.\n",
      "3. Limits of Liability: The maximum amount the Insurer will pay for all medical expenses arising out of one accident is $5,000 for each person.\n",
      "\n",
      "Subsection G: Collision Insurance\n",
      "\n",
      "1. Coverage: The Insurer agrees to pay for the repair or replacement of the covered auto if it is damaged in a collision during the policy term.\n",
      "2. Exclusions: This insurance does not apply to:\n",
      "   a. Damage to the covered auto caused by\n"
     ]
    }
   ],
   "source": [
    "print(output_list[1])"
   ]
  },
  {
   "cell_type": "code",
   "execution_count": 107,
   "id": "fc3d15ae-1eeb-4690-97f8-5e5430d8a6a7",
   "metadata": {
    "tags": []
   },
   "outputs": [
    {
     "data": {
      "text/plain": [
       "[\"\\n\\nLegal Auto Claims Policy\\n\\nLiberty Mutual Insurance\\n3970 Christopher Dale\\nSouth Tonya, GA 57255\\ncallahanchristopher@example.org\\nPolicy Number: df73e7c5-13f8-4004-b1d7-ecaf3dd0b2ac\\n\\nStart Date: 1923-5-20\\nEnd Date: 1924-3-9\\n\\nA. Automobile Liability Insurance\\n\\n1. Description: This section covers damages for which the insured is legally liable to pay because of bodily injury or property damage caused by an automobile accident.\\n\\n2. Limits of Liability: The maximum amount Liberty Mutual Insurance will pay for all damages arising from one accident is $100,000 per person and $300,000 per accident.\\n\\n3. Exclusions: This coverage does not apply to damages arising from:\\n   a. Vehicles not covered under this policy\\n   b. Damages caused intentionally or while driving under the influence\\n   c. Damages resulting from the use of the vehicle for racing or other illegal activities\\n\\nB. Automobile Medical Payments\\n\\n1. Description: This section covers medical expenses for the insured and any passengers in the insured vehicle, regardless of fault.\\n\\n2. Limits of Liability: The maximum amount Liberty Mutual Insurance will pay for medical expenses arising from one accident is $5,000 per person.\\n\\n3. Exclusions: This coverage does not apply to medical expenses arising from:\\n   a. Injuries sustained while driving under the influence\\n   b. Injuries sustained while committing a felony\\n   c. Injuries sustained while occupying a vehicle not covered under this policy\\n\\nC. Automobile Debt Indemnity Insurance\\n\\n1. Description: This section covers the insured's contractual obligations, such as car loans or leases, up to the policy limit if the insured is unable to make payments due to a covered accident.\\n\\n2. Limits of Liability: The maximum amount Liberty Mutual Insurance will pay for automobile debt indemnity is equal to the policy limit for automobile liability insurance.\\n\\n3. Exclusions: This coverage does not apply to obligations arising from:\\n   a. Leases or loans on vehicles not covered under this policy\\n   b. Obligations incurred prior to the effective date of this policy\\n\\nD. Uninsured Motorists Insurance\\n\\n1. Description: This section covers damages caused by an accident involving an uninsured or underinsured motorist.\\n\\n2. Limits of Liability: The maximum amount Liberty Mutual Insurance will pay for damages arising from an accident involving an uninsured or underinsured motorist is $100,000 per person and $300,000 per accident.\\n\\n3. Exclusions: This coverage does not apply to damages arising from:\\n   a. Vehicles not covered under this policy\\n   b. Damages caused intentionally or while driving under the influence\\n   c. Damages resulting from the use of the vehicle for racing or other illegal activities\\n\\nE. Default Provisions\\n\\n1. Description: This section outlines the terms and conditions of the policy, including the premium amount, payment schedule, and cancellation provisions.\\n\\n2. Exclusions: None\\n\\nF. Personal Injury Protection\\n\\n1. Description: This section covers medical expenses, lost wages, and other related expenses for the insured and any passengers in the insured vehicle, regardless of fault.\\n\\n2. Limits of Liability: The maximum amount Liberty Mutual Insurance will pay for personal injury protection is $10,000 per person per accident.\\n\\n3. Exclusions: This coverage does not apply to expenses arising from:\\n   a. Injuries sustained while driving under the influence\\n   b. Injuries sustained while committing a felony\\n   c. Injuries sustained while occupying a vehicle not covered under this policy\\n\\nG. Collision Insurance\\n\\n1. Description: This section covers damages to the insured vehicle resulting from a collision with another vehicle or object.\\n\\n2. Limits of Liability: The maximum amount Liberty Mutual Insurance will pay for damages arising from a collision is equal to the actual cash value of the insured vehicle or the cost to repair the damage, whichever is less.\\n\\n3. Exclusions: This coverage does not apply to damages arising from:\\n   a. Vehicles not covered under this policy\\n   b. Damages caused intentionally or while driving under the influence\\n   c. Damages resulting from the use of the vehicle for racing or other illegal activities\\n\\nH. Comprehensive Insurance\\n\\n1. Description: This section covers damages to the insured vehicle resulting from causes other than a collision, such as theft, vandalism, or natural disasters.\\n\\n2. Limits of Liability: The maximum amount Liberty Mutual Insurance will pay for damages arising from comprehensive coverage is equal to the actual cash value of the insured vehicle or the cost to repair the damage, whichever is less.\\n\\n3. Exclusions: This coverage does not apply to damages arising from:\\n   a. Vehicles not covered under this policy\\n   b. Damages caused intentionally or while\",\n",
       " \"\\n\\nLegal Auto Claims Policy\\n\\nThe Cincinnati Insurance Company\\n955 Andrew Isle, Sarahfurt, IN 08209\\njeffreymartinez@example.org\\nPolicy Number: v41jGh4A1F544DcG\\n\\nStart Date: May 22, 1936\\nEnd Date: January 14, 1954\\n\\nPremium Amount: $275,655\\n\\nSubsection A: Automobile Liability Insurance\\n\\n1. Coverage: The Insurer agrees to pay on behalf of the insured, Paul Reid, all sums which the insured shall become legally obligated to pay as damages because of bodily injury or death to which this insurance applies, caused by an auto accident and occurring during the policy term.\\n2. Exclusions: This insurance does not apply to:\\n   a. Bodily injury or death caused by an insured person while driving under the influence of intoxicating liquor or drugs.\\n   b. Bodily injury or death caused by an insured person while committing a felony.\\n   c. Bodily injury or death caused by an insured person while operating an auto other than a covered auto.\\n3. Limits of Liability: The maximum amount the Insurer will pay for all damages arising out of one accident is $100,000 for each person and $300,000 for all persons.\\n\\nSubsection B: Automobile Medical Payments\\n\\n1. Coverage: The Insurer agrees to pay all reasonable medical and funeral expenses incurred by the insured or any family member as a result of bodily injury caused by an auto accident during the policy term.\\n2. Exclusions: This insurance does not apply to:\\n   a. Medical expenses for which the insured or family member is entitled to recover under any other insurance or under any workmen's compensation law.\\n   b. Medical expenses for injuries caused by an insured person while driving under the influence of intoxicating liquor or drugs.\\n3. Limits of Liability: The maximum amount the Insurer will pay for all medical expenses arising out of one accident is $5,000 for each person.\\n\\nSubsection C: Automobile Debt Indemnity Insurance\\n\\n1. Coverage: The Insurer agrees to pay all reasonable and necessary expenses incurred by the insured to maintain or replace the covered auto if it is damaged or destroyed by an auto accident during the policy term.\\n2. Exclusions: This insurance does not apply to:\\n   a. Expenses for which the insured is entitled to recover under any other insurance or under any other contract.\\n   b. Expenses for damage to the covered auto caused by an insured person while driving under the influence of intoxicating liquor or drugs.\\n3. Limits of Liability: The maximum amount the Insurer will pay for all expenses arising out of one accident is the actual cash value of the covered auto at the time of the loss.\\n\\nSubsection D: Uninsured Motorists Insurance\\n\\n1. Coverage: The Insurer agrees to pay all sums which the insured shall become legally obligated to pay as damages because of bodily injury or death to which this insurance applies, caused by an uninsured motorist and occurring during the policy term.\\n2. Exclusions: This insurance does not apply to:\\n   a. Bodily injury or death caused by an insured person.\\n   b. Bodily injury or death caused by a motorist who is insured under a liability policy issued by the Insurer.\\n3. Limits of Liability: The maximum amount the Insurer will pay for all damages arising out of one accident is $100,000 for each person and $300,000 for all persons.\\n\\nSubsection E: Default Provisions\\n\\n1. Notice of Loss: The insured must give notice of loss to the Insurer as soon as practicable.\\n2. Cooperation: The insured must cooperate with the Insurer in the investigation and settlement of any claim.\\n3. Right to Sue: The Insurer may sue on behalf of the insured to recover any amounts paid under this policy.\\n\\nSubsection F: Personal Injury Protection\\n\\n1. Coverage: The Insurer agrees to pay all reasonable medical and funeral expenses incurred by the insured or any family member as a result of bodily injury caused by an auto accident during the policy term, regardless of fault.\\n2. Exclusions: This insurance does not apply to:\\n   a. Medical expenses for which the insured or family member is entitled to recover under any other insurance or under any workmen's compensation law.\\n   b. Medical expenses for injuries caused by an insured person while driving under the influence of intoxicating liquor or drugs.\\n3. Limits of Liability: The maximum amount the Insurer will pay for all medical expenses arising out of one accident is $5,000 for each person.\\n\\nSubsection G: Collision Insurance\\n\\n1. Coverage: The Insurer agrees to pay for the repair or replacement of the covered auto if it is damaged in a collision during the policy term.\\n2. Exclusions: This insurance does not apply to:\\n   a. Damage to the covered auto caused by\"]"
      ]
     },
     "execution_count": 107,
     "metadata": {},
     "output_type": "execute_result"
    }
   ],
   "source": [
    "output_list"
   ]
  },
  {
   "cell_type": "code",
   "execution_count": null,
   "id": "7f35ebe9-63e1-44c0-9ae8-00baa1b37db3",
   "metadata": {},
   "outputs": [],
   "source": []
  }
 ],
 "metadata": {
  "availableInstances": [
   {
    "_defaultOrder": 0,
    "_isFastLaunch": true,
    "category": "General purpose",
    "gpuNum": 0,
    "hideHardwareSpecs": false,
    "memoryGiB": 4,
    "name": "ml.t3.medium",
    "vcpuNum": 2
   },
   {
    "_defaultOrder": 1,
    "_isFastLaunch": false,
    "category": "General purpose",
    "gpuNum": 0,
    "hideHardwareSpecs": false,
    "memoryGiB": 8,
    "name": "ml.t3.large",
    "vcpuNum": 2
   },
   {
    "_defaultOrder": 2,
    "_isFastLaunch": false,
    "category": "General purpose",
    "gpuNum": 0,
    "hideHardwareSpecs": false,
    "memoryGiB": 16,
    "name": "ml.t3.xlarge",
    "vcpuNum": 4
   },
   {
    "_defaultOrder": 3,
    "_isFastLaunch": false,
    "category": "General purpose",
    "gpuNum": 0,
    "hideHardwareSpecs": false,
    "memoryGiB": 32,
    "name": "ml.t3.2xlarge",
    "vcpuNum": 8
   },
   {
    "_defaultOrder": 4,
    "_isFastLaunch": true,
    "category": "General purpose",
    "gpuNum": 0,
    "hideHardwareSpecs": false,
    "memoryGiB": 8,
    "name": "ml.m5.large",
    "vcpuNum": 2
   },
   {
    "_defaultOrder": 5,
    "_isFastLaunch": false,
    "category": "General purpose",
    "gpuNum": 0,
    "hideHardwareSpecs": false,
    "memoryGiB": 16,
    "name": "ml.m5.xlarge",
    "vcpuNum": 4
   },
   {
    "_defaultOrder": 6,
    "_isFastLaunch": false,
    "category": "General purpose",
    "gpuNum": 0,
    "hideHardwareSpecs": false,
    "memoryGiB": 32,
    "name": "ml.m5.2xlarge",
    "vcpuNum": 8
   },
   {
    "_defaultOrder": 7,
    "_isFastLaunch": false,
    "category": "General purpose",
    "gpuNum": 0,
    "hideHardwareSpecs": false,
    "memoryGiB": 64,
    "name": "ml.m5.4xlarge",
    "vcpuNum": 16
   },
   {
    "_defaultOrder": 8,
    "_isFastLaunch": false,
    "category": "General purpose",
    "gpuNum": 0,
    "hideHardwareSpecs": false,
    "memoryGiB": 128,
    "name": "ml.m5.8xlarge",
    "vcpuNum": 32
   },
   {
    "_defaultOrder": 9,
    "_isFastLaunch": false,
    "category": "General purpose",
    "gpuNum": 0,
    "hideHardwareSpecs": false,
    "memoryGiB": 192,
    "name": "ml.m5.12xlarge",
    "vcpuNum": 48
   },
   {
    "_defaultOrder": 10,
    "_isFastLaunch": false,
    "category": "General purpose",
    "gpuNum": 0,
    "hideHardwareSpecs": false,
    "memoryGiB": 256,
    "name": "ml.m5.16xlarge",
    "vcpuNum": 64
   },
   {
    "_defaultOrder": 11,
    "_isFastLaunch": false,
    "category": "General purpose",
    "gpuNum": 0,
    "hideHardwareSpecs": false,
    "memoryGiB": 384,
    "name": "ml.m5.24xlarge",
    "vcpuNum": 96
   },
   {
    "_defaultOrder": 12,
    "_isFastLaunch": false,
    "category": "General purpose",
    "gpuNum": 0,
    "hideHardwareSpecs": false,
    "memoryGiB": 8,
    "name": "ml.m5d.large",
    "vcpuNum": 2
   },
   {
    "_defaultOrder": 13,
    "_isFastLaunch": false,
    "category": "General purpose",
    "gpuNum": 0,
    "hideHardwareSpecs": false,
    "memoryGiB": 16,
    "name": "ml.m5d.xlarge",
    "vcpuNum": 4
   },
   {
    "_defaultOrder": 14,
    "_isFastLaunch": false,
    "category": "General purpose",
    "gpuNum": 0,
    "hideHardwareSpecs": false,
    "memoryGiB": 32,
    "name": "ml.m5d.2xlarge",
    "vcpuNum": 8
   },
   {
    "_defaultOrder": 15,
    "_isFastLaunch": false,
    "category": "General purpose",
    "gpuNum": 0,
    "hideHardwareSpecs": false,
    "memoryGiB": 64,
    "name": "ml.m5d.4xlarge",
    "vcpuNum": 16
   },
   {
    "_defaultOrder": 16,
    "_isFastLaunch": false,
    "category": "General purpose",
    "gpuNum": 0,
    "hideHardwareSpecs": false,
    "memoryGiB": 128,
    "name": "ml.m5d.8xlarge",
    "vcpuNum": 32
   },
   {
    "_defaultOrder": 17,
    "_isFastLaunch": false,
    "category": "General purpose",
    "gpuNum": 0,
    "hideHardwareSpecs": false,
    "memoryGiB": 192,
    "name": "ml.m5d.12xlarge",
    "vcpuNum": 48
   },
   {
    "_defaultOrder": 18,
    "_isFastLaunch": false,
    "category": "General purpose",
    "gpuNum": 0,
    "hideHardwareSpecs": false,
    "memoryGiB": 256,
    "name": "ml.m5d.16xlarge",
    "vcpuNum": 64
   },
   {
    "_defaultOrder": 19,
    "_isFastLaunch": false,
    "category": "General purpose",
    "gpuNum": 0,
    "hideHardwareSpecs": false,
    "memoryGiB": 384,
    "name": "ml.m5d.24xlarge",
    "vcpuNum": 96
   },
   {
    "_defaultOrder": 20,
    "_isFastLaunch": false,
    "category": "General purpose",
    "gpuNum": 0,
    "hideHardwareSpecs": true,
    "memoryGiB": 0,
    "name": "ml.geospatial.interactive",
    "supportedImageNames": [
     "sagemaker-geospatial-v1-0"
    ],
    "vcpuNum": 0
   },
   {
    "_defaultOrder": 21,
    "_isFastLaunch": true,
    "category": "Compute optimized",
    "gpuNum": 0,
    "hideHardwareSpecs": false,
    "memoryGiB": 4,
    "name": "ml.c5.large",
    "vcpuNum": 2
   },
   {
    "_defaultOrder": 22,
    "_isFastLaunch": false,
    "category": "Compute optimized",
    "gpuNum": 0,
    "hideHardwareSpecs": false,
    "memoryGiB": 8,
    "name": "ml.c5.xlarge",
    "vcpuNum": 4
   },
   {
    "_defaultOrder": 23,
    "_isFastLaunch": false,
    "category": "Compute optimized",
    "gpuNum": 0,
    "hideHardwareSpecs": false,
    "memoryGiB": 16,
    "name": "ml.c5.2xlarge",
    "vcpuNum": 8
   },
   {
    "_defaultOrder": 24,
    "_isFastLaunch": false,
    "category": "Compute optimized",
    "gpuNum": 0,
    "hideHardwareSpecs": false,
    "memoryGiB": 32,
    "name": "ml.c5.4xlarge",
    "vcpuNum": 16
   },
   {
    "_defaultOrder": 25,
    "_isFastLaunch": false,
    "category": "Compute optimized",
    "gpuNum": 0,
    "hideHardwareSpecs": false,
    "memoryGiB": 72,
    "name": "ml.c5.9xlarge",
    "vcpuNum": 36
   },
   {
    "_defaultOrder": 26,
    "_isFastLaunch": false,
    "category": "Compute optimized",
    "gpuNum": 0,
    "hideHardwareSpecs": false,
    "memoryGiB": 96,
    "name": "ml.c5.12xlarge",
    "vcpuNum": 48
   },
   {
    "_defaultOrder": 27,
    "_isFastLaunch": false,
    "category": "Compute optimized",
    "gpuNum": 0,
    "hideHardwareSpecs": false,
    "memoryGiB": 144,
    "name": "ml.c5.18xlarge",
    "vcpuNum": 72
   },
   {
    "_defaultOrder": 28,
    "_isFastLaunch": false,
    "category": "Compute optimized",
    "gpuNum": 0,
    "hideHardwareSpecs": false,
    "memoryGiB": 192,
    "name": "ml.c5.24xlarge",
    "vcpuNum": 96
   },
   {
    "_defaultOrder": 29,
    "_isFastLaunch": true,
    "category": "Accelerated computing",
    "gpuNum": 1,
    "hideHardwareSpecs": false,
    "memoryGiB": 16,
    "name": "ml.g4dn.xlarge",
    "vcpuNum": 4
   },
   {
    "_defaultOrder": 30,
    "_isFastLaunch": false,
    "category": "Accelerated computing",
    "gpuNum": 1,
    "hideHardwareSpecs": false,
    "memoryGiB": 32,
    "name": "ml.g4dn.2xlarge",
    "vcpuNum": 8
   },
   {
    "_defaultOrder": 31,
    "_isFastLaunch": false,
    "category": "Accelerated computing",
    "gpuNum": 1,
    "hideHardwareSpecs": false,
    "memoryGiB": 64,
    "name": "ml.g4dn.4xlarge",
    "vcpuNum": 16
   },
   {
    "_defaultOrder": 32,
    "_isFastLaunch": false,
    "category": "Accelerated computing",
    "gpuNum": 1,
    "hideHardwareSpecs": false,
    "memoryGiB": 128,
    "name": "ml.g4dn.8xlarge",
    "vcpuNum": 32
   },
   {
    "_defaultOrder": 33,
    "_isFastLaunch": false,
    "category": "Accelerated computing",
    "gpuNum": 4,
    "hideHardwareSpecs": false,
    "memoryGiB": 192,
    "name": "ml.g4dn.12xlarge",
    "vcpuNum": 48
   },
   {
    "_defaultOrder": 34,
    "_isFastLaunch": false,
    "category": "Accelerated computing",
    "gpuNum": 1,
    "hideHardwareSpecs": false,
    "memoryGiB": 256,
    "name": "ml.g4dn.16xlarge",
    "vcpuNum": 64
   },
   {
    "_defaultOrder": 35,
    "_isFastLaunch": false,
    "category": "Accelerated computing",
    "gpuNum": 1,
    "hideHardwareSpecs": false,
    "memoryGiB": 61,
    "name": "ml.p3.2xlarge",
    "vcpuNum": 8
   },
   {
    "_defaultOrder": 36,
    "_isFastLaunch": false,
    "category": "Accelerated computing",
    "gpuNum": 4,
    "hideHardwareSpecs": false,
    "memoryGiB": 244,
    "name": "ml.p3.8xlarge",
    "vcpuNum": 32
   },
   {
    "_defaultOrder": 37,
    "_isFastLaunch": false,
    "category": "Accelerated computing",
    "gpuNum": 8,
    "hideHardwareSpecs": false,
    "memoryGiB": 488,
    "name": "ml.p3.16xlarge",
    "vcpuNum": 64
   },
   {
    "_defaultOrder": 38,
    "_isFastLaunch": false,
    "category": "Accelerated computing",
    "gpuNum": 8,
    "hideHardwareSpecs": false,
    "memoryGiB": 768,
    "name": "ml.p3dn.24xlarge",
    "vcpuNum": 96
   },
   {
    "_defaultOrder": 39,
    "_isFastLaunch": false,
    "category": "Memory Optimized",
    "gpuNum": 0,
    "hideHardwareSpecs": false,
    "memoryGiB": 16,
    "name": "ml.r5.large",
    "vcpuNum": 2
   },
   {
    "_defaultOrder": 40,
    "_isFastLaunch": false,
    "category": "Memory Optimized",
    "gpuNum": 0,
    "hideHardwareSpecs": false,
    "memoryGiB": 32,
    "name": "ml.r5.xlarge",
    "vcpuNum": 4
   },
   {
    "_defaultOrder": 41,
    "_isFastLaunch": false,
    "category": "Memory Optimized",
    "gpuNum": 0,
    "hideHardwareSpecs": false,
    "memoryGiB": 64,
    "name": "ml.r5.2xlarge",
    "vcpuNum": 8
   },
   {
    "_defaultOrder": 42,
    "_isFastLaunch": false,
    "category": "Memory Optimized",
    "gpuNum": 0,
    "hideHardwareSpecs": false,
    "memoryGiB": 128,
    "name": "ml.r5.4xlarge",
    "vcpuNum": 16
   },
   {
    "_defaultOrder": 43,
    "_isFastLaunch": false,
    "category": "Memory Optimized",
    "gpuNum": 0,
    "hideHardwareSpecs": false,
    "memoryGiB": 256,
    "name": "ml.r5.8xlarge",
    "vcpuNum": 32
   },
   {
    "_defaultOrder": 44,
    "_isFastLaunch": false,
    "category": "Memory Optimized",
    "gpuNum": 0,
    "hideHardwareSpecs": false,
    "memoryGiB": 384,
    "name": "ml.r5.12xlarge",
    "vcpuNum": 48
   },
   {
    "_defaultOrder": 45,
    "_isFastLaunch": false,
    "category": "Memory Optimized",
    "gpuNum": 0,
    "hideHardwareSpecs": false,
    "memoryGiB": 512,
    "name": "ml.r5.16xlarge",
    "vcpuNum": 64
   },
   {
    "_defaultOrder": 46,
    "_isFastLaunch": false,
    "category": "Memory Optimized",
    "gpuNum": 0,
    "hideHardwareSpecs": false,
    "memoryGiB": 768,
    "name": "ml.r5.24xlarge",
    "vcpuNum": 96
   },
   {
    "_defaultOrder": 47,
    "_isFastLaunch": false,
    "category": "Accelerated computing",
    "gpuNum": 1,
    "hideHardwareSpecs": false,
    "memoryGiB": 16,
    "name": "ml.g5.xlarge",
    "vcpuNum": 4
   },
   {
    "_defaultOrder": 48,
    "_isFastLaunch": false,
    "category": "Accelerated computing",
    "gpuNum": 1,
    "hideHardwareSpecs": false,
    "memoryGiB": 32,
    "name": "ml.g5.2xlarge",
    "vcpuNum": 8
   },
   {
    "_defaultOrder": 49,
    "_isFastLaunch": false,
    "category": "Accelerated computing",
    "gpuNum": 1,
    "hideHardwareSpecs": false,
    "memoryGiB": 64,
    "name": "ml.g5.4xlarge",
    "vcpuNum": 16
   },
   {
    "_defaultOrder": 50,
    "_isFastLaunch": false,
    "category": "Accelerated computing",
    "gpuNum": 1,
    "hideHardwareSpecs": false,
    "memoryGiB": 128,
    "name": "ml.g5.8xlarge",
    "vcpuNum": 32
   },
   {
    "_defaultOrder": 51,
    "_isFastLaunch": false,
    "category": "Accelerated computing",
    "gpuNum": 1,
    "hideHardwareSpecs": false,
    "memoryGiB": 256,
    "name": "ml.g5.16xlarge",
    "vcpuNum": 64
   },
   {
    "_defaultOrder": 52,
    "_isFastLaunch": false,
    "category": "Accelerated computing",
    "gpuNum": 4,
    "hideHardwareSpecs": false,
    "memoryGiB": 192,
    "name": "ml.g5.12xlarge",
    "vcpuNum": 48
   },
   {
    "_defaultOrder": 53,
    "_isFastLaunch": false,
    "category": "Accelerated computing",
    "gpuNum": 4,
    "hideHardwareSpecs": false,
    "memoryGiB": 384,
    "name": "ml.g5.24xlarge",
    "vcpuNum": 96
   },
   {
    "_defaultOrder": 54,
    "_isFastLaunch": false,
    "category": "Accelerated computing",
    "gpuNum": 8,
    "hideHardwareSpecs": false,
    "memoryGiB": 768,
    "name": "ml.g5.48xlarge",
    "vcpuNum": 192
   },
   {
    "_defaultOrder": 55,
    "_isFastLaunch": false,
    "category": "Accelerated computing",
    "gpuNum": 8,
    "hideHardwareSpecs": false,
    "memoryGiB": 1152,
    "name": "ml.p4d.24xlarge",
    "vcpuNum": 96
   },
   {
    "_defaultOrder": 56,
    "_isFastLaunch": false,
    "category": "Accelerated computing",
    "gpuNum": 8,
    "hideHardwareSpecs": false,
    "memoryGiB": 1152,
    "name": "ml.p4de.24xlarge",
    "vcpuNum": 96
   },
   {
    "_defaultOrder": 57,
    "_isFastLaunch": false,
    "category": "Accelerated computing",
    "gpuNum": 0,
    "hideHardwareSpecs": false,
    "memoryGiB": 32,
    "name": "ml.trn1.2xlarge",
    "vcpuNum": 8
   },
   {
    "_defaultOrder": 58,
    "_isFastLaunch": false,
    "category": "Accelerated computing",
    "gpuNum": 0,
    "hideHardwareSpecs": false,
    "memoryGiB": 512,
    "name": "ml.trn1.32xlarge",
    "vcpuNum": 128
   },
   {
    "_defaultOrder": 59,
    "_isFastLaunch": false,
    "category": "Accelerated computing",
    "gpuNum": 0,
    "hideHardwareSpecs": false,
    "memoryGiB": 512,
    "name": "ml.trn1n.32xlarge",
    "vcpuNum": 128
   }
  ],
  "instance_type": "ml.m5.4xlarge",
  "kernelspec": {
   "display_name": "Python 3 (Data Science 2.0)",
   "language": "python",
   "name": "python3__SAGEMAKER_INTERNAL__arn:aws:sagemaker:us-east-1:081325390199:image/sagemaker-data-science-38"
  },
  "language_info": {
   "codemirror_mode": {
    "name": "ipython",
    "version": 3
   },
   "file_extension": ".py",
   "mimetype": "text/x-python",
   "name": "python",
   "nbconvert_exporter": "python",
   "pygments_lexer": "ipython3",
   "version": "3.8.13"
  }
 },
 "nbformat": 4,
 "nbformat_minor": 5
}
