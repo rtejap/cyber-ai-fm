{
 "cells": [
  {
   "cell_type": "code",
   "execution_count": 1,
   "id": "ca225120",
   "metadata": {
    "execution": {
     "iopub.execute_input": "2024-04-15T12:48:04.282635Z",
     "iopub.status.busy": "2024-04-15T12:48:04.282319Z",
     "iopub.status.idle": "2024-04-15T12:48:04.292899Z",
     "shell.execute_reply": "2024-04-15T12:48:04.292118Z"
    },
    "papermill": {
     "duration": 0.028903,
     "end_time": "2024-04-15T12:48:04.294804",
     "exception": false,
     "start_time": "2024-04-15T12:48:04.265901",
     "status": "completed"
    },
    "tags": []
   },
   "outputs": [],
   "source": [
    "import sys, random, string, re, time, os\n"
   ]
  },
  {
   "cell_type": "code",
   "execution_count": 2,
   "id": "f7d92d07",
   "metadata": {
    "_cell_guid": "b1076dfc-b9ad-4769-8c92-a6c4dae69d19",
    "_kg_hide-output": true,
    "_uuid": "8f2839f25d086af736a60e9eeb907d3b93b6e0e5",
    "execution": {
     "iopub.execute_input": "2024-04-15T12:48:04.327901Z",
     "iopub.status.busy": "2024-04-15T12:48:04.327626Z",
     "iopub.status.idle": "2024-04-15T12:50:06.726513Z",
     "shell.execute_reply": "2024-04-15T12:50:06.725378Z"
    },
    "papermill": {
     "duration": 122.418342,
     "end_time": "2024-04-15T12:50:06.729080",
     "exception": false,
     "start_time": "2024-04-15T12:48:04.310738",
     "status": "completed"
    },
    "tags": []
   },
   "outputs": [],
   "source": [
    "%%capture\n",
    "!pip install git+https://github.com/huggingface/transformers.git  -U \n",
    "!pip install git+https://github.com/huggingface/accelerate.git  -U \n",
    "!pip install bitsandbytes \n",
    "!pip install git+https://github.com/huggingface/peft.git  -U "
   ]
  },
  {
   "cell_type": "code",
   "execution_count": 3,
   "id": "bfa355c7",
   "metadata": {
    "execution": {
     "iopub.execute_input": "2024-04-15T12:50:06.825256Z",
     "iopub.status.busy": "2024-04-15T12:50:06.824930Z",
     "iopub.status.idle": "2024-04-15T12:50:15.705696Z",
     "shell.execute_reply": "2024-04-15T12:50:15.704589Z"
    },
    "papermill": {
     "duration": 8.900498,
     "end_time": "2024-04-15T12:50:15.708221",
     "exception": false,
     "start_time": "2024-04-15T12:50:06.807723",
     "status": "completed"
    },
    "tags": []
   },
   "outputs": [],
   "source": [
    "from transformers import AutoModelForCausalLM, AutoTokenizer, BitsAndBytesConfig\n",
    "import torch\n",
    "from peft import PeftModel, PeftConfig\n",
    "\n",
    "\n",
    "bnb_config = BitsAndBytesConfig(  \n",
    "    load_in_4bit= True,\n",
    "    bnb_4bit_quant_type= \"nf4\",\n",
    "    bnb_4bit_compute_dtype= torch.float16,\n",
    "    bnb_4bit_use_double_quant= True,\n",
    "llm_int8_enable_fp32_cpu_offload= True)"
   ]
  },
  {
   "cell_type": "code",
   "execution_count": 4,
   "id": "4eddc3a8",
   "metadata": {
    "execution": {
     "iopub.execute_input": "2024-04-15T12:50:15.775172Z",
     "iopub.status.busy": "2024-04-15T12:50:15.774742Z",
     "iopub.status.idle": "2024-04-15T12:50:15.778839Z",
     "shell.execute_reply": "2024-04-15T12:50:15.778010Z"
    },
    "papermill": {
     "duration": 0.022791,
     "end_time": "2024-04-15T12:50:15.780638",
     "exception": false,
     "start_time": "2024-04-15T12:50:15.757847",
     "status": "completed"
    },
    "tags": []
   },
   "outputs": [],
   "source": [
    "torch.cuda.empty_cache()"
   ]
  },
  {
   "cell_type": "code",
   "execution_count": 5,
   "id": "1bedd055",
   "metadata": {
    "execution": {
     "iopub.execute_input": "2024-04-15T12:50:15.845590Z",
     "iopub.status.busy": "2024-04-15T12:50:15.845246Z",
     "iopub.status.idle": "2024-04-15T12:50:15.995081Z",
     "shell.execute_reply": "2024-04-15T12:50:15.994158Z"
    },
    "papermill": {
     "duration": 0.169684,
     "end_time": "2024-04-15T12:50:15.997610",
     "exception": false,
     "start_time": "2024-04-15T12:50:15.827926",
     "status": "completed"
    },
    "tags": []
   },
   "outputs": [
    {
     "data": {
      "text/plain": [
       "30"
      ]
     },
     "execution_count": 5,
     "metadata": {},
     "output_type": "execute_result"
    }
   ],
   "source": [
    "import gc\n",
    "gc.collect()"
   ]
  },
  {
   "cell_type": "markdown",
   "id": "13661368",
   "metadata": {
    "papermill": {
     "duration": 0.016491,
     "end_time": "2024-04-15T12:50:16.030490",
     "exception": false,
     "start_time": "2024-04-15T12:50:16.013999",
     "status": "completed"
    },
    "tags": []
   },
   "source": [
    "## Get the Model"
   ]
  },
  {
   "cell_type": "code",
   "execution_count": 6,
   "id": "be25a435",
   "metadata": {
    "execution": {
     "iopub.execute_input": "2024-04-15T12:50:16.063387Z",
     "iopub.status.busy": "2024-04-15T12:50:16.063045Z",
     "iopub.status.idle": "2024-04-15T13:04:09.348828Z",
     "shell.execute_reply": "2024-04-15T13:04:09.348033Z"
    },
    "papermill": {
     "duration": 833.304698,
     "end_time": "2024-04-15T13:04:09.351167",
     "exception": false,
     "start_time": "2024-04-15T12:50:16.046469",
     "status": "completed"
    },
    "tags": []
   },
   "outputs": [
    {
     "data": {
      "application/vnd.jupyter.widget-view+json": {
       "model_id": "81203d780c9549ab8227ee92548774a5",
       "version_major": 2,
       "version_minor": 0
      },
      "text/plain": [
       "Loading checkpoint shards:   0%|          | 0/19 [00:00<?, ?it/s]"
      ]
     },
     "metadata": {},
     "output_type": "display_data"
    }
   ],
   "source": [
    "model = AutoModelForCausalLM.from_pretrained(\n",
    "        '/kaggle/input/mixtral/pytorch/8x7b-instruct-v0.1-hf/1',\n",
    "        quantization_config=bnb_config,\n",
    "        device_map=\"auto\",\n",
    "        trust_remote_code=True,)"
   ]
  },
  {
   "cell_type": "markdown",
   "id": "9f148100",
   "metadata": {
    "papermill": {
     "duration": 0.015408,
     "end_time": "2024-04-15T13:04:09.414957",
     "exception": false,
     "start_time": "2024-04-15T13:04:09.399549",
     "status": "completed"
    },
    "tags": []
   },
   "source": [
    "## Get the tokenizer"
   ]
  },
  {
   "cell_type": "code",
   "execution_count": 7,
   "id": "ad8676d8",
   "metadata": {
    "execution": {
     "iopub.execute_input": "2024-04-15T13:04:09.448078Z",
     "iopub.status.busy": "2024-04-15T13:04:09.447350Z",
     "iopub.status.idle": "2024-04-15T13:04:24.039969Z",
     "shell.execute_reply": "2024-04-15T13:04:24.039037Z"
    },
    "papermill": {
     "duration": 14.611698,
     "end_time": "2024-04-15T13:04:24.042421",
     "exception": false,
     "start_time": "2024-04-15T13:04:09.430723",
     "status": "completed"
    },
    "tags": []
   },
   "outputs": [
    {
     "name": "stderr",
     "output_type": "stream",
     "text": [
      "2024-04-15 13:04:11.677171: E external/local_xla/xla/stream_executor/cuda/cuda_dnn.cc:9261] Unable to register cuDNN factory: Attempting to register factory for plugin cuDNN when one has already been registered\n",
      "2024-04-15 13:04:11.677294: E external/local_xla/xla/stream_executor/cuda/cuda_fft.cc:607] Unable to register cuFFT factory: Attempting to register factory for plugin cuFFT when one has already been registered\n",
      "2024-04-15 13:04:11.863023: E external/local_xla/xla/stream_executor/cuda/cuda_blas.cc:1515] Unable to register cuBLAS factory: Attempting to register factory for plugin cuBLAS when one has already been registered\n"
     ]
    }
   ],
   "source": [
    "from transformers import pipeline, AutoTokenizer\n",
    "tokenizer = AutoTokenizer.from_pretrained('/kaggle/input/mixtral/pytorch/8x7b-instruct-v0.1-hf/1', trust_remote_code=True)"
   ]
  },
  {
   "cell_type": "code",
   "execution_count": 8,
   "id": "9d6a128f",
   "metadata": {
    "execution": {
     "iopub.execute_input": "2024-04-15T13:04:24.078492Z",
     "iopub.status.busy": "2024-04-15T13:04:24.077432Z",
     "iopub.status.idle": "2024-04-15T13:04:24.397974Z",
     "shell.execute_reply": "2024-04-15T13:04:24.397007Z"
    },
    "papermill": {
     "duration": 0.341265,
     "end_time": "2024-04-15T13:04:24.400124",
     "exception": false,
     "start_time": "2024-04-15T13:04:24.058859",
     "status": "completed"
    },
    "tags": []
   },
   "outputs": [
    {
     "data": {
      "text/plain": [
       "30"
      ]
     },
     "execution_count": 8,
     "metadata": {},
     "output_type": "execute_result"
    }
   ],
   "source": [
    "import gc\n",
    "gc.collect()"
   ]
  },
  {
   "cell_type": "markdown",
   "id": "f64fdf5a",
   "metadata": {
    "papermill": {
     "duration": 0.016339,
     "end_time": "2024-04-15T13:04:24.471075",
     "exception": false,
     "start_time": "2024-04-15T13:04:24.454736",
     "status": "completed"
    },
    "tags": []
   },
   "source": [
    "## Model Inference"
   ]
  },
  {
   "cell_type": "code",
   "execution_count": 9,
   "id": "05309a72",
   "metadata": {
    "execution": {
     "iopub.execute_input": "2024-04-15T13:04:24.537523Z",
     "iopub.status.busy": "2024-04-15T13:04:24.537142Z",
     "iopub.status.idle": "2024-04-15T13:04:24.544309Z",
     "shell.execute_reply": "2024-04-15T13:04:24.543434Z"
    },
    "papermill": {
     "duration": 0.026851,
     "end_time": "2024-04-15T13:04:24.546672",
     "exception": false,
     "start_time": "2024-04-15T13:04:24.519821",
     "status": "completed"
    },
    "tags": []
   },
   "outputs": [
    {
     "name": "stdout",
     "output_type": "stream",
     "text": [
      "<s>[INST]Below is an instruction that describes a task, paired with an input that provides further context. Write a response that appropriately completes the request.Write 5 catchy title each not more than 15 words for the following paper abstract. The title should be a single sentence that accurately captures what you have done and sounds interesting to the people who work on the same or a similar topic. The title should contain the important title keywords that other researchers use when looking for literature in databases. The title should also use synonyms, broader terms, or abstractive keywords to make it more appealing and informative. Do not use words that are not related to the paper extract or the topic\n",
      "\n",
      "### Input:Diabetes is now one of the major public health challenges, globally. Prolonged diabetes leads to various diabetic microvascular complications (DMCs) like retinopathy, nephropathy, and neuropathy. Multiple factors are likely to be involved in predisposing diabetic individuals to complications. Early detection or diagnosis is essential in developing strategies to reduce the risk factors and management costs of these diabetic complications. In this study, we employed Raman Spectroscopy (RS) to analyse the plasma samples of diabetes patients without and with DMCs along with the plasma samples of healthy subjects. Spectral comparisons revealed decrease in protein content in Diabetes group and further subsequent decrease in proteins in DMC groups when compared with control group, which corroborates with the fact that there exists increased secretion of proteins in urine and corresponding decreased protein content in their blood in case of diabetic individuals. Among all study groups, it was noted that 75% of control spectra show correct classification, while spectral misclassification is high amongst the subjects with Diabetes and DMCs. Interestingly, very few Diabetes and DMC plasma spectra are misclassified as control spectra. Findings demonstrate that 70% of the Diabetes subjects without complications can be correctly identified from diabetes with complications. Further, investigations could also attempt to explore the use of serum instead of plasma to reduce the spectral misclassifications as one of the abundant constituents namely clotting factors could be avoided. The outcome of RS study may be imminent for the early detection or diagnosis of DMCs.[/INST]\n"
     ]
    }
   ],
   "source": [
    "abstract = 'Diabetes is now one of the major public health challenges, globally. Prolonged diabetes leads to various diabetic microvascular complications (DMCs) like retinopathy, nephropathy, and neuropathy. Multiple factors are likely to be involved in predisposing diabetic individuals to complications. Early detection or diagnosis is essential in developing strategies to reduce the risk factors and management costs of these diabetic complications. In this study, we employed Raman Spectroscopy (RS) to analyse the plasma samples of diabetes patients without and with DMCs along with the plasma samples of healthy subjects. Spectral comparisons revealed decrease in protein content in Diabetes group and further subsequent decrease in proteins in DMC groups when compared with control group, which corroborates with the fact that there exists increased secretion of proteins in urine and corresponding decreased protein content in their blood in case of diabetic individuals. Among all study groups, it was noted that 75% of control spectra show correct classification, while spectral misclassification is high amongst the subjects with Diabetes and DMCs. Interestingly, very few Diabetes and DMC plasma spectra are misclassified as control spectra. Findings demonstrate that 70% of the Diabetes subjects without complications can be correctly identified from diabetes with complications. Further, investigations could also attempt to explore the use of serum instead of plasma to reduce the spectral misclassifications as one of the abundant constituents namely clotting factors could be avoided. The outcome of RS study may be imminent for the early detection or diagnosis of DMCs.'\n",
    "\n",
    "example = {'instruction' : 'Write 5 catchy title each not more than 15 words for the following paper abstract. The title should be a single sentence that accurately captures what you have done and sounds interesting to the people who work on the same or a similar topic. The title should contain the important title keywords that other researchers use when looking for literature in databases. The title should also use synonyms, broader terms, or abstractive keywords to make it more appealing and informative. Do not use words that are not related to the paper extract or the topic',\n",
    "    'input' : abstract }\n",
    "def formatting_func(example):\n",
    "    text = f\"<s>[INST]Below is an instruction that describes a task, paired with an input that provides further context. Write a response that appropriately completes the request.{example['instruction']}\\n\\n### Input:{example['input']}[/INST]\"\n",
    "    return text\n",
    "eval_prompt = formatting_func(example)\n",
    "print(eval_prompt)"
   ]
  },
  {
   "cell_type": "markdown",
   "id": "f5e7a055",
   "metadata": {
    "papermill": {
     "duration": 0.016393,
     "end_time": "2024-04-15T13:04:24.579178",
     "exception": false,
     "start_time": "2024-04-15T13:04:24.562785",
     "status": "completed"
    },
    "tags": []
   },
   "source": [
    "<div class=\"anchor\" id=\"top\" style=\"\n",
    "    margin-right: auto; \n",
    "    margin-left: auto;\n",
    "    padding: 10px;\n",
    "   font-size : 120%;\n",
    "    background-color: #FEF2EF;\n",
    "    border-radius: 2px;\n",
    "    font-color :  #581845  ;        \n",
    "    border: 2px solid #FF5733 ;\"> \n",
    "\n",
    "#### To filter out any unnecessary warnings"
   ]
  },
  {
   "cell_type": "code",
   "execution_count": 10,
   "id": "cf7841ac",
   "metadata": {
    "execution": {
     "iopub.execute_input": "2024-04-15T13:04:24.612995Z",
     "iopub.status.busy": "2024-04-15T13:04:24.612643Z",
     "iopub.status.idle": "2024-04-15T13:04:24.617381Z",
     "shell.execute_reply": "2024-04-15T13:04:24.616497Z"
    },
    "papermill": {
     "duration": 0.023875,
     "end_time": "2024-04-15T13:04:24.619248",
     "exception": false,
     "start_time": "2024-04-15T13:04:24.595373",
     "status": "completed"
    },
    "tags": []
   },
   "outputs": [],
   "source": [
    "import warnings\n",
    "warnings.filterwarnings(\"ignore\")\n",
    "warnings.filterwarnings(\"ignore\", category=UserWarning, module=\"transformers\")"
   ]
  },
  {
   "cell_type": "code",
   "execution_count": 11,
   "id": "719285a9",
   "metadata": {
    "execution": {
     "iopub.execute_input": "2024-04-15T13:04:24.653682Z",
     "iopub.status.busy": "2024-04-15T13:04:24.653380Z",
     "iopub.status.idle": "2024-04-15T13:04:24.662030Z",
     "shell.execute_reply": "2024-04-15T13:04:24.661244Z"
    },
    "papermill": {
     "duration": 0.028231,
     "end_time": "2024-04-15T13:04:24.663904",
     "exception": false,
     "start_time": "2024-04-15T13:04:24.635673",
     "status": "completed"
    },
    "tags": []
   },
   "outputs": [
    {
     "data": {
      "text/plain": [
       "'\\nextracted_title = model_seq_gen(model)\\nprint(extracted_title)\\n'"
      ]
     },
     "execution_count": 11,
     "metadata": {},
     "output_type": "execute_result"
    }
   ],
   "source": [
    "from datetime import datetime\n",
    "import re\n",
    "\n",
    "def model_seq_gen(model) : \n",
    "        pipe = pipeline(task=\"text-generation\", model=model, tokenizer=tokenizer)\n",
    "        start = datetime.now()\n",
    "        sequences = pipe(\n",
    "            f'{eval_prompt}' ,\n",
    "            do_sample=True,\n",
    "            max_new_tokens=200, \n",
    "            temperature=0.7, \n",
    "            top_p=0.95\n",
    "        )\n",
    "        extracted_title = re.sub(r'[\\'\"]', '', sequences[0]['generated_text'].split(\"[/INST]\")[1])\n",
    "        stop = datetime.now()\n",
    "        time_taken = stop-start\n",
    "        print(f\"Execution Time : {time_taken}\")\n",
    "        return extracted_title\n",
    "'''\n",
    "extracted_title = model_seq_gen(model)\n",
    "print(extracted_title)\n",
    "'''"
   ]
  },
  {
   "cell_type": "code",
   "execution_count": 12,
   "id": "acf8284a",
   "metadata": {
    "execution": {
     "iopub.execute_input": "2024-04-15T13:04:24.697750Z",
     "iopub.status.busy": "2024-04-15T13:04:24.697193Z",
     "iopub.status.idle": "2024-04-15T13:04:39.431068Z",
     "shell.execute_reply": "2024-04-15T13:04:39.430044Z"
    },
    "papermill": {
     "duration": 14.753379,
     "end_time": "2024-04-15T13:04:39.433400",
     "exception": false,
     "start_time": "2024-04-15T13:04:24.680021",
     "status": "completed"
    },
    "tags": []
   },
   "outputs": [
    {
     "name": "stdout",
     "output_type": "stream",
     "text": [
      "Collecting faker\r\n",
      "  Downloading Faker-24.9.0-py3-none-any.whl.metadata (15 kB)\r\n",
      "Requirement already satisfied: python-dateutil>=2.4 in /opt/conda/lib/python3.10/site-packages (from faker) (2.8.2)\r\n",
      "Requirement already satisfied: six>=1.5 in /opt/conda/lib/python3.10/site-packages (from python-dateutil>=2.4->faker) (1.16.0)\r\n",
      "Downloading Faker-24.9.0-py3-none-any.whl (1.8 MB)\r\n",
      "\u001b[2K   \u001b[90m━━━━━━━━━━━━━━━━━━━━━━━━━━━━━━━━━━━━━━━━\u001b[0m \u001b[32m1.8/1.8 MB\u001b[0m \u001b[31m6.9 MB/s\u001b[0m eta \u001b[36m0:00:00\u001b[0m\r\n",
      "\u001b[?25hInstalling collected packages: faker\r\n",
      "Successfully installed faker-24.9.0\r\n"
     ]
    }
   ],
   "source": [
    "!pip install faker\n"
   ]
  },
  {
   "cell_type": "code",
   "execution_count": 13,
   "id": "6485c781",
   "metadata": {
    "execution": {
     "iopub.execute_input": "2024-04-15T13:04:39.470996Z",
     "iopub.status.busy": "2024-04-15T13:04:39.470071Z",
     "iopub.status.idle": "2024-04-15T13:04:54.600087Z",
     "shell.execute_reply": "2024-04-15T13:04:54.599072Z"
    },
    "papermill": {
     "duration": 15.15097,
     "end_time": "2024-04-15T13:04:54.602367",
     "exception": false,
     "start_time": "2024-04-15T13:04:39.451397",
     "status": "completed"
    },
    "tags": []
   },
   "outputs": [
    {
     "name": "stdout",
     "output_type": "stream",
     "text": [
      "Collecting fpdf\r\n",
      "  Downloading fpdf-1.7.2.tar.gz (39 kB)\r\n",
      "  Preparing metadata (setup.py) ... \u001b[?25l-\b \b\\\b \bdone\r\n",
      "\u001b[?25hBuilding wheels for collected packages: fpdf\r\n",
      "  Building wheel for fpdf (setup.py) ... \u001b[?25l-\b \b\\\b \b|\b \bdone\r\n",
      "\u001b[?25h  Created wheel for fpdf: filename=fpdf-1.7.2-py2.py3-none-any.whl size=40703 sha256=cb35eb27cefb85f0d47461328ff5d25e18c3d0f3f1e3e47910024d4664f4516e\r\n",
      "  Stored in directory: /root/.cache/pip/wheels/f9/95/ba/f418094659025eb9611f17cbcaf2334236bf39a0c3453ea455\r\n",
      "Successfully built fpdf\r\n",
      "Installing collected packages: fpdf\r\n",
      "Successfully installed fpdf-1.7.2\r\n"
     ]
    }
   ],
   "source": [
    "!pip install fpdf\n"
   ]
  },
  {
   "cell_type": "code",
   "execution_count": 14,
   "id": "5a1de833",
   "metadata": {
    "execution": {
     "iopub.execute_input": "2024-04-15T13:04:54.640065Z",
     "iopub.status.busy": "2024-04-15T13:04:54.639751Z",
     "iopub.status.idle": "2024-04-15T13:04:54.652762Z",
     "shell.execute_reply": "2024-04-15T13:04:54.652042Z"
    },
    "papermill": {
     "duration": 0.033938,
     "end_time": "2024-04-15T13:04:54.654681",
     "exception": false,
     "start_time": "2024-04-15T13:04:54.620743",
     "status": "completed"
    },
    "tags": []
   },
   "outputs": [],
   "source": [
    "from fpdf import FPDF\n",
    "import numpy as np\n",
    "import random"
   ]
  },
  {
   "cell_type": "code",
   "execution_count": 15,
   "id": "2a2a2d12",
   "metadata": {
    "execution": {
     "iopub.execute_input": "2024-04-15T13:04:54.691443Z",
     "iopub.status.busy": "2024-04-15T13:04:54.691103Z",
     "iopub.status.idle": "2024-04-15T13:04:54.696715Z",
     "shell.execute_reply": "2024-04-15T13:04:54.695830Z"
    },
    "papermill": {
     "duration": 0.026262,
     "end_time": "2024-04-15T13:04:54.698773",
     "exception": false,
     "start_time": "2024-04-15T13:04:54.672511",
     "status": "completed"
    },
    "tags": []
   },
   "outputs": [],
   "source": [
    "company_names = np.array(['1. Allstate Insurance Company',\n",
    "\n",
    "'State Farm Insurance',\n",
    "'Progressive Corporation',\n",
    "'Liberty Mutual Insurance',\n",
    "'Geico',\n",
    "'Farmers Insurance Group',\n",
    "'Travelers Insurance',\n",
    "'Nationwide Mutual Insurance Company','American Family Insurance',\n",
    "'USAA',\n",
    "'Chubb Limited',\n",
    "'Hartford Financial Services Group',\n",
    "'AIG (American International Group)',\n",
    "'MetLife',\n",
    "'The Hartford',\n",
    "'The Travelers Companies',\n",
    "'Zurich Insurance Group',\n",
    "'Cigna',\n",
    "'UnitedHealthcare',\n",
    "'Aetna',\n",
    "'Blue Cross Blue Shield Association',\n",
    "'Anthem, Inc.',\n",
    "'Humana',\n",
    "'UnitedHealth Group',\n",
    "'Kaiser Permanente',\n",
    "'Health Care Service Corporation',\n",
    "'CVS Health',\n",
    "'United States Fire Insurance Company',\n",
    "'The Hanover Insurance Group',\n",
    "'The Hartford Financial Services Group, Inc.',\n",
    "'The Cincinnati Insurance Company'])"
   ]
  },
  {
   "cell_type": "code",
   "execution_count": 16,
   "id": "ea0985e2",
   "metadata": {
    "execution": {
     "iopub.execute_input": "2024-04-15T13:04:54.738999Z",
     "iopub.status.busy": "2024-04-15T13:04:54.738310Z",
     "iopub.status.idle": "2024-04-15T13:04:54.743081Z",
     "shell.execute_reply": "2024-04-15T13:04:54.742175Z"
    },
    "papermill": {
     "duration": 0.026877,
     "end_time": "2024-04-15T13:04:54.745202",
     "exception": false,
     "start_time": "2024-04-15T13:04:54.718325",
     "status": "completed"
    },
    "tags": []
   },
   "outputs": [
    {
     "name": "stdout",
     "output_type": "stream",
     "text": [
      "241023\n"
     ]
    }
   ],
   "source": [
    "from random import randrange\n",
    "premium_amount = randrange(10000,1000000)\n",
    "print(premium_amount)"
   ]
  },
  {
   "cell_type": "code",
   "execution_count": 17,
   "id": "5b93ab34",
   "metadata": {
    "execution": {
     "iopub.execute_input": "2024-04-15T13:04:54.782988Z",
     "iopub.status.busy": "2024-04-15T13:04:54.782630Z",
     "iopub.status.idle": "2024-04-15T13:04:54.850401Z",
     "shell.execute_reply": "2024-04-15T13:04:54.849500Z"
    },
    "papermill": {
     "duration": 0.088871,
     "end_time": "2024-04-15T13:04:54.852435",
     "exception": false,
     "start_time": "2024-04-15T13:04:54.763564",
     "status": "completed"
    },
    "tags": []
   },
   "outputs": [],
   "source": [
    "from faker import Faker"
   ]
  },
  {
   "cell_type": "code",
   "execution_count": 18,
   "id": "6edbde61",
   "metadata": {
    "execution": {
     "iopub.execute_input": "2024-04-15T13:04:54.890176Z",
     "iopub.status.busy": "2024-04-15T13:04:54.889916Z",
     "iopub.status.idle": "2024-04-15T13:04:54.941266Z",
     "shell.execute_reply": "2024-04-15T13:04:54.940544Z"
    },
    "papermill": {
     "duration": 0.072273,
     "end_time": "2024-04-15T13:04:54.943209",
     "exception": false,
     "start_time": "2024-04-15T13:04:54.870936",
     "status": "completed"
    },
    "tags": []
   },
   "outputs": [],
   "source": [
    "    fake = Faker()\n",
    "    primary_name = fake.name()\n",
    "    primary_address = fake.address()\n",
    "    primary_city = fake.city()\n",
    "    primary_state = fake.state()\n",
    "    primary_zip = fake.zipcode()\n",
    "    primary_email_address   = fake.email()\n",
    "    secondary_name = fake.name()\n",
    "    secondary_address = fake.address()\n",
    "    secondary_email_address   = fake.email()\n",
    "    company_name = random.choice(company_names)\n",
    "    contract_id = random.choice([fake.password(length = 16, special_chars = False ),fake.uuid4()])\n",
    "    a1 = fake.date_of_birth()\n",
    "    b1  = fake.date_of_birth()\n",
    "    \n",
    "    if a1 < b1:\n",
    "        begin_date = str(a1.year)+'-'+str(a1.month)+'-'+str(a1.day)\n",
    "        end_date   =   str(b1.year)+'-'+str(b1.month)+'-'+str(b1.day)\n",
    "    else:\n",
    "        begin_date = str(b1.year)+'-'+str(b1.month)+'-'+str(b1.day)\n",
    "        end_date   =   str(a1.year)+'-'+str(a1.month)+'-'+str(a1.day)\n",
    "\n",
    "\n",
    "    \n",
    "    #prompt enginer \n",
    "    prompt = \"Compose a standard Legal Auto Claims Insurance Policy document between the Insurer {} and {} \\. The following are the details of the Insurer. \\\n",
    "    \\nAddress: {} \\nEmail:   {}. The Policy Number  for the Legal Auto Claims Policy is {}. \\\n",
    "    \\nThe Start date of the Legal Auto Claims Policy is {} and the End date of Legal Auto Claims Policy is {}. \\\n",
    "    \\nThe policy has a premium amount of {}. \\\n",
    "    \\nThe Legal Auto Claims Policy must include the Address and Email Information at the beginning of the Legal Auto Claims Policy.  \\\n",
    "    \\nThe Legal Auto Claims Policy must include the Policy Number at the beginning of the Legal Auto Claims Policy.  \\\n",
    "    \\nThe Legal Auto Claims Policy must include the Start date and End date at the beginning of the Legal Auto Claims Policy.  \\\n",
    "    \\nThe Legal Policy must have different subsections.\\\n",
    "    \\nThe subsections are \\\n",
    "    a) Automobile Liability Insurance. b) Automobile Medical Payments. c) Automobile Debt Indemnity Insurance. \\\n",
    "    d) Uninsured Motorists Insurance. e) Default Provisions. f) Personal Injury Protection. g) Collision Insurance. h) Comprehensive Insurance. i) Rental Reimbursement Insurance. j) Towing and Labor Coverage.\\\n",
    "    k) Waiver of Deductible. Each subsection must include Exclusions. \\\n",
    "    \\nEach subsection must include LIMITS OF LIABILITY and What is not covered. \\\n",
    "    \\nTHe End the document must have closing remarks and place for signature.\\\n",
    "    \\nDo NOT writing anything after the closing remarks and place for signature.\\\n",
    "    \\nThe Legal Auto Claims Policy must also include the following mailing contact information {}, {},{} \\\n",
    "    \".format(company_name,primary_name,primary_address,primary_email_address,contract_id,begin_date, end_date,premium_amount, secondary_name,secondary_address,secondary_email_address)\n",
    "    "
   ]
  },
  {
   "cell_type": "code",
   "execution_count": 19,
   "id": "d72130aa",
   "metadata": {
    "execution": {
     "iopub.execute_input": "2024-04-15T13:04:54.980222Z",
     "iopub.status.busy": "2024-04-15T13:04:54.979944Z",
     "iopub.status.idle": "2024-04-15T13:04:54.984154Z",
     "shell.execute_reply": "2024-04-15T13:04:54.983383Z"
    },
    "papermill": {
     "duration": 0.024982,
     "end_time": "2024-04-15T13:04:54.986247",
     "exception": false,
     "start_time": "2024-04-15T13:04:54.961265",
     "status": "completed"
    },
    "tags": []
   },
   "outputs": [
    {
     "name": "stdout",
     "output_type": "stream",
     "text": [
      "Compose a standard Legal Auto Claims Insurance Policy document between the Insurer State Farm Insurance and Michael Alexander \\. The following are the details of the Insurer. \n",
      "Address: USNS Hansen\n",
      "FPO AE 64250 \n",
      "Email:   tiffanyoconnor@example.net. The Policy Number  for the Legal Auto Claims Policy is S2TCRs5GJQ0Urhd8. \n",
      "The Start date of the Legal Auto Claims Policy is 1909-1-22 and the End date of Legal Auto Claims Policy is 1918-12-30. \n",
      "The policy has a premium amount of 241023. \n",
      "The Legal Auto Claims Policy must include the Address and Email Information at the beginning of the Legal Auto Claims Policy.  \n",
      "The Legal Auto Claims Policy must include the Policy Number at the beginning of the Legal Auto Claims Policy.  \n",
      "The Legal Auto Claims Policy must include the Start date and End date at the beginning of the Legal Auto Claims Policy.  \n",
      "The Legal Policy must have different subsections.\n",
      "The subsections are a) Automobile Liability Insurance. b) Automobile Medical Payments. c) Automobile Debt Indemnity Insurance. d) Uninsured Motorists Insurance. e) Default Provisions. f) Personal Injury Protection. g) Collision Insurance. h) Comprehensive Insurance. i) Rental Reimbursement Insurance. j) Towing and Labor Coverage.k) Waiver of Deductible. Each subsection must include Exclusions. \n",
      "Each subsection must include LIMITS OF LIABILITY and What is not covered. \n",
      "THe End the document must have closing remarks and place for signature.\n",
      "Do NOT writing anything after the closing remarks and place for signature.\n",
      "The Legal Auto Claims Policy must also include the following mailing contact information Kimberly Howard, USNV Allen\n",
      "FPO AA 02103,estewart@example.net \n"
     ]
    }
   ],
   "source": [
    "print(prompt)"
   ]
  },
  {
   "cell_type": "code",
   "execution_count": 20,
   "id": "18dd1f06",
   "metadata": {
    "execution": {
     "iopub.execute_input": "2024-04-15T13:04:55.027530Z",
     "iopub.status.busy": "2024-04-15T13:04:55.026564Z",
     "iopub.status.idle": "2024-04-15T13:04:55.031606Z",
     "shell.execute_reply": "2024-04-15T13:04:55.030652Z"
    },
    "papermill": {
     "duration": 0.028538,
     "end_time": "2024-04-15T13:04:55.033566",
     "exception": false,
     "start_time": "2024-04-15T13:04:55.005028",
     "status": "completed"
    },
    "tags": []
   },
   "outputs": [],
   "source": [
    "label_types= ['company_name','primary_name','primary_address','primary_email_address','contract_id','begin_date', 'end_date','premium_amount', 'secondary_name','secondary_address','secondary_email_address']"
   ]
  },
  {
   "cell_type": "code",
   "execution_count": 21,
   "id": "221d3dcb",
   "metadata": {
    "execution": {
     "iopub.execute_input": "2024-04-15T13:04:55.076113Z",
     "iopub.status.busy": "2024-04-15T13:04:55.075383Z",
     "iopub.status.idle": "2024-04-15T13:04:55.080229Z",
     "shell.execute_reply": "2024-04-15T13:04:55.079327Z"
    },
    "papermill": {
     "duration": 0.028255,
     "end_time": "2024-04-15T13:04:55.082361",
     "exception": false,
     "start_time": "2024-04-15T13:04:55.054106",
     "status": "completed"
    },
    "tags": []
   },
   "outputs": [],
   "source": [
    "label_values = [company_name,primary_name,primary_address,primary_email_address,contract_id,begin_date, end_date,premium_amount, secondary_name,secondary_address,secondary_email_address]"
   ]
  },
  {
   "cell_type": "code",
   "execution_count": 22,
   "id": "994356e5",
   "metadata": {
    "execution": {
     "iopub.execute_input": "2024-04-15T13:04:55.123921Z",
     "iopub.status.busy": "2024-04-15T13:04:55.123366Z",
     "iopub.status.idle": "2024-04-15T13:09:01.742633Z",
     "shell.execute_reply": "2024-04-15T13:09:01.741635Z"
    },
    "papermill": {
     "duration": 246.660783,
     "end_time": "2024-04-15T13:09:01.763757",
     "exception": false,
     "start_time": "2024-04-15T13:04:55.102974",
     "status": "completed"
    },
    "tags": []
   },
   "outputs": [
    {
     "name": "stderr",
     "output_type": "stream",
     "text": [
      "Setting `pad_token_id` to `eos_token_id`:2 for open-end generation.\n"
     ]
    },
    {
     "name": "stdout",
     "output_type": "stream",
     "text": [
      "2024-04-15 13:04:55.130605\n",
      "Execution Time : 0:04:06.593265\n",
      "[{'generated_text': \"\\nThe following paragraph is my Legal Auto Claims Policy for State Farm Insurance. \\n\\nPlease accept this as a formal, legal, and binding contract.\\n\\nAUTOMOBILE LIABILITY INSURANCE\\nAutomobile Liability insurance is an agreement to provide payment for a legal obligation imposed by law for personal injury or death incurred to other people and for property damage to others. The maximum amount of automobile bodily injury benefits that the Insurer will provide for each person as a result of an accident is $100,000. The maximum amount of automobile bodily injury benefits that the Insurer will provide to any one accident is $300,000. The maximum amount of automobile property damage benefits that the Insurer will pay to any one person is $50,000. The maximum amount of automobile property damage benefits that the Insurer will pay in any one accident is $100,000. \\n\\nExclusions\\nThis policy does not cover personal injuries or damage to property caused by\\n1. The Insured's intentional acts. \\n2. War or acts of war.\\n3. Nuclear accidents.\\n4. Damages which the insured is not legally liable, whether under a civil or criminal action.\\n\\nLIMITS OF LIABILITY\\nThe Insured shall be provided benefits for medical expense and loss of income up to two years from the date of the personal injury, but not to exceed $100,000 each accident. The amount for other losses shall be established by the court or agreement between parties and the insurer.\\n\\nWHAT IS NOT COVERED\\nThis policy does not cover insured's personal injury or property damage caused by the insured's vehicle.\\n\\nAUTOMOBILE MEDICAL PAYMENTS\\nThis coverage pays for the medical payment for the Insured's medical and funeral expenses incurred due to an accident, regardless of fault.\\n\\nExclusions\\nThe following are the exclusions for the Automobile Medical Payments:\\n1. The medical payment does not include the Insured's intentional acts.\\n2. The medical benefit does not apply if the Insured is not the driver.\\n3. War or acts of war\\n4. Nuclear accidents\\n5. Medical expenses due to illnesses and/or sicknesses.\\n6. Mass transit accidents\\n\\nLIMITS OF LIABILITY\\nThe Insured shall be provided $1,000 for each accident, regardless of fault. \\n\\nWHAT IS NOT COVERED\\nThis policy does not cover Insured's funeral expenses due to illnesses and/or sicknesses.\\n\\nAUTOMOBILE DEBT INDEMNITY INSURANCE\\nThis is an optional coverage. When the Insured incurs in an accident that is their fault, the policy provides coverage for the vehicle loan or lease in case they die or become a permanently disabled person.\\n\\nExclusions\\nThe following are the exclusions:\\n1. The Insured's intentional acts.\\n2. War or acts of war.\\n3. Nuclear accidents.\\n4. Non-motor-vehicle accidents.\\n\\nLIMITS OF LIABILITY\\nThe Insured shall be provided up to the limit of the balance of their vehicle loan or lease.\\n\\nWHAT IS NOT COVERED\\nThis policy does not cover the Insured's medical expenses.\\n\\nUNINSURED MOTORISTS INSURANCE\\nThis coverage protects the Insured against uninsured drivers as well as drivers whose insurer become insolvent, and hit and runs.\\n\\nExclusions\\nThe following are the exclusions:\\n1. The Insured's intentional acts.\\n2. War or acts of war.\\n3. Nuclear accidents.\\n4. Damages which the insured is not legally liable, whether under a civil or criminal action.\\n5. The Insured's medical expenses.\\n\\nLIMITS OF LIABILITY\\nThe Insured shall be provided up to $250,000 per person with a maximum payout of $500,000 per accident.\\n\\nWHAT IS NOT COVERED\\nThis policy does not cover the Insured's medical expenses.\\n\\nDEFAULT PROVISIONS\\nThe policy shall automatically extend itself for an additional period of six months beyond its expiration date, unless the Insurer has terminated this policy on the basis of nonpayment of premium.\\n\\nExclusions\\nThe following are the exclusions:\\n1. The Insured's intentional acts.\\n2. War or acts of war.\\n3. Nuclear accidents.\\n\\nLIMITS OF LIABILITY\\nThe Insured shall be provided a credit in the amount of the unearned part of the premium for the remaining of the policy extension period. The Insured shall also be given an opportunity to pay the premium for the extended term before the premium becomes due.\\n\\nWHAT IS NOT COVERED\\nThis policy does not cover insured's personal claims if they die within 90 days of the effective.\\n\\nPERSONAL INJURY PROTECTION\\nThis coverage is available to Insured to pay for medical expenses and loss of income from an automobile accident, regardless of fault.\\n\\nExclusions\\nThe following are the exclusions:\\n1. The Insured's intentional acts.\\n2. War or acts of war.\\n3. Nuclear accidents.\\n4. Damages which the insured is not legally li\"}]\n",
      "2024-04-15 13:09:01.739432\n"
     ]
    }
   ],
   "source": [
    "from datetime import datetime\n",
    "import re\n",
    "import pandas as pd\n",
    "print(datetime.now())\n",
    "def model_seq_gen(model) : \n",
    "        pipe = pipeline(task=\"text-generation\", model=model, tokenizer=tokenizer)\n",
    "        start = datetime.now()\n",
    "        sequences = pipe(\n",
    "            f'{prompt}' ,\n",
    "            do_sample=True,\n",
    "            max_new_tokens=1200, return_full_text=False\n",
    "            #temperature=0.7, \n",
    "            #top_p=0.95\n",
    "        )\n",
    "        extracted_title = sequences.copy()#re.sub(r'[\\'\"]', '', sequences[0]['generated_text'].split(\"[/INST]\")[1])\n",
    "        stop = datetime.now()\n",
    "        time_taken = stop-start\n",
    "        print(f\"Execution Time : {time_taken}\")\n",
    "        return extracted_title\n",
    "    \n",
    "output_list = []\n",
    "for i in range(1,2):\n",
    "    extracted_title = model_seq_gen(model)\n",
    "    text2 = extracted_title[0]['generated_text'].encode('latin-1', 'replace').decode('latin-1')\n",
    "\n",
    "    output_list.append(text2)\n",
    "    # save FPDF() class into a \n",
    "        # variable pdf\n",
    "    pdf = FPDF()\n",
    "\n",
    "        # Add a page\n",
    "    pdf.add_page()\n",
    "\n",
    "        # set style and size of font \n",
    "        # that you want in the pdf\n",
    "    pdf.set_font(\"Arial\", size = 15)\n",
    "\n",
    "        # create a cell\n",
    "    pdf.multi_cell(200, 10, txt = text2, \n",
    "                 align = 'C')\n",
    "\n",
    "\n",
    "    # save the pdf with name .pdf\n",
    "    pdf_filename = \"output_\"+ str(i) +\"_v2a.pdf\"\n",
    "    #try:\n",
    "    pdf.output(pdf_filename) \n",
    "    essay = label_values + [text2]\n",
    "    #except:\n",
    "    pass\n",
    "\n",
    "pd.DataFrame(output_list).to_csv(\"synth_policies.csv\")\n",
    "print(extracted_title)\n",
    "print(datetime.now())\n"
   ]
  },
  {
   "cell_type": "code",
   "execution_count": 23,
   "id": "ac64152e",
   "metadata": {
    "execution": {
     "iopub.execute_input": "2024-04-15T13:09:01.803494Z",
     "iopub.status.busy": "2024-04-15T13:09:01.802987Z",
     "iopub.status.idle": "2024-04-15T13:09:01.806863Z",
     "shell.execute_reply": "2024-04-15T13:09:01.805987Z"
    },
    "papermill": {
     "duration": 0.025956,
     "end_time": "2024-04-15T13:09:01.808686",
     "exception": false,
     "start_time": "2024-04-15T13:09:01.782730",
     "status": "completed"
    },
    "tags": []
   },
   "outputs": [],
   "source": [
    "#information_list"
   ]
  },
  {
   "cell_type": "code",
   "execution_count": 24,
   "id": "4dedbb08",
   "metadata": {
    "execution": {
     "iopub.execute_input": "2024-04-15T13:09:01.846738Z",
     "iopub.status.busy": "2024-04-15T13:09:01.846468Z",
     "iopub.status.idle": "2024-04-15T13:09:01.850859Z",
     "shell.execute_reply": "2024-04-15T13:09:01.850008Z"
    },
    "papermill": {
     "duration": 0.025773,
     "end_time": "2024-04-15T13:09:01.853009",
     "exception": false,
     "start_time": "2024-04-15T13:09:01.827236",
     "status": "completed"
    },
    "tags": []
   },
   "outputs": [
    {
     "name": "stdout",
     "output_type": "stream",
     "text": [
      "\n",
      "The following paragraph is my Legal Auto Claims Policy for State Farm Insurance. \n",
      "\n",
      "Please accept this as a formal, legal, and binding contract.\n",
      "\n",
      "AUTOMOBILE LIABILITY INSURANCE\n",
      "Automobile Liability insurance is an agreement to provide payment for a legal obligation imposed by law for personal injury or death incurred to other people and for property damage to others. The maximum amount of automobile bodily injury benefits that the Insurer will provide for each person as a result of an accident is $100,000. The maximum amount of automobile bodily injury benefits that the Insurer will provide to any one accident is $300,000. The maximum amount of automobile property damage benefits that the Insurer will pay to any one person is $50,000. The maximum amount of automobile property damage benefits that the Insurer will pay in any one accident is $100,000. \n",
      "\n",
      "Exclusions\n",
      "This policy does not cover personal injuries or damage to property caused by\n",
      "1. The Insured's intentional acts. \n",
      "2. War or acts of war.\n",
      "3. Nuclear accidents.\n",
      "4. Damages which the insured is not legally liable, whether under a civil or criminal action.\n",
      "\n",
      "LIMITS OF LIABILITY\n",
      "The Insured shall be provided benefits for medical expense and loss of income up to two years from the date of the personal injury, but not to exceed $100,000 each accident. The amount for other losses shall be established by the court or agreement between parties and the insurer.\n",
      "\n",
      "WHAT IS NOT COVERED\n",
      "This policy does not cover insured's personal injury or property damage caused by the insured's vehicle.\n",
      "\n",
      "AUTOMOBILE MEDICAL PAYMENTS\n",
      "This coverage pays for the medical payment for the Insured's medical and funeral expenses incurred due to an accident, regardless of fault.\n",
      "\n",
      "Exclusions\n",
      "The following are the exclusions for the Automobile Medical Payments:\n",
      "1. The medical payment does not include the Insured's intentional acts.\n",
      "2. The medical benefit does not apply if the Insured is not the driver.\n",
      "3. War or acts of war\n",
      "4. Nuclear accidents\n",
      "5. Medical expenses due to illnesses and/or sicknesses.\n",
      "6. Mass transit accidents\n",
      "\n",
      "LIMITS OF LIABILITY\n",
      "The Insured shall be provided $1,000 for each accident, regardless of fault. \n",
      "\n",
      "WHAT IS NOT COVERED\n",
      "This policy does not cover Insured's funeral expenses due to illnesses and/or sicknesses.\n",
      "\n",
      "AUTOMOBILE DEBT INDEMNITY INSURANCE\n",
      "This is an optional coverage. When the Insured incurs in an accident that is their fault, the policy provides coverage for the vehicle loan or lease in case they die or become a permanently disabled person.\n",
      "\n",
      "Exclusions\n",
      "The following are the exclusions:\n",
      "1. The Insured's intentional acts.\n",
      "2. War or acts of war.\n",
      "3. Nuclear accidents.\n",
      "4. Non-motor-vehicle accidents.\n",
      "\n",
      "LIMITS OF LIABILITY\n",
      "The Insured shall be provided up to the limit of the balance of their vehicle loan or lease.\n",
      "\n",
      "WHAT IS NOT COVERED\n",
      "This policy does not cover the Insured's medical expenses.\n",
      "\n",
      "UNINSURED MOTORISTS INSURANCE\n",
      "This coverage protects the Insured against uninsured drivers as well as drivers whose insurer become insolvent, and hit and runs.\n",
      "\n",
      "Exclusions\n",
      "The following are the exclusions:\n",
      "1. The Insured's intentional acts.\n",
      "2. War or acts of war.\n",
      "3. Nuclear accidents.\n",
      "4. Damages which the insured is not legally liable, whether under a civil or criminal action.\n",
      "5. The Insured's medical expenses.\n",
      "\n",
      "LIMITS OF LIABILITY\n",
      "The Insured shall be provided up to $250,000 per person with a maximum payout of $500,000 per accident.\n",
      "\n",
      "WHAT IS NOT COVERED\n",
      "This policy does not cover the Insured's medical expenses.\n",
      "\n",
      "DEFAULT PROVISIONS\n",
      "The policy shall automatically extend itself for an additional period of six months beyond its expiration date, unless the Insurer has terminated this policy on the basis of nonpayment of premium.\n",
      "\n",
      "Exclusions\n",
      "The following are the exclusions:\n",
      "1. The Insured's intentional acts.\n",
      "2. War or acts of war.\n",
      "3. Nuclear accidents.\n",
      "\n",
      "LIMITS OF LIABILITY\n",
      "The Insured shall be provided a credit in the amount of the unearned part of the premium for the remaining of the policy extension period. The Insured shall also be given an opportunity to pay the premium for the extended term before the premium becomes due.\n",
      "\n",
      "WHAT IS NOT COVERED\n",
      "This policy does not cover insured's personal claims if they die within 90 days of the effective.\n",
      "\n",
      "PERSONAL INJURY PROTECTION\n",
      "This coverage is available to Insured to pay for medical expenses and loss of income from an automobile accident, regardless of fault.\n",
      "\n",
      "Exclusions\n",
      "The following are the exclusions:\n",
      "1. The Insured's intentional acts.\n",
      "2. War or acts of war.\n",
      "3. Nuclear accidents.\n",
      "4. Damages which the insured is not legally li\n"
     ]
    }
   ],
   "source": [
    "print(extracted_title[0]['generated_text'])"
   ]
  },
  {
   "cell_type": "code",
   "execution_count": 25,
   "id": "fc962e4f",
   "metadata": {
    "execution": {
     "iopub.execute_input": "2024-04-15T13:09:01.890776Z",
     "iopub.status.busy": "2024-04-15T13:09:01.890513Z",
     "iopub.status.idle": "2024-04-15T13:09:01.894660Z",
     "shell.execute_reply": "2024-04-15T13:09:01.893790Z"
    },
    "papermill": {
     "duration": 0.025505,
     "end_time": "2024-04-15T13:09:01.896851",
     "exception": false,
     "start_time": "2024-04-15T13:09:01.871346",
     "status": "completed"
    },
    "tags": []
   },
   "outputs": [
    {
     "name": "stdout",
     "output_type": "stream",
     "text": [
      "\n",
      "The following paragraph is my Legal Auto Claims Policy for State Farm Insurance. \n",
      "\n",
      "Please accept this as a formal, legal, and binding contract.\n",
      "\n",
      "AUTOMOBILE LIABILITY INSURANCE\n",
      "Automobile Liability insurance is an agreement to provide payment for a legal obligation imposed by law for personal injury or death incurred to other people and for property damage to others. The maximum amount of automobile bodily injury benefits that the Insurer will provide for each person as a result of an accident is $100,000. The maximum amount of automobile bodily injury benefits that the Insurer will provide to any one accident is $300,000. The maximum amount of automobile property damage benefits that the Insurer will pay to any one person is $50,000. The maximum amount of automobile property damage benefits that the Insurer will pay in any one accident is $100,000. \n",
      "\n",
      "Exclusions\n",
      "This policy does not cover personal injuries or damage to property caused by\n",
      "1. The Insured's intentional acts. \n",
      "2. War or acts of war.\n",
      "3. Nuclear accidents.\n",
      "4. Damages which the insured is not legally liable, whether under a civil or criminal action.\n",
      "\n",
      "LIMITS OF LIABILITY\n",
      "The Insured shall be provided benefits for medical expense and loss of income up to two years from the date of the personal injury, but not to exceed $100,000 each accident. The amount for other losses shall be established by the court or agreement between parties and the insurer.\n",
      "\n",
      "WHAT IS NOT COVERED\n",
      "This policy does not cover insured's personal injury or property damage caused by the insured's vehicle.\n",
      "\n",
      "AUTOMOBILE MEDICAL PAYMENTS\n",
      "This coverage pays for the medical payment for the Insured's medical and funeral expenses incurred due to an accident, regardless of fault.\n",
      "\n",
      "Exclusions\n",
      "The following are the exclusions for the Automobile Medical Payments:\n",
      "1. The medical payment does not include the Insured's intentional acts.\n",
      "2. The medical benefit does not apply if the Insured is not the driver.\n",
      "3. War or acts of war\n",
      "4. Nuclear accidents\n",
      "5. Medical expenses due to illnesses and/or sicknesses.\n",
      "6. Mass transit accidents\n",
      "\n",
      "LIMITS OF LIABILITY\n",
      "The Insured shall be provided $1,000 for each accident, regardless of fault. \n",
      "\n",
      "WHAT IS NOT COVERED\n",
      "This policy does not cover Insured's funeral expenses due to illnesses and/or sicknesses.\n",
      "\n",
      "AUTOMOBILE DEBT INDEMNITY INSURANCE\n",
      "This is an optional coverage. When the Insured incurs in an accident that is their fault, the policy provides coverage for the vehicle loan or lease in case they die or become a permanently disabled person.\n",
      "\n",
      "Exclusions\n",
      "The following are the exclusions:\n",
      "1. The Insured's intentional acts.\n",
      "2. War or acts of war.\n",
      "3. Nuclear accidents.\n",
      "4. Non-motor-vehicle accidents.\n",
      "\n",
      "LIMITS OF LIABILITY\n",
      "The Insured shall be provided up to the limit of the balance of their vehicle loan or lease.\n",
      "\n",
      "WHAT IS NOT COVERED\n",
      "This policy does not cover the Insured's medical expenses.\n",
      "\n",
      "UNINSURED MOTORISTS INSURANCE\n",
      "This coverage protects the Insured against uninsured drivers as well as drivers whose insurer become insolvent, and hit and runs.\n",
      "\n",
      "Exclusions\n",
      "The following are the exclusions:\n",
      "1. The Insured's intentional acts.\n",
      "2. War or acts of war.\n",
      "3. Nuclear accidents.\n",
      "4. Damages which the insured is not legally liable, whether under a civil or criminal action.\n",
      "5. The Insured's medical expenses.\n",
      "\n",
      "LIMITS OF LIABILITY\n",
      "The Insured shall be provided up to $250,000 per person with a maximum payout of $500,000 per accident.\n",
      "\n",
      "WHAT IS NOT COVERED\n",
      "This policy does not cover the Insured's medical expenses.\n",
      "\n",
      "DEFAULT PROVISIONS\n",
      "The policy shall automatically extend itself for an additional period of six months beyond its expiration date, unless the Insurer has terminated this policy on the basis of nonpayment of premium.\n",
      "\n",
      "Exclusions\n",
      "The following are the exclusions:\n",
      "1. The Insured's intentional acts.\n",
      "2. War or acts of war.\n",
      "3. Nuclear accidents.\n",
      "\n",
      "LIMITS OF LIABILITY\n",
      "The Insured shall be provided a credit in the amount of the unearned part of the premium for the remaining of the policy extension period. The Insured shall also be given an opportunity to pay the premium for the extended term before the premium becomes due.\n",
      "\n",
      "WHAT IS NOT COVERED\n",
      "This policy does not cover insured's personal claims if they die within 90 days of the effective.\n",
      "\n",
      "PERSONAL INJURY PROTECTION\n",
      "This coverage is available to Insured to pay for medical expenses and loss of income from an automobile accident, regardless of fault.\n",
      "\n",
      "Exclusions\n",
      "The following are the exclusions:\n",
      "1. The Insured's intentional acts.\n",
      "2. War or acts of war.\n",
      "3. Nuclear accidents.\n",
      "4. Damages which the insured is not legally li\n"
     ]
    }
   ],
   "source": [
    "print(text2)"
   ]
  },
  {
   "cell_type": "code",
   "execution_count": null,
   "id": "23bb1f87",
   "metadata": {
    "papermill": {
     "duration": 0.020541,
     "end_time": "2024-04-15T13:09:07.054488",
     "exception": false,
     "start_time": "2024-04-15T13:09:07.033947",
     "status": "completed"
    },
    "tags": []
   },
   "outputs": [],
   "source": []
  }
 ],
 "metadata": {
  "kaggle": {
   "accelerator": "nvidiaTeslaT4",
   "dataSources": [
    {
     "datasetId": 4286707,
     "sourceId": 7376909,
     "sourceType": "datasetVersion"
    },
    {
     "modelInstanceId": 4761,
     "sourceId": 5994,
     "sourceType": "modelInstanceVersion"
    }
   ],
   "dockerImageVersionId": 30648,
   "isGpuEnabled": true,
   "isInternetEnabled": true,
   "language": "python",
   "sourceType": "notebook"
  },
  "kernelspec": {
   "display_name": "Python 3",
   "language": "python",
   "name": "python3"
  },
  "language_info": {
   "codemirror_mode": {
    "name": "ipython",
    "version": 3
   },
   "file_extension": ".py",
   "mimetype": "text/x-python",
   "name": "python",
   "nbconvert_exporter": "python",
   "pygments_lexer": "ipython3",
   "version": "3.6.12"
  },
  "papermill": {
   "default_parameters": {},
   "duration": 1268.8024,
   "end_time": "2024-04-15T13:09:10.034975",
   "environment_variables": {},
   "exception": null,
   "input_path": "__notebook__.ipynb",
   "output_path": "__notebook__.ipynb",
   "parameters": {},
   "start_time": "2024-04-15T12:48:01.232575",
   "version": "2.5.0"
  },
  "widgets": {
   "application/vnd.jupyter.widget-state+json": {
    "state": {
     "1bce991d250d4a33b6a64d5ac36be374": {
      "model_module": "@jupyter-widgets/controls",
      "model_module_version": "1.5.0",
      "model_name": "HTMLModel",
      "state": {
       "_dom_classes": [],
       "_model_module": "@jupyter-widgets/controls",
       "_model_module_version": "1.5.0",
       "_model_name": "HTMLModel",
       "_view_count": null,
       "_view_module": "@jupyter-widgets/controls",
       "_view_module_version": "1.5.0",
       "_view_name": "HTMLView",
       "description": "",
       "description_tooltip": null,
       "layout": "IPY_MODEL_2c1614eb926545879f610fa3e3f65400",
       "placeholder": "​",
       "style": "IPY_MODEL_29346f6ccdd14e118c571337462b01d5",
       "value": " 19/19 [13:46&lt;00:00, 41.43s/it]"
      }
     },
     "29346f6ccdd14e118c571337462b01d5": {
      "model_module": "@jupyter-widgets/controls",
      "model_module_version": "1.5.0",
      "model_name": "DescriptionStyleModel",
      "state": {
       "_model_module": "@jupyter-widgets/controls",
       "_model_module_version": "1.5.0",
       "_model_name": "DescriptionStyleModel",
       "_view_count": null,
       "_view_module": "@jupyter-widgets/base",
       "_view_module_version": "1.2.0",
       "_view_name": "StyleView",
       "description_width": ""
      }
     },
     "2c1614eb926545879f610fa3e3f65400": {
      "model_module": "@jupyter-widgets/base",
      "model_module_version": "1.2.0",
      "model_name": "LayoutModel",
      "state": {
       "_model_module": "@jupyter-widgets/base",
       "_model_module_version": "1.2.0",
       "_model_name": "LayoutModel",
       "_view_count": null,
       "_view_module": "@jupyter-widgets/base",
       "_view_module_version": "1.2.0",
       "_view_name": "LayoutView",
       "align_content": null,
       "align_items": null,
       "align_self": null,
       "border": null,
       "bottom": null,
       "display": null,
       "flex": null,
       "flex_flow": null,
       "grid_area": null,
       "grid_auto_columns": null,
       "grid_auto_flow": null,
       "grid_auto_rows": null,
       "grid_column": null,
       "grid_gap": null,
       "grid_row": null,
       "grid_template_areas": null,
       "grid_template_columns": null,
       "grid_template_rows": null,
       "height": null,
       "justify_content": null,
       "justify_items": null,
       "left": null,
       "margin": null,
       "max_height": null,
       "max_width": null,
       "min_height": null,
       "min_width": null,
       "object_fit": null,
       "object_position": null,
       "order": null,
       "overflow": null,
       "overflow_x": null,
       "overflow_y": null,
       "padding": null,
       "right": null,
       "top": null,
       "visibility": null,
       "width": null
      }
     },
     "55cb3a221fb04d478ee1d0818616e17a": {
      "model_module": "@jupyter-widgets/controls",
      "model_module_version": "1.5.0",
      "model_name": "DescriptionStyleModel",
      "state": {
       "_model_module": "@jupyter-widgets/controls",
       "_model_module_version": "1.5.0",
       "_model_name": "DescriptionStyleModel",
       "_view_count": null,
       "_view_module": "@jupyter-widgets/base",
       "_view_module_version": "1.2.0",
       "_view_name": "StyleView",
       "description_width": ""
      }
     },
     "72d182af76e0448c875131b58e8a592d": {
      "model_module": "@jupyter-widgets/controls",
      "model_module_version": "1.5.0",
      "model_name": "HTMLModel",
      "state": {
       "_dom_classes": [],
       "_model_module": "@jupyter-widgets/controls",
       "_model_module_version": "1.5.0",
       "_model_name": "HTMLModel",
       "_view_count": null,
       "_view_module": "@jupyter-widgets/controls",
       "_view_module_version": "1.5.0",
       "_view_name": "HTMLView",
       "description": "",
       "description_tooltip": null,
       "layout": "IPY_MODEL_a02af1d67eb04407ac3f4c7b4dae4d64",
       "placeholder": "​",
       "style": "IPY_MODEL_55cb3a221fb04d478ee1d0818616e17a",
       "value": "Loading checkpoint shards: 100%"
      }
     },
     "81203d780c9549ab8227ee92548774a5": {
      "model_module": "@jupyter-widgets/controls",
      "model_module_version": "1.5.0",
      "model_name": "HBoxModel",
      "state": {
       "_dom_classes": [],
       "_model_module": "@jupyter-widgets/controls",
       "_model_module_version": "1.5.0",
       "_model_name": "HBoxModel",
       "_view_count": null,
       "_view_module": "@jupyter-widgets/controls",
       "_view_module_version": "1.5.0",
       "_view_name": "HBoxView",
       "box_style": "",
       "children": [
        "IPY_MODEL_72d182af76e0448c875131b58e8a592d",
        "IPY_MODEL_845970ef1f8249d29c8eeb1360e55556",
        "IPY_MODEL_1bce991d250d4a33b6a64d5ac36be374"
       ],
       "layout": "IPY_MODEL_fc40537bf5b542f9a5df55d837c53c9d"
      }
     },
     "845970ef1f8249d29c8eeb1360e55556": {
      "model_module": "@jupyter-widgets/controls",
      "model_module_version": "1.5.0",
      "model_name": "FloatProgressModel",
      "state": {
       "_dom_classes": [],
       "_model_module": "@jupyter-widgets/controls",
       "_model_module_version": "1.5.0",
       "_model_name": "FloatProgressModel",
       "_view_count": null,
       "_view_module": "@jupyter-widgets/controls",
       "_view_module_version": "1.5.0",
       "_view_name": "ProgressView",
       "bar_style": "success",
       "description": "",
       "description_tooltip": null,
       "layout": "IPY_MODEL_cba5b08f00a549cf89ee4b7d3db302f0",
       "max": 19,
       "min": 0,
       "orientation": "horizontal",
       "style": "IPY_MODEL_e7f6dedb13754f4d895c1f5df82ad164",
       "value": 19
      }
     },
     "a02af1d67eb04407ac3f4c7b4dae4d64": {
      "model_module": "@jupyter-widgets/base",
      "model_module_version": "1.2.0",
      "model_name": "LayoutModel",
      "state": {
       "_model_module": "@jupyter-widgets/base",
       "_model_module_version": "1.2.0",
       "_model_name": "LayoutModel",
       "_view_count": null,
       "_view_module": "@jupyter-widgets/base",
       "_view_module_version": "1.2.0",
       "_view_name": "LayoutView",
       "align_content": null,
       "align_items": null,
       "align_self": null,
       "border": null,
       "bottom": null,
       "display": null,
       "flex": null,
       "flex_flow": null,
       "grid_area": null,
       "grid_auto_columns": null,
       "grid_auto_flow": null,
       "grid_auto_rows": null,
       "grid_column": null,
       "grid_gap": null,
       "grid_row": null,
       "grid_template_areas": null,
       "grid_template_columns": null,
       "grid_template_rows": null,
       "height": null,
       "justify_content": null,
       "justify_items": null,
       "left": null,
       "margin": null,
       "max_height": null,
       "max_width": null,
       "min_height": null,
       "min_width": null,
       "object_fit": null,
       "object_position": null,
       "order": null,
       "overflow": null,
       "overflow_x": null,
       "overflow_y": null,
       "padding": null,
       "right": null,
       "top": null,
       "visibility": null,
       "width": null
      }
     },
     "cba5b08f00a549cf89ee4b7d3db302f0": {
      "model_module": "@jupyter-widgets/base",
      "model_module_version": "1.2.0",
      "model_name": "LayoutModel",
      "state": {
       "_model_module": "@jupyter-widgets/base",
       "_model_module_version": "1.2.0",
       "_model_name": "LayoutModel",
       "_view_count": null,
       "_view_module": "@jupyter-widgets/base",
       "_view_module_version": "1.2.0",
       "_view_name": "LayoutView",
       "align_content": null,
       "align_items": null,
       "align_self": null,
       "border": null,
       "bottom": null,
       "display": null,
       "flex": null,
       "flex_flow": null,
       "grid_area": null,
       "grid_auto_columns": null,
       "grid_auto_flow": null,
       "grid_auto_rows": null,
       "grid_column": null,
       "grid_gap": null,
       "grid_row": null,
       "grid_template_areas": null,
       "grid_template_columns": null,
       "grid_template_rows": null,
       "height": null,
       "justify_content": null,
       "justify_items": null,
       "left": null,
       "margin": null,
       "max_height": null,
       "max_width": null,
       "min_height": null,
       "min_width": null,
       "object_fit": null,
       "object_position": null,
       "order": null,
       "overflow": null,
       "overflow_x": null,
       "overflow_y": null,
       "padding": null,
       "right": null,
       "top": null,
       "visibility": null,
       "width": null
      }
     },
     "e7f6dedb13754f4d895c1f5df82ad164": {
      "model_module": "@jupyter-widgets/controls",
      "model_module_version": "1.5.0",
      "model_name": "ProgressStyleModel",
      "state": {
       "_model_module": "@jupyter-widgets/controls",
       "_model_module_version": "1.5.0",
       "_model_name": "ProgressStyleModel",
       "_view_count": null,
       "_view_module": "@jupyter-widgets/base",
       "_view_module_version": "1.2.0",
       "_view_name": "StyleView",
       "bar_color": null,
       "description_width": ""
      }
     },
     "fc40537bf5b542f9a5df55d837c53c9d": {
      "model_module": "@jupyter-widgets/base",
      "model_module_version": "1.2.0",
      "model_name": "LayoutModel",
      "state": {
       "_model_module": "@jupyter-widgets/base",
       "_model_module_version": "1.2.0",
       "_model_name": "LayoutModel",
       "_view_count": null,
       "_view_module": "@jupyter-widgets/base",
       "_view_module_version": "1.2.0",
       "_view_name": "LayoutView",
       "align_content": null,
       "align_items": null,
       "align_self": null,
       "border": null,
       "bottom": null,
       "display": null,
       "flex": null,
       "flex_flow": null,
       "grid_area": null,
       "grid_auto_columns": null,
       "grid_auto_flow": null,
       "grid_auto_rows": null,
       "grid_column": null,
       "grid_gap": null,
       "grid_row": null,
       "grid_template_areas": null,
       "grid_template_columns": null,
       "grid_template_rows": null,
       "height": null,
       "justify_content": null,
       "justify_items": null,
       "left": null,
       "margin": null,
       "max_height": null,
       "max_width": null,
       "min_height": null,
       "min_width": null,
       "object_fit": null,
       "object_position": null,
       "order": null,
       "overflow": null,
       "overflow_x": null,
       "overflow_y": null,
       "padding": null,
       "right": null,
       "top": null,
       "visibility": null,
       "width": null
      }
     }
    },
    "version_major": 2,
    "version_minor": 0
   }
  }
 },
 "nbformat": 4,
 "nbformat_minor": 5
}
