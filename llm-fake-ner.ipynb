{
 "cells": [
  {
   "cell_type": "markdown",
   "id": "a8404ac3",
   "metadata": {},
   "source": [
    "# Introduction to SageMaker JumpStart - text generation with Mistral models\n",
    "\n",
    "---\n",
    "In this demo notebook, we demonstrate how to use the SageMaker Python SDK to deploy Mistral models for text generation tasks.\n",
    "\n",
    "---"
   ]
  },
  {
   "cell_type": "markdown",
   "id": "2e6d2b6c",
   "metadata": {},
   "source": [
    "## Setup\n",
    "***"
   ]
  },
  {
   "cell_type": "code",
   "execution_count": 2,
   "id": "8876b459",
   "metadata": {
    "jumpStartAlterations": [
     "modelIdOnly"
    ],
    "tags": []
   },
   "outputs": [],
   "source": [
    "model_id = \"huggingface-llm-mistral-7b-instruct\""
   ]
  },
  {
   "cell_type": "code",
   "execution_count": 9,
   "id": "85a2a8e5-789f-4041-9927-221257126653",
   "metadata": {
    "tags": []
   },
   "outputs": [
    {
     "name": "stdout",
     "output_type": "stream",
     "text": [
      "-----------!"
     ]
    }
   ],
   "source": [
    "from sagemaker.jumpstart.model import JumpStartModel\n",
    "\n",
    "model = JumpStartModel(model_id=model_id)\n",
    "predictor = model.deploy()"
   ]
  },
  {
   "cell_type": "markdown",
   "id": "7910793e",
   "metadata": {},
   "source": [
    "### Supported parameters\n",
    "\n",
    "***\n",
    "This model supports many parameters while performing inference. They include:\n",
    "\n",
    "* **max_length:** Model generates text until the output length (which includes the input context length) reaches `max_length`. If specified, it must be a positive integer.\n",
    "* **max_new_tokens:** Model generates text until the output length (excluding the input context length) reaches `max_new_tokens`. If specified, it must be a positive integer.\n",
    "* **num_beams:** Number of beams used in the greedy search. If specified, it must be integer greater than or equal to `num_return_sequences`.\n",
    "* **no_repeat_ngram_size:** Model ensures that a sequence of words of `no_repeat_ngram_size` is not repeated in the output sequence. If specified, it must be a positive integer greater than 1.\n",
    "* **temperature:** Controls the randomness in the output. Higher temperature results in output sequence with low-probability words and lower temperature results in output sequence with high-probability words. If `temperature` -> 0, it results in greedy decoding. If specified, it must be a positive float.\n",
    "* **early_stopping:** If True, text generation is finished when all beam hypotheses reach the end of sentence token. If specified, it must be boolean.\n",
    "* **do_sample:** If True, sample the next word as per the likelihood. If specified, it must be boolean.\n",
    "* **top_k:** In each step of text generation, sample from only the `top_k` most likely words. If specified, it must be a positive integer.\n",
    "* **top_p:** In each step of text generation, sample from the smallest possible set of words with cumulative probability `top_p`. If specified, it must be a float between 0 and 1.\n",
    "* **return_full_text:** If True, input text will be part of the output generated text. If specified, it must be boolean. The default value for it is False.\n",
    "* **stop**: If specified, it must a list of strings. Text generation stops if any one of the specified strings is generated.\n",
    "\n",
    "We may specify any subset of the parameters mentioned above while invoking an endpoint. Next, we show an example of how to invoke endpoint with these arguments\n",
    "***"
   ]
  },
  {
   "cell_type": "markdown",
   "id": "306389a4",
   "metadata": {},
   "source": [
    "## Instruction prompts\n",
    "***\n",
    "The examples in this section demonstrate queries to the Mistral 7B Instruct model. This involves special token formatting within the prompt input. The base, pre-trained Mistral model is not fine-tuned to perform this instruction task -- please use the prompts in the next section instead.\n",
    "***"
   ]
  },
  {
   "cell_type": "code",
   "execution_count": 4,
   "id": "c2c6a501",
   "metadata": {
    "tags": []
   },
   "outputs": [],
   "source": [
    "from typing import Dict, List\n",
    "\n",
    "\n",
    "def format_instructions(instructions: List[Dict[str, str]]) -> List[str]:\n",
    "    \"\"\"Format instructions where conversation roles must alternate user/assistant/user/assistant/...\"\"\"\n",
    "    prompt: List[str] = []\n",
    "    for user, answer in zip(instructions[::2], instructions[1::2]):\n",
    "        prompt.extend([\"<s>\", \"[INST] \", (user[\"content\"]).strip(), \" [/INST] \", (answer[\"content\"]).strip(), \"</s>\"])\n",
    "    prompt.extend([\"<s>\", \"[INST] \", (instructions[-1][\"content\"]).strip(), \" [/INST] \"])\n",
    "    return \"\".join(prompt)\n",
    "\n",
    "\n",
    "def print_prompt_and_response(prompt: str, response: str) -> None:\n",
    "    bold, unbold = '\\033[1m', '\\033[0m'\n",
    "    print(f\"{bold}> Input{unbold}\\n{prompt}\\n\\n{bold}> Output{unbold}\\n{response[0]['generated_text']}\\n\")"
   ]
  },
  {
   "cell_type": "code",
   "execution_count": 5,
   "id": "456d35f3",
   "metadata": {
    "collapsed": false,
    "jupyter": {
     "outputs_hidden": false
    },
    "tags": []
   },
   "outputs": [
    {
     "name": "stdout",
     "output_type": "stream",
     "text": [
      "\u001b[1m> Input\u001b[0m\n",
      "<s>[INST] what is the recipe of mayonnaise? [/INST] \n",
      "\n",
      "\u001b[1m> Output\u001b[0m\n",
      " here is a simple recipe for homemade mayonnaise using a blender or food processor:\n",
      "\n",
      "Ingredients:\n",
      "- 1 cup (240 ml) vegetable oil (canola, safflower, or sunflower oil work best)\n",
      "- 1 large egg yolk\n",
      "- 1 tablespoon (15 ml) white wine vinegar or apple cider vinegar\n",
      "- 1 tablespoon (15 ml) lemon juice\n",
      "- 1 teaspoon (5 g) Dijon mustard\n",
      "- 1 teaspoon (5 g) salt\n",
      "- 1/2 teaspoon (2.5 g) sugar (optional)\n",
      "- 1-2 tablespoons (15-30 ml) cold water (if needed)\n",
      "\n",
      "Instructions:\n",
      "\n",
      "1. In a blender or food processor, add the egg yolk, vinegar, lemon juice, mustard, salt, and sugar (if using). Pulse a few times to combine.\n",
      "2. With the machine running, slowly drizzle in about 1/4 cup (60 ml) of oil. duit the oil in a thin, steady stream until all the oil is incorporated\n",
      "\n"
     ]
    }
   ],
   "source": [
    "instructions = [{\"role\": \"user\", \"content\": \"what is the recipe of mayonnaise?\"}]\n",
    "prompt = format_instructions(instructions)\n",
    "payload = {\n",
    "    \"inputs\": prompt,\n",
    "    \"parameters\": {\"max_new_tokens\": 256, \"do_sample\": True}\n",
    "}\n",
    "response = predictor.predict(payload)\n",
    "print_prompt_and_response(prompt, response)"
   ]
  },
  {
   "cell_type": "code",
   "execution_count": 6,
   "id": "e8aa0242",
   "metadata": {
    "tags": []
   },
   "outputs": [
    {
     "name": "stdout",
     "output_type": "stream",
     "text": [
      "\u001b[1m> Input\u001b[0m\n",
      "<s>[INST] I am going to Paris, what should I see? [/INST] Paris, the capital of France, is known for its stunning architecture, art museums, historical landmarks, and romantic atmosphere. Here are some of the top attractions to see in Paris:\n",
      "\n",
      "1. The Eiffel Tower: The iconic Eiffel Tower is one of the most recognizable landmarks in the world and offers breathtaking views of the city.\n",
      "2. The Louvre Museum: The Louvre is one of the world's largest and most famous museums, housing an impressive collection of art and artifacts, including the Mona Lisa.\n",
      "3. Notre-Dame Cathedral: This beautiful cathedral is one of the most famous landmarks in Paris and is known for its Gothic architecture and stunning stained glass windows.\n",
      "\n",
      "These are just a few of the many attractions that Paris has to offer. With so much to see and do, it's no wonder that Paris is one of the most popular tourist destinations in the world.</s><s>[INST] What is so great about #1? [/INST] \n",
      "\n",
      "\u001b[1m> Output\u001b[0m\n",
      "1. The Eiffel Tower is an engineering masterpiece: The Eiffel Tower is one of the most iconic structures in the world and a symbol of Paris. It was designed by Gustave Eiffel and built between 1887 and 1889 to celebrate the 100th anniversary of the French Revolution. The tower stands 1,063 feet tall and was the tallest man-made structure in the world when it was built.\n",
      "2. Breathtaking views: The Eiffel Tower offers stunning views of Paris and beyond. Visitors can climb the stairs or take the elevator to the top to enjoy panoramic views of the city, the Seine River, and the surrounding countryside.\n",
      "3. romantic attraction: The Eiffel Tower is also a popular destination for romantic rendezvous. It is said that many proposals have taken place at the tower, and it is a common spot for couples to lock love locks on the tower's fence as a symbol of their commitment.\n",
      "4. History and Culture: The Eiffel Tower played an important role in the history of Paris and French culture. It was used as a broadcasting tower during both World Wars and was almost demol\n",
      "\n"
     ]
    }
   ],
   "source": [
    "instructions = [\n",
    "    {\"role\": \"user\", \"content\": \"I am going to Paris, what should I see?\"},\n",
    "    {\n",
    "        \"role\": \"assistant\",\n",
    "        \"content\": \"\"\"\\\n",
    "Paris, the capital of France, is known for its stunning architecture, art museums, historical landmarks, and romantic atmosphere. Here are some of the top attractions to see in Paris:\n",
    "\n",
    "1. The Eiffel Tower: The iconic Eiffel Tower is one of the most recognizable landmarks in the world and offers breathtaking views of the city.\n",
    "2. The Louvre Museum: The Louvre is one of the world's largest and most famous museums, housing an impressive collection of art and artifacts, including the Mona Lisa.\n",
    "3. Notre-Dame Cathedral: This beautiful cathedral is one of the most famous landmarks in Paris and is known for its Gothic architecture and stunning stained glass windows.\n",
    "\n",
    "These are just a few of the many attractions that Paris has to offer. With so much to see and do, it's no wonder that Paris is one of the most popular tourist destinations in the world.\"\"\",\n",
    "    },\n",
    "    {\"role\": \"user\", \"content\": \"What is so great about #1?\"},\n",
    "]\n",
    "prompt = format_instructions(instructions)\n",
    "payload = {\n",
    "    \"inputs\": prompt,\n",
    "    \"parameters\": {\"max_new_tokens\": 256, \"do_sample\": True}\n",
    "}\n",
    "response = predictor.predict(payload)\n",
    "print_prompt_and_response(prompt, response)"
   ]
  },
  {
   "cell_type": "code",
   "execution_count": 7,
   "id": "f9eb79c9",
   "metadata": {
    "tags": []
   },
   "outputs": [
    {
     "name": "stdout",
     "output_type": "stream",
     "text": [
      "\u001b[1m> Input\u001b[0m\n",
      "<s>[INST] In Bash, how do I list all text files in the current directory (excluding subdirectories) that have been modified in the last month? [/INST] \n",
      "\n",
      "\u001b[1m> Output\u001b[0m\n",
      "You can use the `find` command in combination with `-type`, `-name`, `-mtime`, and `-print` options to list all text files (with `.txt` extension) in the current directory that have been modified within the last month. Here's the command:\n",
      "\n",
      "```bash\n",
      "find . -type f -name \"*.txt\" -mtime -30 -print\n",
      "```\n",
      "\n",
      "Let's break down the command:\n",
      "\n",
      "- `find .`: Start the search from the current directory.\n",
      "- `-type f`: Look for files only.\n",
      "- `-name \"*.txt\"`: Look for files with the `.txt` extension.\n",
      "- `-mtime -30`: Look for files modified within the last 30 days.\n",
      "- `-print`: Print the names of the files that match the criteria.\n",
      "\n",
      "This command will list all text files (with the `.txt` extension) in the current directory that have been modified within the last month.\n",
      "\n"
     ]
    }
   ],
   "source": [
    "instructions = [\n",
    "    {\n",
    "        \"role\": \"user\",\n",
    "        \"content\": \"In Bash, how do I list all text files in the current directory (excluding subdirectories) that have been modified in the last month?\",\n",
    "    }\n",
    "]\n",
    "prompt = format_instructions(instructions)\n",
    "payload = {\n",
    "    \"inputs\": prompt,\n",
    "    \"parameters\": {\"max_new_tokens\": 256, \"do_sample\": True, \"temperature\": 0.2}\n",
    "}\n",
    "response = predictor.predict(payload)\n",
    "print_prompt_and_response(prompt, response)"
   ]
  },
  {
   "cell_type": "code",
   "execution_count": 10,
   "id": "02294c9c",
   "metadata": {
    "tags": []
   },
   "outputs": [
    {
     "name": "stdout",
     "output_type": "stream",
     "text": [
      "\u001b[1m> Input\u001b[0m\n",
      "<s>[INST] What is the difference between inorder and preorder traversal? Give an example in Python. [/INST] \n",
      "\n",
      "\u001b[1m> Output\u001b[0m\n",
      "Inorder and preorder are two common tree traversal methods used to visit all the nodes in a binary tree. Here's a brief explanation of both traversals and the differences between them:\n",
      "\n",
      "**Inorder Traversal:** In this traversal method, the left subtree is visited first, then the root node, and finally the right subtree. This results in a traversal where the nodes are visited in their respective in-order or traversal sequence, which is the left subtree, root, and right subtree.\n",
      "\n",
      "**Preorder Traversal:** In preorder traversal, the root node is visited first, followed by the left subtree, and finally the right subtree. This results in a traversal where the nodes are visited in the following order: root, left subtree, and right subtree.\n",
      "\n",
      "Here's an example of both inorder and preorder traversals in Python:\n",
      "\n",
      "```python\n",
      "class Node:\n",
      "    def __init__(self, key):\n",
      "        self.left = None\n",
      "        self.right = None\n",
      "        self.val = key\n",
      "\n",
      "def inorder_traversal(root):\n",
      "    if root is None:\n",
      "        return\n",
      "   \n",
      "\n"
     ]
    }
   ],
   "source": [
    "instructions = [\n",
    "    {\n",
    "        \"role\": \"user\",\n",
    "        \"content\": \"What is the difference between inorder and preorder traversal? Give an example in Python.\",\n",
    "    }\n",
    "]\n",
    "prompt = format_instructions(instructions)\n",
    "payload = {\n",
    "    \"inputs\": prompt,\n",
    "    \"parameters\": {\"max_new_tokens\": 256, \"do_sample\": True, \"temperature\": 0.2}\n",
    "}\n",
    "response = predictor.predict(payload)\n",
    "print_prompt_and_response(prompt, response)"
   ]
  },
  {
   "cell_type": "markdown",
   "id": "9c16697f",
   "metadata": {},
   "source": [
    "## Pre-trained model prompts\n",
    "***\n",
    "The examples in this section demonstrate how to perform text generation on the base, pre-trained Mistral model. If you have deployed the instruction-tuned model, please use prompt formatting in the previous section instead.\n",
    "***"
   ]
  },
  {
   "cell_type": "code",
   "execution_count": 11,
   "id": "ffbd1391",
   "metadata": {
    "tags": []
   },
   "outputs": [
    {
     "name": "stdout",
     "output_type": "stream",
     "text": [
      "\u001b[1m> Input\u001b[0m\n",
      "Write a program to compute factorial in python:\n",
      "\n",
      "\u001b[1m> Output\u001b[0m\n",
      "\n",
      "\n",
      "Here is a simple Python program to compute the factorial of a given number using a recursive function:\n",
      "\n",
      "```python\n",
      "# Function to compute factorial using recursion\n",
      "def factorial(n):\n",
      "    # Base case: factorial of 0 is 1\n",
      "    if n == 0:\n",
      "        return 1\n",
      "    # Recursive case: n! = n * (n-1)!\n",
      "    else:\n",
      "        return n * factorial(n-1)\n",
      "\n",
      "# Test the function\n",
      "num = int(input(\"Enter a number: \"))\n",
      "result = factorial(num)\n",
      "print(f\"The factorial of {num} is {result}\")\n",
      "```\n",
      "\n",
      "This program defines a function `factorial` that takes an integer `n` as an argument and returns its factorial. The base case for the recursion is when `n` is equal to 0, in which\n",
      "\n"
     ]
    }
   ],
   "source": [
    "prompt = \"Write a program to compute factorial in python:\"\n",
    "payload = {\n",
    "    \"inputs\": prompt,\n",
    "    \"parameters\": {\n",
    "        \"max_new_tokens\": 200,\n",
    "    },\n",
    "}\n",
    "response = predictor.predict(payload)\n",
    "print_prompt_and_response(prompt, response)"
   ]
  },
  {
   "cell_type": "code",
   "execution_count": 16,
   "id": "368c27c5",
   "metadata": {
    "tags": []
   },
   "outputs": [
    {
     "name": "stdout",
     "output_type": "stream",
     "text": [
      "\u001b[1m> Input\u001b[0m\n",
      "Building a website can be done in 10 simple steps:\n",
      "\n",
      "\u001b[1m> Output\u001b[0m\n",
      "\n",
      "\n",
      "1. Define your website's purpose and target audience.\n",
      "2. Choose a domain name and register it.\n",
      "3. Select a website builder or content management system (CMS) and sign up for a hosting plan.\n",
      "4. Plan your website's structure and create a sitemap.\n",
      "5. Design your website's layout and create wireframes and mockups.\n",
      "6. Write and optimize your website's content.\n",
      "7. Add images, videos, and other media to your website.\n",
      "\n",
      "\n"
     ]
    }
   ],
   "source": [
    "prompt = \"Building a website can be done in 10 simple steps:\"\n",
    "payload = {\n",
    "    \"inputs\": prompt,\n",
    "    \"parameters\": {\n",
    "        \"max_new_tokens\": 110,\n",
    "        \"no_repeat_ngram_size\": 3,\n",
    "    },\n",
    "}\n",
    "response = predictor.predict(payload)\n",
    "print_prompt_and_response(prompt, response)"
   ]
  },
  {
   "cell_type": "code",
   "execution_count": 13,
   "id": "9b6d5d09",
   "metadata": {
    "tags": []
   },
   "outputs": [
    {
     "name": "stdout",
     "output_type": "stream",
     "text": [
      "\u001b[1m> Input\u001b[0m\n",
      "Translate English to French:\n",
      "\n",
      "sea otter => loutre de mer\n",
      "\n",
      "peppermint => menthe poivrée\n",
      "\n",
      "plush girafe => girafe peluche\n",
      "\n",
      "cheese =>\n",
      "\n",
      "\u001b[1m> Output\u001b[0m\n",
      " fromage\n",
      "\n",
      "\n"
     ]
    }
   ],
   "source": [
    "prompt = \"\"\"\\\n",
    "Translate English to French:\n",
    "\n",
    "sea otter => loutre de mer\n",
    "\n",
    "peppermint => menthe poivrée\n",
    "\n",
    "plush girafe => girafe peluche\n",
    "\n",
    "cheese =>\"\"\"\n",
    "payload = {\n",
    "    \"inputs\": prompt,\n",
    "    \"parameters\": {\n",
    "        \"max_new_tokens\": 3,\n",
    "    },\n",
    "}\n",
    "response = predictor.predict(payload)\n",
    "print_prompt_and_response(prompt, response)"
   ]
  },
  {
   "cell_type": "code",
   "execution_count": 14,
   "id": "f79455e6",
   "metadata": {
    "tags": []
   },
   "outputs": [
    {
     "name": "stdout",
     "output_type": "stream",
     "text": [
      "\u001b[1m> Input\u001b[0m\n",
      "Tweet: \"I hate it when my phone battery dies.\"\n",
      "Sentiment: Negative\n",
      "###\n",
      "Tweet: \"My day has been :+1:\"\n",
      "Sentiment: Positive\n",
      "###\n",
      "Tweet: \"This is the link to the article\"\n",
      "Sentiment: Neutral\n",
      "###\n",
      "Tweet: \"This new music video was incredibile\"\n",
      "Sentiment:\n",
      "\n",
      "\u001b[1m> Output\u001b[0m\n",
      " Positive\n",
      "\n"
     ]
    }
   ],
   "source": [
    "prompt = \"\"\"\\\n",
    "Tweet: \"I hate it when my phone battery dies.\"\n",
    "Sentiment: Negative\n",
    "###\n",
    "Tweet: \"My day has been :+1:\"\n",
    "Sentiment: Positive\n",
    "###\n",
    "Tweet: \"This is the link to the article\"\n",
    "Sentiment: Neutral\n",
    "###\n",
    "Tweet: \"This new music video was incredibile\"\n",
    "Sentiment:\"\"\"\n",
    "payload = {\n",
    "    \"inputs\": prompt,\n",
    "    \"parameters\": {\n",
    "        \"max_new_tokens\": 2,\n",
    "    },\n",
    "}\n",
    "response = predictor.predict(payload)\n",
    "print_prompt_and_response(prompt, response)"
   ]
  },
  {
   "cell_type": "code",
   "execution_count": 15,
   "id": "a4d29637",
   "metadata": {
    "tags": []
   },
   "outputs": [
    {
     "name": "stdout",
     "output_type": "stream",
     "text": [
      "\u001b[1m> Input\u001b[0m\n",
      "Could you remind me when was the C programming language invented?\n",
      "\n",
      "\u001b[1m> Output\u001b[0m\n",
      "\n",
      "\n",
      "Yes, I can help you with that! The C programming language was developed by Dennis Ritchie at Bell Labs in 1972. It was initially used to write the UNIX operating system and its utilities. The\n",
      "\n"
     ]
    }
   ],
   "source": [
    "prompt = \"Could you remind me when was the C programming language invented?\"\n",
    "payload = {\n",
    "    \"inputs\": prompt,\n",
    "    \"parameters\": {\n",
    "        \"max_new_tokens\": 50,\n",
    "    },\n",
    "}\n",
    "response = predictor.predict(payload)\n",
    "print_prompt_and_response(prompt, response)"
   ]
  },
  {
   "cell_type": "code",
   "execution_count": 17,
   "id": "5c3f8d30",
   "metadata": {
    "tags": []
   },
   "outputs": [
    {
     "name": "stdout",
     "output_type": "stream",
     "text": [
      "\u001b[1m> Input\u001b[0m\n",
      "What is the recipe for a delicious lemon cheesecake?\n",
      "\n",
      "\u001b[1m> Output\u001b[0m\n",
      " Here's a simple and delicious recipe for a classic lemon cheesecake that is sure to impress your guests.\n",
      "\n",
      "Ingredients:\n",
      "\n",
      "For the crust:\n",
      "- 1 1/2 cups graham cracker crumbs\n",
      "- 1/4 cup granulated sugar\n",
      "- 6 tablespoons unsalted butter, melted\n",
      "\n",
      "For the filling:\n",
      "- 24 ounces cream cheese, softened\n",
      "- 1 1/3 cups granulated sugar\n",
      "- 4 large eggs\n",
      "- 1 cup sour cream\n",
      "- 1/4 cup all-purpose flour\n",
      "- 1 tablespoon lemon zest\n",
      "- 1/2 cup freshly squeezed lemon juice\n",
      "\n",
      "For the topping:\n",
      "- 1 cup sour cream\n",
      "- 1/3 cup granulated sugar\n",
      "- 1 teaspoon vanilla extract\n",
      "\n",
      "Instructions:\n",
      "\n",
      "1. Preheat the\n",
      "\n"
     ]
    }
   ],
   "source": [
    "prompt = \"What is the recipe for a delicious lemon cheesecake?\"\n",
    "payload = {\n",
    "    \"inputs\": prompt,\n",
    "    \"parameters\": {\n",
    "        \"max_new_tokens\": 200,\n",
    "    },\n",
    "}\n",
    "response = predictor.predict(payload)\n",
    "print_prompt_and_response(prompt, response)"
   ]
  },
  {
   "cell_type": "code",
   "execution_count": 24,
   "id": "44dbbd9e-53d3-492d-8b2a-2d42f20f9719",
   "metadata": {
    "tags": []
   },
   "outputs": [
    {
     "name": "stdout",
     "output_type": "stream",
     "text": [
      "\u001b[1m> Input\u001b[0m\n",
      "Compose a Legal Auto Claims Policy from Insurer Chubb. The Legal Policy must have different subsections. The subsections are a) Automobile Liability Insurance. b) Automobile Medical Payments. c) Automobile Debt Indemnity Insurance. d) Uninsured Motorists Insurance. e) Personal Injury Protection. f) Collision Insurance. g) Comprehensive Insurance. h) Rental Reimbursement Insurance. i) Towing and Labor Coverage.j) Waiver of Deductible. Each subsection must include Exclusions.  Each subsection must include LIMITS OF LIABILITY; What is not covered. \n",
      "\n",
      "\u001b[1m> Output\u001b[0m\n",
      "\n",
      "\n",
      "I. AUTOMOBILE LIABILITY INSURANCE\n",
      "\n",
      "a. Description: This coverage provides protection against legal liability for bodily injury or property damage caused by an insured automobile.\n",
      "\n",
      "b. Limits of Liability: The policy will provide coverage up to a limit of $500,000 for each accident.\n",
      "\n",
      "c. Exclusions:\n",
      "1. Coverage does not apply to damages caused intentionally by an insured.\n",
      "2. Coverage does not apply to damages caused by a vehicle not covered under this policy.\n",
      "3. Coverage does not apply to damages caused while the vehicle is being used for racing or other competitive events.\n",
      "4. Coverage does not apply to damages caused by a vehicle not in good working order due to the insured's negligence.\n",
      "\n",
      "II. AUTOMOBILE MEDICAL PAYMENTS\n",
      "\n",
      "a. Description: This coverage pays for reasonable and necessary medical expenses for the insured and any covered passengers resulting from an accident involving an insured automobile.\n",
      "\n",
      "b. Limits of Liability: The policy will provide coverage up to a limit of $10,000 for each person per accident.\n",
      "\n",
      "c. Exclusions:\n",
      "1. Coverage does not apply to injuries sustained while the insured is working as a driver or passenger in a motor vehicle for compensation.\n",
      "2. Coverage does not apply to injuries sustained while the insured is under the influence of drugs or alcohol.\n",
      "3. Coverage does not apply to injuries sustained while the insured is committing a felony.\n",
      "\n",
      "III. AUTOMOBILE DEBT INDEMNITY INSURANCE\n",
      "\n",
      "a. Description: This coverage pays for the insured's debt obligation up to the policy limit if the insured is legally liable for damages to another party's vehicle and does not have sufficient insurance to cover the damages.\n",
      "\n",
      "b. Limits of Liability: The policy will provide coverage up to a limit of $50,000.\n",
      "\n",
      "c. Exclusions:\n",
      "1. Coverage does not apply to damages caused intentionally by an insured.\n",
      "2. Coverage does not apply to damages caused by a vehicle not covered under this policy.\n",
      "3. Coverage does not apply to damages caused while the vehicle is being used for racing or other competitive events.\n",
      "\n",
      "IV. UNINSURED MOTORISTS INSURANCE\n",
      "\n",
      "a. Description: This coverage provides protection for the insured and covered passengers against bodily injury or property damage caused by an uninsured or underinsured motorist.\n",
      "\n",
      "b. Limits of Liability: The policy will provide coverage up to a limit of $500,000 for each accident.\n",
      "\n",
      "c. Exclusions:\n",
      "1. Coverage does not apply to damages caused intentionally by an uninsured motorist.\n",
      "2. Coverage does not apply to damages caused by a motor vehicle not covered under this policy.\n",
      "3. Coverage does not apply to damages caused while the insured is committing a felony.\n",
      "\n",
      "V. PERSONAL INJURY PROTECTION\n",
      "\n",
      "a. Description: This coverage pays for reasonable and necessary medical expenses, loss of income, and other expenses resulting from an injury caused by an automobile accident, regardless of fault.\n",
      "\n",
      "b. Limits of Liability: The policy will provide coverage up to a limit of $10,000 per person per accident.\n",
      "\n",
      "c. Exclusions:\n",
      "1. Coverage does not apply to injuries sustained while the insured is working as a driver or passenger in a motor vehicle for compensation.\n",
      "2. Coverage does not apply to injuries sustained while the insured is under the influence of drugs or alcohol.\n",
      "3. Coverage does not apply to injuries sustained while the insured is committing a felony.\n",
      "\n",
      "VI. COLLISION INSURANCE\n",
      "\n",
      "a. Description: This coverage pays for the cost to repair or replace an insured automobile that is damaged in an accident, regardless of fault.\n",
      "\n",
      "b. Limits of Liability: The policy will provide coverage up to the actual cash value or the agreed value of the insured automobile, whichever is less.\n",
      "\n",
      "c. Exclusions:\n",
      "1. Coverage does not apply to damages caused intentionally by an insured.\n",
      "2. Coverage does not apply to damages caused by a vehicle not covered under this policy.\n",
      "3. Coverage does not apply to damages caused while the vehicle is being used for racing or other competitive events.\n",
      "\n",
      "VII. COMPREHENSIVE INSURANCE\n",
      "\n",
      "a. Description: This coverage pays for the cost to repair or replace an insured automobile that is damaged by causes other than collision, such as theft, vandalism, or natural disasters.\n",
      "\n",
      "b. Limits of Liability: The policy will provide coverage up to the actual cash value or the agreed value of the insured automobile, whichever is less.\n",
      "\n",
      "c. Exclusions:\n",
      "1. Coverage does not apply to damages caused intentionally by an insured.\n",
      "2. Coverage does not apply to damages caused by a vehicle not covered under this policy.\n",
      "3. Coverage does not apply to damages caused while the vehicle is being used for racing or other competitive events.\n",
      "\n",
      "VIII. RENTAL REIMBURSEMENT INSURANCE\n",
      "\n",
      "a. Description: This coverage pays for the reasonable and necessary expenses incurred by the insured for a rental vehicle while their insured automobile\n",
      "\n"
     ]
    }
   ],
   "source": [
    "prompt = \"Compose a Legal Auto Claims Policy from Insurer Chubb. The Legal Policy must have different subsections. The subsections are \\\n",
    "a) Automobile Liability Insurance. b) Automobile Medical Payments. c) Automobile Debt Indemnity Insurance. \\\n",
    "d) Uninsured Motorists Insurance. e) Personal Injury Protection. f) Collision Insurance. g) Comprehensive Insurance. h) Rental Reimbursement Insurance. i) Towing and Labor Coverage.\\\n",
    "j) Waiver of Deductible. Each subsection must include Exclusions.  Each subsection must include LIMITS OF LIABILITY; What is not covered. \"\n",
    "payload = {\n",
    "    \"inputs\": prompt,\n",
    "    \"parameters\": {\n",
    "        \"max_new_tokens\": 1200,\n",
    "        \"no_repeat_ngram_size\": 3,\n",
    "    },\n",
    "}\n",
    "response = predictor.predict(payload)\n",
    "print_prompt_and_response(prompt, response)"
   ]
  },
  {
   "cell_type": "code",
   "execution_count": 26,
   "id": "d15ad585-9caa-4dd1-9f93-a0288ab5ed04",
   "metadata": {
    "tags": []
   },
   "outputs": [],
   "source": [
    "#!pip install Faker"
   ]
  },
  {
   "cell_type": "code",
   "execution_count": 101,
   "id": "bbd1e41b-de5c-4e82-a3a0-34759728dfd4",
   "metadata": {
    "tags": []
   },
   "outputs": [],
   "source": [
    "from faker import Faker\n",
    "fake = Faker()\n",
    "\n",
    "primary_name = fake.name()\n",
    "primary_address = fake.address()\n",
    "primary_city = fake.city()\n",
    "primary_state = fake.state()\n",
    "primary_zip = fake.zipcode()\n",
    "primary_email_address   = fake.email()\n",
    "secondary_name = fake.name()\n",
    "secondary_address = fake.address()\n",
    "secondary_email_address   = fake.email()"
   ]
  },
  {
   "cell_type": "code",
   "execution_count": 102,
   "id": "1f4eb2e6-b188-4c87-8dee-5977726a4368",
   "metadata": {
    "tags": []
   },
   "outputs": [
    {
     "name": "stdout",
     "output_type": "stream",
     "text": [
      "Kim Young 59881 Haley River Apt. 781\n",
      "Adammouth, RI 96334 pknapp@example.com\n"
     ]
    }
   ],
   "source": [
    "print(primary_name,primary_address,email_address)"
   ]
  },
  {
   "cell_type": "code",
   "execution_count": 95,
   "id": "2aea5c2f-1c81-4280-a232-0cde040b06dd",
   "metadata": {
    "tags": []
   },
   "outputs": [],
   "source": [
    "prompt = \"Compose a Legal Auto Claims Policy between the Insurer Chubb and {} \\\n",
    "\\nAddress: {} \\nEmail:   {}   \\\n",
    "\\n The Legal Auto Claims Policy must include the Address and Email Information at the beginning of the Legal Auto Claims Policy.  \\\n",
    "\\nThe Legal Policy must have different subsections.\\\n",
    "The subsections are \\\n",
    "a) Automobile Liability Insurance. b) Automobile Medical Payments. c) Automobile Debt Indemnity Insurance. \\\n",
    "d) Uninsured Motorists Insurance. e) Default Provisions. f) Personal Injury Protection. g) Collision Insurance. h) Comprehensive Insurance. i) Rental Reimbursement Insurance. j) Towing and Labor Coverage.\\\n",
    "k) Waiver of Deductible. Each subsection must include Exclusions.  Each subsection must include LIMITS OF LIABILITY; What is not covered. \\\n",
    "The Legal Auto Claims Policy must also include the following mailing contact information {}, {},{} \\\n",
    "\".format(primary_name,primary_address,email_address,secondary_name,secondary_address,secondary_email_address)"
   ]
  },
  {
   "cell_type": "code",
   "execution_count": 96,
   "id": "60eb1a9b-e39a-48a6-8eea-5332b25dc182",
   "metadata": {
    "tags": []
   },
   "outputs": [
    {
     "name": "stdout",
     "output_type": "stream",
     "text": [
      "Compose a Legal Auto Claims Policy between the Insurer Chubb and John Rivas \n",
      "Address: 9367 Saunders Lane\n",
      "Coreyland, WY 27862 \n",
      "Email:   pknapp@example.com   \n",
      " The Legal Auto Claims Policy must include the Address and Email Information at the beginning of the Legal Auto Claims Policy.  \n",
      "The Legal Policy must have different subsections.The subsections are a) Automobile Liability Insurance. b) Automobile Medical Payments. c) Automobile Debt Indemnity Insurance. d) Uninsured Motorists Insurance. e) Default Provisions. f) Personal Injury Protection. g) Collision Insurance. h) Comprehensive Insurance. i) Rental Reimbursement Insurance. j) Towing and Labor Coverage.k) Waiver of Deductible. Each subsection must include Exclusions.  Each subsection must include LIMITS OF LIABILITY; What is not covered. The Legal Auto Claims Policy must also include the following mailing contact information Heidi Hall, USNV Cruz\n",
      "FPO AE 98217,hernandezkathryn@example.com \n"
     ]
    }
   ],
   "source": [
    "print(prompt)"
   ]
  },
  {
   "cell_type": "code",
   "execution_count": 86,
   "id": "1d6772ab-be9d-4a15-849f-7f277435647b",
   "metadata": {
    "tags": []
   },
   "outputs": [
    {
     "data": {
      "text/plain": [
       "'Compose a Legal Auto Claims Policy between the Insurer Chubb and Vicki Brown \\nAddress: 4047 Catherine Islands\\nPort Kentton, CA 13429 \\nEmail:   pknapp@example.com   \\n The Legal Auto Claims Policy must include the Address and Email Information.  \\nThe Legal Policy must have different subsections.The subsections are a) Automobile Liability Insurance. b) Automobile Medical Payments. c) Automobile Debt Indemnity Insurance. d) Uninsured Motorists Insurance. e) Personal Injury Protection. f) Collision Insurance. g) Comprehensive Insurance. h) Rental Reimbursement Insurance. i) Towing and Labor Coverage.j) Waiver of Deductible. Each subsection must include Exclusions.  Each subsection must include LIMITS OF LIABILITY; What is not covered. The Legal Auto Claims Policy must also include the following mailing contact information Jason Weeks, 4452 Martinez Branch\\nPort Michael, MT 89571,vbradford@example.com '"
      ]
     },
     "execution_count": 86,
     "metadata": {},
     "output_type": "execute_result"
    }
   ],
   "source": [
    "prompt"
   ]
  },
  {
   "cell_type": "code",
   "execution_count": 97,
   "id": "7b494fc3-2b53-4d3d-b163-91cf48a312c9",
   "metadata": {
    "tags": []
   },
   "outputs": [
    {
     "name": "stdout",
     "output_type": "stream",
     "text": [
      "\u001b[1m> Input\u001b[0m\n",
      "Compose a Legal Auto Claims Policy between the Insurer Chubb and John Rivas \n",
      "Address: 9367 Saunders Lane\n",
      "Coreyland, WY 27862 \n",
      "Email:   pknapp@example.com   \n",
      " The Legal Auto Claims Policy must include the Address and Email Information at the beginning of the Legal Auto Claims Policy.  \n",
      "The Legal Policy must have different subsections.The subsections are a) Automobile Liability Insurance. b) Automobile Medical Payments. c) Automobile Debt Indemnity Insurance. d) Uninsured Motorists Insurance. e) Default Provisions. f) Personal Injury Protection. g) Collision Insurance. h) Comprehensive Insurance. i) Rental Reimbursement Insurance. j) Towing and Labor Coverage.k) Waiver of Deductible. Each subsection must include Exclusions.  Each subsection must include LIMITS OF LIABILITY; What is not covered. The Legal Auto Claims Policy must also include the following mailing contact information Heidi Hall, USNV Cruz\n",
      "FPO AE 98217,hernandezkathryn@example.com \n",
      "\n",
      "\u001b[1m> Output\u001b[0m\n",
      "\n",
      "\n",
      "Legal Auto Claims Policy\n",
      "\n",
      "I. INSURED PERSONS AND AUTOMOBILES\n",
      "\n",
      "This Legal Auto Claims Policy (the \"Policy\") is issued by Chubb Insurance Company of Europe SE, a German stock company with its registered office at Erlenburger Allee 1, 65185 Wiesbaden, Germany (\"Chubb\"). This Policy covers the following insured persons and automobiles:\n",
      "\n",
      "a) John Rivas, whose address is 9367 Saunders Lane, Coreyland, WY 27862, and whose email address is pknapp@example.com (the \"Insured\");\n",
      "b) Any other person using or responsible for the operation, maintenance, or repair of the Insured's covered automobile with the Insured's permission;\n",
      "c) Any automobile owned, leased, or rented by the Insured, including trailers and attachments, with a gross vehicle weight of less than 10,001 pounds (the \"Covered Automobile\").\n",
      "\n",
      "II. AUTOMOBILE LIABILITY INSURANCE\n",
      "\n",
      "a) Coverage\n",
      "Chubb will pay on behalf of the Insured for damages for which the Insured is legally liable, up to the policy limit, for bodily injury or property damage caused by an accident involving the Covered Automobile.\n",
      "\n",
      "b) Exclusions\n",
      "Chubb will not pay for damages arising from:\n",
      "i) Use of the Covered Automobile by anyone other than the Insured or a permitted driver;\n",
      "ii) Damages caused intentionally or knowingly by the Insured or a permitted driver;\n",
      "iii) Damages caused while the Covered Automobile is being used for racing, speed testing, or other competitive events;\n",
      "iv) Damages caused while the Covered Automobile is being used for business purposes, except as a rental vehicle;\n",
      "v) Damages caused by a vehicle not covered under this Policy;\n",
      "vi) Damages caused by a driver under the influence of alcohol or drugs, or while committing a felony.\n",
      "\n",
      "III. AUTOMOBILE MEDICAL PAYMENTS\n",
      "\n",
      "a) Coverage\n",
      "Chubb will pay for reasonable medical expenses incurred by the Insured or any covered passenger as a result of bodily injury caused by an accident involving the Covered Automobile, up to the policy limit.\n",
      "\n",
      "b) Exclusions\n",
      "Chubb will not pay for medical expenses arising from:\n",
      "i) Injuries sustained while occupying a vehicle not covered under this Policy;\n",
      "ii) Injuries sustained while committing a felony or driving under the influence of alcohol or drugs.\n",
      "\n",
      "IV. AUTOMOBILE DEBT INDEMNITY INSURANCE\n",
      "\n",
      "a) Coverage\n",
      "Chubb will pay, up to the policy limit, any debt owed by the Insured for damages to a non-owned vehicle or property caused by an accident involving the Covered Automobile.\n",
      "\n",
      "b) Exclusions\n",
      "Chubb will not pay for debts arising from:\n",
      "i) Damages caused intentionally or knowingly by the Insured or a permitted driver;\n",
      "ii) Damages caused while the Covered Automobile is being used for racing, speed testing, or other competitive events;\n",
      "iii) Damages caused while the Covered Automobile is being used for business purposes, except as a rental vehicle.\n",
      "\n",
      "V. UNINSURED MOTORISTS INSURANCE\n",
      "\n",
      "a) Coverage\n",
      "Chubb will pay, up to the policy limit, for damages resulting from bodily injury or property damage caused by an uninsured or underinsured motorist, a hit-and-run driver, or a motorist whose liability limits are insufficient to cover the damages.\n",
      "\n",
      "b) Exclusions\n",
      "Chubb will not pay for damages arising from:\n",
      "i) Damages caused while the Covered Automobile is being used for racing, speed testing, or other competitive events;\n",
      "ii) Damages caused while the Covered Automobile is being used for business purposes, except as a rental vehicle;\n",
      "iii) Damages caused by a driver under the influence of alcohol or drugs, or while committing a felony.\n",
      "\n",
      "VI. DEFAULT PROVISIONS\n",
      "\n",
      "a) Notice of Claim\n",
      "The Insured must provide Chubb with written notice of any claim or potential claim as soon as practicable but no later than 30 days after the Insured becomes aware of the claim.\n",
      "\n",
      "b) Cooperation\n",
      "The Insured must cooperate with Chubb in the investigation and settlement of any claim.\n",
      "\n",
      "c) Right to Settle\n",
      "Chubb has the right to settle any claim on behalf of the Insured.\n",
      "\n",
      "VII. PERSONAL INJURY PROTECTION\n",
      "\n",
      "a) Coverage\n",
      "Chubb will pay, up to the policy limit, for reasonable medical expenses, loss of income, and other reasonable expenses incurred by the Insured or any covered passenger as a result of bodily injury caused by an accident involving the Covered Automobile.\n",
      "\n",
      "b) Exclusions\n",
      "Chubb will not pay for expenses arising from:\n",
      "i) Injuries sustained while occupying a vehicle not covered under this Policy;\n",
      "ii) Injuries sustained while committing a felony or driving under the influence of alcohol or drugs.\n",
      "\n",
      "VIII. COLLISION INSURANCE\n",
      "\n",
      "a) Coverage\n",
      "Chubb will pay for\n",
      "\n"
     ]
    }
   ],
   "source": [
    "prompt = \"Compose a Legal Auto Claims Policy between the Insurer Chubb and {} \\\n",
    "\\nAddress: {} \\nEmail:   {}   \\\n",
    "\\n The Legal Auto Claims Policy must include the Address and Email Information at the beginning of the Legal Auto Claims Policy.  \\\n",
    "\\nThe Legal Policy must have different subsections.\\\n",
    "The subsections are \\\n",
    "a) Automobile Liability Insurance. b) Automobile Medical Payments. c) Automobile Debt Indemnity Insurance. \\\n",
    "d) Uninsured Motorists Insurance. e) Default Provisions. f) Personal Injury Protection. g) Collision Insurance. h) Comprehensive Insurance. i) Rental Reimbursement Insurance. j) Towing and Labor Coverage.\\\n",
    "k) Waiver of Deductible. Each subsection must include Exclusions.  Each subsection must include LIMITS OF LIABILITY; What is not covered. \\\n",
    "The Legal Auto Claims Policy must also include the following mailing contact information {}, {},{} \\\n",
    "\".format(primary_name,primary_address,email_address,secondary_name,secondary_address,secondary_email_address)\n",
    "\n",
    "payload = {\n",
    "    \"inputs\": prompt,\n",
    "    \"parameters\": {\n",
    "        \"max_new_tokens\": 1200,\n",
    "        \"no_repeat_ngram_size\": 3,\n",
    "    },\n",
    "}\n",
    "response = predictor.predict(payload)\n",
    "print_prompt_and_response(prompt, response)"
   ]
  },
  {
   "cell_type": "markdown",
   "id": "7a83b703",
   "metadata": {},
   "source": [
    "## Clean up the endpoint"
   ]
  },
  {
   "cell_type": "code",
   "execution_count": 18,
   "id": "97c5e505",
   "metadata": {
    "tags": []
   },
   "outputs": [],
   "source": [
    "#predictor.delete_model()\n",
    "#predictor.delete_endpoint()"
   ]
  },
  {
   "cell_type": "code",
   "execution_count": null,
   "id": "3844a70c-ff66-42b4-a400-cca8a3d6a7dd",
   "metadata": {},
   "outputs": [],
   "source": []
  }
 ],
 "metadata": {
  "availableInstances": [
   {
    "_defaultOrder": 0,
    "_isFastLaunch": true,
    "category": "General purpose",
    "gpuNum": 0,
    "hideHardwareSpecs": false,
    "memoryGiB": 4,
    "name": "ml.t3.medium",
    "vcpuNum": 2
   },
   {
    "_defaultOrder": 1,
    "_isFastLaunch": false,
    "category": "General purpose",
    "gpuNum": 0,
    "hideHardwareSpecs": false,
    "memoryGiB": 8,
    "name": "ml.t3.large",
    "vcpuNum": 2
   },
   {
    "_defaultOrder": 2,
    "_isFastLaunch": false,
    "category": "General purpose",
    "gpuNum": 0,
    "hideHardwareSpecs": false,
    "memoryGiB": 16,
    "name": "ml.t3.xlarge",
    "vcpuNum": 4
   },
   {
    "_defaultOrder": 3,
    "_isFastLaunch": false,
    "category": "General purpose",
    "gpuNum": 0,
    "hideHardwareSpecs": false,
    "memoryGiB": 32,
    "name": "ml.t3.2xlarge",
    "vcpuNum": 8
   },
   {
    "_defaultOrder": 4,
    "_isFastLaunch": true,
    "category": "General purpose",
    "gpuNum": 0,
    "hideHardwareSpecs": false,
    "memoryGiB": 8,
    "name": "ml.m5.large",
    "vcpuNum": 2
   },
   {
    "_defaultOrder": 5,
    "_isFastLaunch": false,
    "category": "General purpose",
    "gpuNum": 0,
    "hideHardwareSpecs": false,
    "memoryGiB": 16,
    "name": "ml.m5.xlarge",
    "vcpuNum": 4
   },
   {
    "_defaultOrder": 6,
    "_isFastLaunch": false,
    "category": "General purpose",
    "gpuNum": 0,
    "hideHardwareSpecs": false,
    "memoryGiB": 32,
    "name": "ml.m5.2xlarge",
    "vcpuNum": 8
   },
   {
    "_defaultOrder": 7,
    "_isFastLaunch": false,
    "category": "General purpose",
    "gpuNum": 0,
    "hideHardwareSpecs": false,
    "memoryGiB": 64,
    "name": "ml.m5.4xlarge",
    "vcpuNum": 16
   },
   {
    "_defaultOrder": 8,
    "_isFastLaunch": false,
    "category": "General purpose",
    "gpuNum": 0,
    "hideHardwareSpecs": false,
    "memoryGiB": 128,
    "name": "ml.m5.8xlarge",
    "vcpuNum": 32
   },
   {
    "_defaultOrder": 9,
    "_isFastLaunch": false,
    "category": "General purpose",
    "gpuNum": 0,
    "hideHardwareSpecs": false,
    "memoryGiB": 192,
    "name": "ml.m5.12xlarge",
    "vcpuNum": 48
   },
   {
    "_defaultOrder": 10,
    "_isFastLaunch": false,
    "category": "General purpose",
    "gpuNum": 0,
    "hideHardwareSpecs": false,
    "memoryGiB": 256,
    "name": "ml.m5.16xlarge",
    "vcpuNum": 64
   },
   {
    "_defaultOrder": 11,
    "_isFastLaunch": false,
    "category": "General purpose",
    "gpuNum": 0,
    "hideHardwareSpecs": false,
    "memoryGiB": 384,
    "name": "ml.m5.24xlarge",
    "vcpuNum": 96
   },
   {
    "_defaultOrder": 12,
    "_isFastLaunch": false,
    "category": "General purpose",
    "gpuNum": 0,
    "hideHardwareSpecs": false,
    "memoryGiB": 8,
    "name": "ml.m5d.large",
    "vcpuNum": 2
   },
   {
    "_defaultOrder": 13,
    "_isFastLaunch": false,
    "category": "General purpose",
    "gpuNum": 0,
    "hideHardwareSpecs": false,
    "memoryGiB": 16,
    "name": "ml.m5d.xlarge",
    "vcpuNum": 4
   },
   {
    "_defaultOrder": 14,
    "_isFastLaunch": false,
    "category": "General purpose",
    "gpuNum": 0,
    "hideHardwareSpecs": false,
    "memoryGiB": 32,
    "name": "ml.m5d.2xlarge",
    "vcpuNum": 8
   },
   {
    "_defaultOrder": 15,
    "_isFastLaunch": false,
    "category": "General purpose",
    "gpuNum": 0,
    "hideHardwareSpecs": false,
    "memoryGiB": 64,
    "name": "ml.m5d.4xlarge",
    "vcpuNum": 16
   },
   {
    "_defaultOrder": 16,
    "_isFastLaunch": false,
    "category": "General purpose",
    "gpuNum": 0,
    "hideHardwareSpecs": false,
    "memoryGiB": 128,
    "name": "ml.m5d.8xlarge",
    "vcpuNum": 32
   },
   {
    "_defaultOrder": 17,
    "_isFastLaunch": false,
    "category": "General purpose",
    "gpuNum": 0,
    "hideHardwareSpecs": false,
    "memoryGiB": 192,
    "name": "ml.m5d.12xlarge",
    "vcpuNum": 48
   },
   {
    "_defaultOrder": 18,
    "_isFastLaunch": false,
    "category": "General purpose",
    "gpuNum": 0,
    "hideHardwareSpecs": false,
    "memoryGiB": 256,
    "name": "ml.m5d.16xlarge",
    "vcpuNum": 64
   },
   {
    "_defaultOrder": 19,
    "_isFastLaunch": false,
    "category": "General purpose",
    "gpuNum": 0,
    "hideHardwareSpecs": false,
    "memoryGiB": 384,
    "name": "ml.m5d.24xlarge",
    "vcpuNum": 96
   },
   {
    "_defaultOrder": 20,
    "_isFastLaunch": false,
    "category": "General purpose",
    "gpuNum": 0,
    "hideHardwareSpecs": true,
    "memoryGiB": 0,
    "name": "ml.geospatial.interactive",
    "supportedImageNames": [
     "sagemaker-geospatial-v1-0"
    ],
    "vcpuNum": 0
   },
   {
    "_defaultOrder": 21,
    "_isFastLaunch": true,
    "category": "Compute optimized",
    "gpuNum": 0,
    "hideHardwareSpecs": false,
    "memoryGiB": 4,
    "name": "ml.c5.large",
    "vcpuNum": 2
   },
   {
    "_defaultOrder": 22,
    "_isFastLaunch": false,
    "category": "Compute optimized",
    "gpuNum": 0,
    "hideHardwareSpecs": false,
    "memoryGiB": 8,
    "name": "ml.c5.xlarge",
    "vcpuNum": 4
   },
   {
    "_defaultOrder": 23,
    "_isFastLaunch": false,
    "category": "Compute optimized",
    "gpuNum": 0,
    "hideHardwareSpecs": false,
    "memoryGiB": 16,
    "name": "ml.c5.2xlarge",
    "vcpuNum": 8
   },
   {
    "_defaultOrder": 24,
    "_isFastLaunch": false,
    "category": "Compute optimized",
    "gpuNum": 0,
    "hideHardwareSpecs": false,
    "memoryGiB": 32,
    "name": "ml.c5.4xlarge",
    "vcpuNum": 16
   },
   {
    "_defaultOrder": 25,
    "_isFastLaunch": false,
    "category": "Compute optimized",
    "gpuNum": 0,
    "hideHardwareSpecs": false,
    "memoryGiB": 72,
    "name": "ml.c5.9xlarge",
    "vcpuNum": 36
   },
   {
    "_defaultOrder": 26,
    "_isFastLaunch": false,
    "category": "Compute optimized",
    "gpuNum": 0,
    "hideHardwareSpecs": false,
    "memoryGiB": 96,
    "name": "ml.c5.12xlarge",
    "vcpuNum": 48
   },
   {
    "_defaultOrder": 27,
    "_isFastLaunch": false,
    "category": "Compute optimized",
    "gpuNum": 0,
    "hideHardwareSpecs": false,
    "memoryGiB": 144,
    "name": "ml.c5.18xlarge",
    "vcpuNum": 72
   },
   {
    "_defaultOrder": 28,
    "_isFastLaunch": false,
    "category": "Compute optimized",
    "gpuNum": 0,
    "hideHardwareSpecs": false,
    "memoryGiB": 192,
    "name": "ml.c5.24xlarge",
    "vcpuNum": 96
   },
   {
    "_defaultOrder": 29,
    "_isFastLaunch": true,
    "category": "Accelerated computing",
    "gpuNum": 1,
    "hideHardwareSpecs": false,
    "memoryGiB": 16,
    "name": "ml.g4dn.xlarge",
    "vcpuNum": 4
   },
   {
    "_defaultOrder": 30,
    "_isFastLaunch": false,
    "category": "Accelerated computing",
    "gpuNum": 1,
    "hideHardwareSpecs": false,
    "memoryGiB": 32,
    "name": "ml.g4dn.2xlarge",
    "vcpuNum": 8
   },
   {
    "_defaultOrder": 31,
    "_isFastLaunch": false,
    "category": "Accelerated computing",
    "gpuNum": 1,
    "hideHardwareSpecs": false,
    "memoryGiB": 64,
    "name": "ml.g4dn.4xlarge",
    "vcpuNum": 16
   },
   {
    "_defaultOrder": 32,
    "_isFastLaunch": false,
    "category": "Accelerated computing",
    "gpuNum": 1,
    "hideHardwareSpecs": false,
    "memoryGiB": 128,
    "name": "ml.g4dn.8xlarge",
    "vcpuNum": 32
   },
   {
    "_defaultOrder": 33,
    "_isFastLaunch": false,
    "category": "Accelerated computing",
    "gpuNum": 4,
    "hideHardwareSpecs": false,
    "memoryGiB": 192,
    "name": "ml.g4dn.12xlarge",
    "vcpuNum": 48
   },
   {
    "_defaultOrder": 34,
    "_isFastLaunch": false,
    "category": "Accelerated computing",
    "gpuNum": 1,
    "hideHardwareSpecs": false,
    "memoryGiB": 256,
    "name": "ml.g4dn.16xlarge",
    "vcpuNum": 64
   },
   {
    "_defaultOrder": 35,
    "_isFastLaunch": false,
    "category": "Accelerated computing",
    "gpuNum": 1,
    "hideHardwareSpecs": false,
    "memoryGiB": 61,
    "name": "ml.p3.2xlarge",
    "vcpuNum": 8
   },
   {
    "_defaultOrder": 36,
    "_isFastLaunch": false,
    "category": "Accelerated computing",
    "gpuNum": 4,
    "hideHardwareSpecs": false,
    "memoryGiB": 244,
    "name": "ml.p3.8xlarge",
    "vcpuNum": 32
   },
   {
    "_defaultOrder": 37,
    "_isFastLaunch": false,
    "category": "Accelerated computing",
    "gpuNum": 8,
    "hideHardwareSpecs": false,
    "memoryGiB": 488,
    "name": "ml.p3.16xlarge",
    "vcpuNum": 64
   },
   {
    "_defaultOrder": 38,
    "_isFastLaunch": false,
    "category": "Accelerated computing",
    "gpuNum": 8,
    "hideHardwareSpecs": false,
    "memoryGiB": 768,
    "name": "ml.p3dn.24xlarge",
    "vcpuNum": 96
   },
   {
    "_defaultOrder": 39,
    "_isFastLaunch": false,
    "category": "Memory Optimized",
    "gpuNum": 0,
    "hideHardwareSpecs": false,
    "memoryGiB": 16,
    "name": "ml.r5.large",
    "vcpuNum": 2
   },
   {
    "_defaultOrder": 40,
    "_isFastLaunch": false,
    "category": "Memory Optimized",
    "gpuNum": 0,
    "hideHardwareSpecs": false,
    "memoryGiB": 32,
    "name": "ml.r5.xlarge",
    "vcpuNum": 4
   },
   {
    "_defaultOrder": 41,
    "_isFastLaunch": false,
    "category": "Memory Optimized",
    "gpuNum": 0,
    "hideHardwareSpecs": false,
    "memoryGiB": 64,
    "name": "ml.r5.2xlarge",
    "vcpuNum": 8
   },
   {
    "_defaultOrder": 42,
    "_isFastLaunch": false,
    "category": "Memory Optimized",
    "gpuNum": 0,
    "hideHardwareSpecs": false,
    "memoryGiB": 128,
    "name": "ml.r5.4xlarge",
    "vcpuNum": 16
   },
   {
    "_defaultOrder": 43,
    "_isFastLaunch": false,
    "category": "Memory Optimized",
    "gpuNum": 0,
    "hideHardwareSpecs": false,
    "memoryGiB": 256,
    "name": "ml.r5.8xlarge",
    "vcpuNum": 32
   },
   {
    "_defaultOrder": 44,
    "_isFastLaunch": false,
    "category": "Memory Optimized",
    "gpuNum": 0,
    "hideHardwareSpecs": false,
    "memoryGiB": 384,
    "name": "ml.r5.12xlarge",
    "vcpuNum": 48
   },
   {
    "_defaultOrder": 45,
    "_isFastLaunch": false,
    "category": "Memory Optimized",
    "gpuNum": 0,
    "hideHardwareSpecs": false,
    "memoryGiB": 512,
    "name": "ml.r5.16xlarge",
    "vcpuNum": 64
   },
   {
    "_defaultOrder": 46,
    "_isFastLaunch": false,
    "category": "Memory Optimized",
    "gpuNum": 0,
    "hideHardwareSpecs": false,
    "memoryGiB": 768,
    "name": "ml.r5.24xlarge",
    "vcpuNum": 96
   },
   {
    "_defaultOrder": 47,
    "_isFastLaunch": false,
    "category": "Accelerated computing",
    "gpuNum": 1,
    "hideHardwareSpecs": false,
    "memoryGiB": 16,
    "name": "ml.g5.xlarge",
    "vcpuNum": 4
   },
   {
    "_defaultOrder": 48,
    "_isFastLaunch": false,
    "category": "Accelerated computing",
    "gpuNum": 1,
    "hideHardwareSpecs": false,
    "memoryGiB": 32,
    "name": "ml.g5.2xlarge",
    "vcpuNum": 8
   },
   {
    "_defaultOrder": 49,
    "_isFastLaunch": false,
    "category": "Accelerated computing",
    "gpuNum": 1,
    "hideHardwareSpecs": false,
    "memoryGiB": 64,
    "name": "ml.g5.4xlarge",
    "vcpuNum": 16
   },
   {
    "_defaultOrder": 50,
    "_isFastLaunch": false,
    "category": "Accelerated computing",
    "gpuNum": 1,
    "hideHardwareSpecs": false,
    "memoryGiB": 128,
    "name": "ml.g5.8xlarge",
    "vcpuNum": 32
   },
   {
    "_defaultOrder": 51,
    "_isFastLaunch": false,
    "category": "Accelerated computing",
    "gpuNum": 1,
    "hideHardwareSpecs": false,
    "memoryGiB": 256,
    "name": "ml.g5.16xlarge",
    "vcpuNum": 64
   },
   {
    "_defaultOrder": 52,
    "_isFastLaunch": false,
    "category": "Accelerated computing",
    "gpuNum": 4,
    "hideHardwareSpecs": false,
    "memoryGiB": 192,
    "name": "ml.g5.12xlarge",
    "vcpuNum": 48
   },
   {
    "_defaultOrder": 53,
    "_isFastLaunch": false,
    "category": "Accelerated computing",
    "gpuNum": 4,
    "hideHardwareSpecs": false,
    "memoryGiB": 384,
    "name": "ml.g5.24xlarge",
    "vcpuNum": 96
   },
   {
    "_defaultOrder": 54,
    "_isFastLaunch": false,
    "category": "Accelerated computing",
    "gpuNum": 8,
    "hideHardwareSpecs": false,
    "memoryGiB": 768,
    "name": "ml.g5.48xlarge",
    "vcpuNum": 192
   },
   {
    "_defaultOrder": 55,
    "_isFastLaunch": false,
    "category": "Accelerated computing",
    "gpuNum": 8,
    "hideHardwareSpecs": false,
    "memoryGiB": 1152,
    "name": "ml.p4d.24xlarge",
    "vcpuNum": 96
   },
   {
    "_defaultOrder": 56,
    "_isFastLaunch": false,
    "category": "Accelerated computing",
    "gpuNum": 8,
    "hideHardwareSpecs": false,
    "memoryGiB": 1152,
    "name": "ml.p4de.24xlarge",
    "vcpuNum": 96
   },
   {
    "_defaultOrder": 57,
    "_isFastLaunch": false,
    "category": "Accelerated computing",
    "gpuNum": 0,
    "hideHardwareSpecs": false,
    "memoryGiB": 32,
    "name": "ml.trn1.2xlarge",
    "vcpuNum": 8
   },
   {
    "_defaultOrder": 58,
    "_isFastLaunch": false,
    "category": "Accelerated computing",
    "gpuNum": 0,
    "hideHardwareSpecs": false,
    "memoryGiB": 512,
    "name": "ml.trn1.32xlarge",
    "vcpuNum": 128
   },
   {
    "_defaultOrder": 59,
    "_isFastLaunch": false,
    "category": "Accelerated computing",
    "gpuNum": 0,
    "hideHardwareSpecs": false,
    "memoryGiB": 512,
    "name": "ml.trn1n.32xlarge",
    "vcpuNum": 128
   }
  ],
  "instance_type": "ml.m5.large",
  "kernelspec": {
   "display_name": "Python 3 (Data Science 2.0)",
   "language": "python",
   "name": "python3__SAGEMAKER_INTERNAL__arn:aws:sagemaker:us-east-1:081325390199:image/sagemaker-data-science-38"
  },
  "language_info": {
   "codemirror_mode": {
    "name": "ipython",
    "version": 3
   },
   "file_extension": ".py",
   "mimetype": "text/x-python",
   "name": "python",
   "nbconvert_exporter": "python",
   "pygments_lexer": "ipython3",
   "version": "3.8.13"
  }
 },
 "nbformat": 4,
 "nbformat_minor": 5
}
